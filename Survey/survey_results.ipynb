{
 "cells": [
  {
   "cell_type": "code",
   "execution_count": 1,
   "metadata": {},
   "outputs": [],
   "source": [
    "import numpy as np\n",
    "import pandas as pd\n",
    "import os\n",
    "\n",
    "pd.set_option('display.max_columns', None)"
   ]
  },
  {
   "cell_type": "code",
   "execution_count": 2,
   "metadata": {},
   "outputs": [
    {
     "name": "stdout",
     "output_type": "stream",
     "text": [
      "C:\\Users\\danie\\Documents\\StageDaniel\n"
     ]
    }
   ],
   "source": [
    "cd .."
   ]
  },
  {
   "cell_type": "code",
   "execution_count": 4,
   "metadata": {},
   "outputs": [
    {
     "name": "stdout",
     "output_type": "stream",
     "text": [
      "C:\\Users\\danie\\Documents\\StageDaniel\\Survey\n"
     ]
    }
   ],
   "source": [
    "cd Survey"
   ]
  },
  {
   "cell_type": "code",
   "execution_count": 5,
   "metadata": {},
   "outputs": [
    {
     "data": {
      "text/html": [
       "<div>\n",
       "<style scoped>\n",
       "    .dataframe tbody tr th:only-of-type {\n",
       "        vertical-align: middle;\n",
       "    }\n",
       "\n",
       "    .dataframe tbody tr th {\n",
       "        vertical-align: top;\n",
       "    }\n",
       "\n",
       "    .dataframe thead th {\n",
       "        text-align: right;\n",
       "    }\n",
       "</style>\n",
       "<table border=\"1\" class=\"dataframe\">\n",
       "  <thead>\n",
       "    <tr style=\"text-align: right;\">\n",
       "      <th></th>\n",
       "      <th>ID</th>\n",
       "      <th>Time</th>\n",
       "      <th>Q01</th>\n",
       "      <th>Q02</th>\n",
       "      <th>Q03</th>\n",
       "      <th>Q04</th>\n",
       "      <th>Q05</th>\n",
       "      <th>Q06</th>\n",
       "      <th>Q07</th>\n",
       "      <th>Q08</th>\n",
       "      <th>Q09</th>\n",
       "      <th>Q10</th>\n",
       "      <th>Q11</th>\n",
       "      <th>Q12</th>\n",
       "      <th>Q13</th>\n",
       "      <th>Q14</th>\n",
       "      <th>Q15</th>\n",
       "      <th>Q16</th>\n",
       "      <th>Q17</th>\n",
       "      <th>Q18</th>\n",
       "      <th>Q19</th>\n",
       "      <th>Q20</th>\n",
       "      <th>Q21</th>\n",
       "      <th>Q22</th>\n",
       "      <th>Q23</th>\n",
       "      <th>Q24</th>\n",
       "      <th>Q25</th>\n",
       "      <th>Q26</th>\n",
       "    </tr>\n",
       "  </thead>\n",
       "  <tbody>\n",
       "    <tr>\n",
       "      <td>0</td>\n",
       "      <td>6</td>\n",
       "      <td>00:43:43</td>\n",
       "      <td>2</td>\n",
       "      <td>No</td>\n",
       "      <td>3</td>\n",
       "      <td>Correct</td>\n",
       "      <td>Unsure</td>\n",
       "      <td>7</td>\n",
       "      <td>6</td>\n",
       "      <td>6</td>\n",
       "      <td>2</td>\n",
       "      <td>Correct</td>\n",
       "      <td>7</td>\n",
       "      <td>7</td>\n",
       "      <td>6</td>\n",
       "      <td>2</td>\n",
       "      <td>Incorrect</td>\n",
       "      <td>3</td>\n",
       "      <td>6</td>\n",
       "      <td>6</td>\n",
       "      <td>2</td>\n",
       "      <td>Correct</td>\n",
       "      <td>5</td>\n",
       "      <td>4</td>\n",
       "      <td>6</td>\n",
       "      <td>Logit</td>\n",
       "      <td>AUC is een leuke metriek, maar ieder echt prob...</td>\n",
       "      <td>Zie chat ;)\\nSucces met je onderzoek.</td>\n",
       "    </tr>\n",
       "    <tr>\n",
       "      <td>1</td>\n",
       "      <td>7</td>\n",
       "      <td>00:19:44</td>\n",
       "      <td>3</td>\n",
       "      <td>No</td>\n",
       "      <td>3</td>\n",
       "      <td>Correct</td>\n",
       "      <td>Unsure</td>\n",
       "      <td>5</td>\n",
       "      <td>3</td>\n",
       "      <td>5</td>\n",
       "      <td>1</td>\n",
       "      <td>Correct</td>\n",
       "      <td>7</td>\n",
       "      <td>6</td>\n",
       "      <td>4</td>\n",
       "      <td>1</td>\n",
       "      <td>Correct</td>\n",
       "      <td>1</td>\n",
       "      <td>1</td>\n",
       "      <td>4</td>\n",
       "      <td>2</td>\n",
       "      <td>Correct</td>\n",
       "      <td>5</td>\n",
       "      <td>4</td>\n",
       "      <td>6</td>\n",
       "      <td>SHAP</td>\n",
       "      <td>Performs good and relatively easy to explain.</td>\n",
       "      <td>I did not understand question 16. I did not ne...</td>\n",
       "    </tr>\n",
       "    <tr>\n",
       "      <td>2</td>\n",
       "      <td>8</td>\n",
       "      <td>00:28:58</td>\n",
       "      <td>3</td>\n",
       "      <td>Yes</td>\n",
       "      <td>3</td>\n",
       "      <td>Correct</td>\n",
       "      <td>Correct</td>\n",
       "      <td>6</td>\n",
       "      <td>5</td>\n",
       "      <td>6</td>\n",
       "      <td>1</td>\n",
       "      <td>Incorrect</td>\n",
       "      <td>7</td>\n",
       "      <td>7</td>\n",
       "      <td>5</td>\n",
       "      <td>2</td>\n",
       "      <td>Correct</td>\n",
       "      <td>6</td>\n",
       "      <td>6</td>\n",
       "      <td>7</td>\n",
       "      <td>3</td>\n",
       "      <td>Correct</td>\n",
       "      <td>7</td>\n",
       "      <td>6</td>\n",
       "      <td>7</td>\n",
       "      <td>SHAP</td>\n",
       "      <td>SHAP shows the best performance, however I thi...</td>\n",
       "      <td>NaN</td>\n",
       "    </tr>\n",
       "    <tr>\n",
       "      <td>3</td>\n",
       "      <td>9</td>\n",
       "      <td>11:30:42</td>\n",
       "      <td>2</td>\n",
       "      <td>Yes</td>\n",
       "      <td>3</td>\n",
       "      <td>Correct</td>\n",
       "      <td>Incorrect</td>\n",
       "      <td>5</td>\n",
       "      <td>5</td>\n",
       "      <td>5</td>\n",
       "      <td>1</td>\n",
       "      <td>Incorrect</td>\n",
       "      <td>7</td>\n",
       "      <td>7</td>\n",
       "      <td>7</td>\n",
       "      <td>1</td>\n",
       "      <td>Incorrect</td>\n",
       "      <td>3</td>\n",
       "      <td>2</td>\n",
       "      <td>5</td>\n",
       "      <td>2</td>\n",
       "      <td>Correct</td>\n",
       "      <td>3</td>\n",
       "      <td>5</td>\n",
       "      <td>7</td>\n",
       "      <td>SHAP</td>\n",
       "      <td>As far as I understood, the XGBoost with SHAP ...</td>\n",
       "      <td>Good luck!\\n</td>\n",
       "    </tr>\n",
       "    <tr>\n",
       "      <td>4</td>\n",
       "      <td>10</td>\n",
       "      <td>00:57:03</td>\n",
       "      <td>2</td>\n",
       "      <td>No</td>\n",
       "      <td>3</td>\n",
       "      <td>Correct</td>\n",
       "      <td>Incorrect</td>\n",
       "      <td>6</td>\n",
       "      <td>6</td>\n",
       "      <td>6</td>\n",
       "      <td>1</td>\n",
       "      <td>Incorrect</td>\n",
       "      <td>7</td>\n",
       "      <td>7</td>\n",
       "      <td>7</td>\n",
       "      <td>2</td>\n",
       "      <td>Correct</td>\n",
       "      <td>6</td>\n",
       "      <td>6</td>\n",
       "      <td>6</td>\n",
       "      <td>2</td>\n",
       "      <td>Incorrect</td>\n",
       "      <td>5</td>\n",
       "      <td>6</td>\n",
       "      <td>6</td>\n",
       "      <td>Logit</td>\n",
       "      <td>It depends on the actual context or objective ...</td>\n",
       "      <td>NaN</td>\n",
       "    </tr>\n",
       "  </tbody>\n",
       "</table>\n",
       "</div>"
      ],
      "text/plain": [
       "   ID      Time  Q01  Q02  Q03      Q04        Q05  Q06  Q07  Q08  Q09  \\\n",
       "0   6  00:43:43    2   No    3  Correct     Unsure    7    6    6    2   \n",
       "1   7  00:19:44    3   No    3  Correct     Unsure    5    3    5    1   \n",
       "2   8  00:28:58    3  Yes    3  Correct    Correct    6    5    6    1   \n",
       "3   9  11:30:42    2  Yes    3  Correct  Incorrect    5    5    5    1   \n",
       "4  10  00:57:03    2   No    3  Correct  Incorrect    6    6    6    1   \n",
       "\n",
       "         Q10  Q11  Q12  Q13  Q14        Q15  Q16  Q17  Q18  Q19        Q20  \\\n",
       "0    Correct    7    7    6    2  Incorrect    3    6    6    2    Correct   \n",
       "1    Correct    7    6    4    1    Correct    1    1    4    2    Correct   \n",
       "2  Incorrect    7    7    5    2    Correct    6    6    7    3    Correct   \n",
       "3  Incorrect    7    7    7    1  Incorrect    3    2    5    2    Correct   \n",
       "4  Incorrect    7    7    7    2    Correct    6    6    6    2  Incorrect   \n",
       "\n",
       "   Q21  Q22  Q23    Q24                                                Q25  \\\n",
       "0    5    4    6  Logit  AUC is een leuke metriek, maar ieder echt prob...   \n",
       "1    5    4    6   SHAP     Performs good and relatively easy to explain.    \n",
       "2    7    6    7   SHAP  SHAP shows the best performance, however I thi...   \n",
       "3    3    5    7   SHAP  As far as I understood, the XGBoost with SHAP ...   \n",
       "4    5    6    6  Logit  It depends on the actual context or objective ...   \n",
       "\n",
       "                                                 Q26  \n",
       "0              Zie chat ;)\\nSucces met je onderzoek.  \n",
       "1  I did not understand question 16. I did not ne...  \n",
       "2                                                NaN  \n",
       "3                                       Good luck!\\n  \n",
       "4                                                NaN  "
      ]
     },
     "execution_count": 5,
     "metadata": {},
     "output_type": "execute_result"
    }
   ],
   "source": [
    "# Read survey results and encode questions for workability\"\n",
    "dataframe = pd.read_csv('survey_results_processed.csv', sep = ';')\n",
    "columns = dataframe.columns.values\n",
    "question_names = columns[2:]\n",
    "question_keys = [\"Q{:02d}\".format(x+1) for x in range(len(columns[2:]))]\n",
    "question_dic = dict(zip(question_keys, question_names))\n",
    "columns = np.concatenate((columns[:2], np.array(question_keys)))\n",
    "dataframe.columns = columns\n",
    "dataframe.head()"
   ]
  },
  {
   "cell_type": "code",
   "execution_count": 18,
   "metadata": {},
   "outputs": [
    {
     "name": "stdout",
     "output_type": "stream",
     "text": [
      "\\begin{tabular}{lrrr}\n",
      "\\toprule\n",
      "{} &  Understanding &  Stakeholders &  Practical Value \\\\\n",
      "\\midrule\n",
      "0 &           0.24 &          0.28 &             0.05 \\\\\n",
      "1 &           0.56 &          0.63 &             0.20 \\\\\n",
      "2 &           0.43 &          0.00 &             0.11 \\\\\n",
      "\\bottomrule\n",
      "\\end{tabular}\n",
      "\n"
     ]
    }
   ],
   "source": [
    "# Compute correlations between familiarity and the difference stated confidence levels\n",
    "\n",
    "Understanding = pd.Series([dataframe['Q09'].corr(dataframe['Q11']),dataframe['Q14'].corr(dataframe['Q16']),dataframe['Q19'].corr(dataframe['Q21'])])\n",
    "Stakeholders = pd.Series([dataframe['Q09'].corr(dataframe['Q12']),dataframe['Q14'].corr(dataframe['Q17']),dataframe['Q19'].corr(dataframe['Q22'])])\n",
    "Value = pd.Series([dataframe['Q09'].corr(dataframe['Q13']),dataframe['Q14'].corr(dataframe['Q18']),dataframe['Q19'].corr(dataframe['Q23'])])\n",
    "print(pd.DataFrame([Understanding,Stakeholders,Value], index = ['Understanding', 'Stakeholders', 'Practical Value']).transpose().round(2).to_latex())"
   ]
  },
  {
   "cell_type": "code",
   "execution_count": 22,
   "metadata": {},
   "outputs": [
    {
     "data": {
      "text/html": [
       "<div>\n",
       "<style scoped>\n",
       "    .dataframe tbody tr th:only-of-type {\n",
       "        vertical-align: middle;\n",
       "    }\n",
       "\n",
       "    .dataframe tbody tr th {\n",
       "        vertical-align: top;\n",
       "    }\n",
       "\n",
       "    .dataframe thead th {\n",
       "        text-align: right;\n",
       "    }\n",
       "</style>\n",
       "<table border=\"1\" class=\"dataframe\">\n",
       "  <thead>\n",
       "    <tr style=\"text-align: right;\">\n",
       "      <th></th>\n",
       "      <th>Familiarity</th>\n",
       "      <th>Understanding</th>\n",
       "      <th>Stakeholders</th>\n",
       "      <th>Model</th>\n",
       "    </tr>\n",
       "  </thead>\n",
       "  <tbody>\n",
       "    <tr>\n",
       "      <td>Logit</td>\n",
       "      <td>3.000000</td>\n",
       "      <td>5.214286</td>\n",
       "      <td>4.571429</td>\n",
       "      <td>5.357143</td>\n",
       "    </tr>\n",
       "    <tr>\n",
       "      <td>SLIM</td>\n",
       "      <td>1.357143</td>\n",
       "      <td>5.785714</td>\n",
       "      <td>5.714286</td>\n",
       "      <td>4.857143</td>\n",
       "    </tr>\n",
       "    <tr>\n",
       "      <td>EBM</td>\n",
       "      <td>1.785714</td>\n",
       "      <td>4.642857</td>\n",
       "      <td>4.428571</td>\n",
       "      <td>5.071429</td>\n",
       "    </tr>\n",
       "    <tr>\n",
       "      <td>SHAP</td>\n",
       "      <td>2.357143</td>\n",
       "      <td>5.428571</td>\n",
       "      <td>5.000000</td>\n",
       "      <td>5.857143</td>\n",
       "    </tr>\n",
       "  </tbody>\n",
       "</table>\n",
       "</div>"
      ],
      "text/plain": [
       "       Familiarity  Understanding  Stakeholders     Model\n",
       "Logit     3.000000       5.214286      4.571429  5.357143\n",
       "SLIM      1.357143       5.785714      5.714286  4.857143\n",
       "EBM       1.785714       4.642857      4.428571  5.071429\n",
       "SHAP      2.357143       5.428571      5.000000  5.857143"
      ]
     },
     "execution_count": 22,
     "metadata": {},
     "output_type": "execute_result"
    }
   ],
   "source": [
    "Logit = dataframe[['Q03','Q06', 'Q07', 'Q08']]\n",
    "SLIM = dataframe[['Q09','Q11', 'Q12', 'Q13']]\n",
    "EBM = dataframe[['Q14','Q16', 'Q17', 'Q18']]\n",
    "SHAP = dataframe[['Q19','Q21', 'Q22', 'Q23']]\n",
    "results = pd.DataFrame([Logit.mean().values,SLIM.mean(), EBM.mean(), SHAP.mean()], \n",
    "             columns = ['Familiarity', 'Understanding', 'Stakeholders', 'Model'], index = ['Logit', 'SLIM', 'EBM', 'SHAP'],)\n",
    "results"
   ]
  },
  {
   "cell_type": "code",
   "execution_count": 23,
   "metadata": {},
   "outputs": [
    {
     "name": "stdout",
     "output_type": "stream",
     "text": [
      "\\begin{tabular}{lrrrr}\n",
      "\\toprule\n",
      "{} &  Familiarity &  Understanding &  Stakeholders &  Model \\\\\n",
      "\\midrule\n",
      "Logit &         3.00 &           5.21 &          4.57 &   5.36 \\\\\n",
      "SLIM  &         1.36 &           5.79 &          5.71 &   4.86 \\\\\n",
      "EBM   &         1.79 &           4.64 &          4.43 &   5.07 \\\\\n",
      "SHAP  &         2.36 &           5.43 &          5.00 &   5.86 \\\\\n",
      "\\bottomrule\n",
      "\\end{tabular}\n",
      "\n"
     ]
    }
   ],
   "source": [
    "print(results.round(2).to_latex())"
   ]
  },
  {
   "cell_type": "code",
   "execution_count": 25,
   "metadata": {},
   "outputs": [
    {
     "data": {
      "text/html": [
       "<div>\n",
       "<style scoped>\n",
       "    .dataframe tbody tr th:only-of-type {\n",
       "        vertical-align: middle;\n",
       "    }\n",
       "\n",
       "    .dataframe tbody tr th {\n",
       "        vertical-align: top;\n",
       "    }\n",
       "\n",
       "    .dataframe thead th {\n",
       "        text-align: right;\n",
       "    }\n",
       "</style>\n",
       "<table border=\"1\" class=\"dataframe\">\n",
       "  <thead>\n",
       "    <tr style=\"text-align: right;\">\n",
       "      <th></th>\n",
       "      <th>Familiarity</th>\n",
       "      <th>Understanding</th>\n",
       "      <th>Stakeholders</th>\n",
       "      <th>Model</th>\n",
       "    </tr>\n",
       "  </thead>\n",
       "  <tbody>\n",
       "    <tr>\n",
       "      <td>Logit</td>\n",
       "      <td>0.000000</td>\n",
       "      <td>1.251373</td>\n",
       "      <td>1.504572</td>\n",
       "      <td>0.928783</td>\n",
       "    </tr>\n",
       "    <tr>\n",
       "      <td>SLIM</td>\n",
       "      <td>0.633324</td>\n",
       "      <td>1.528125</td>\n",
       "      <td>1.489893</td>\n",
       "      <td>1.747840</td>\n",
       "    </tr>\n",
       "    <tr>\n",
       "      <td>EBM</td>\n",
       "      <td>0.699293</td>\n",
       "      <td>1.549548</td>\n",
       "      <td>1.785165</td>\n",
       "      <td>1.206666</td>\n",
       "    </tr>\n",
       "    <tr>\n",
       "      <td>SHAP</td>\n",
       "      <td>0.633324</td>\n",
       "      <td>1.089410</td>\n",
       "      <td>1.240347</td>\n",
       "      <td>0.770329</td>\n",
       "    </tr>\n",
       "  </tbody>\n",
       "</table>\n",
       "</div>"
      ],
      "text/plain": [
       "       Familiarity  Understanding  Stakeholders     Model\n",
       "Logit     0.000000       1.251373      1.504572  0.928783\n",
       "SLIM      0.633324       1.528125      1.489893  1.747840\n",
       "EBM       0.699293       1.549548      1.785165  1.206666\n",
       "SHAP      0.633324       1.089410      1.240347  0.770329"
      ]
     },
     "execution_count": 25,
     "metadata": {},
     "output_type": "execute_result"
    }
   ],
   "source": [
    "results_sd = pd.DataFrame([Logit.std().values,SLIM.std(), EBM.std(), SHAP.std()], \n",
    "             columns = ['Familiarity', 'Understanding', 'Stakeholders', 'Model'], index = ['Logit', 'SLIM', 'EBM', 'SHAP'],)\n",
    "results_sd"
   ]
  },
  {
   "cell_type": "code",
   "execution_count": 26,
   "metadata": {},
   "outputs": [
    {
     "name": "stdout",
     "output_type": "stream",
     "text": [
      "\\begin{tabular}{lrrrr}\n",
      "\\toprule\n",
      "{} &  Familiarity &  Understanding &  Stakeholders &  Model \\\\\n",
      "\\midrule\n",
      "Logit &         0.00 &           1.25 &          1.50 &   0.93 \\\\\n",
      "SLIM  &         0.63 &           1.53 &          1.49 &   1.75 \\\\\n",
      "EBM   &         0.70 &           1.55 &          1.79 &   1.21 \\\\\n",
      "SHAP  &         0.63 &           1.09 &          1.24 &   0.77 \\\\\n",
      "\\bottomrule\n",
      "\\end{tabular}\n",
      "\n"
     ]
    }
   ],
   "source": [
    "print(results_sd.round(2).to_latex())"
   ]
  },
  {
   "cell_type": "code",
   "execution_count": 11,
   "metadata": {},
   "outputs": [
    {
     "data": {
      "text/html": [
       "<div>\n",
       "<style scoped>\n",
       "    .dataframe tbody tr th:only-of-type {\n",
       "        vertical-align: middle;\n",
       "    }\n",
       "\n",
       "    .dataframe tbody tr th {\n",
       "        vertical-align: top;\n",
       "    }\n",
       "\n",
       "    .dataframe thead th {\n",
       "        text-align: right;\n",
       "    }\n",
       "</style>\n",
       "<table border=\"1\" class=\"dataframe\">\n",
       "  <thead>\n",
       "    <tr style=\"text-align: right;\">\n",
       "      <th></th>\n",
       "      <th>Q24</th>\n",
       "      <th>Q25</th>\n",
       "      <th>Q26</th>\n",
       "    </tr>\n",
       "  </thead>\n",
       "  <tbody>\n",
       "    <tr>\n",
       "      <td>0</td>\n",
       "      <td>Logit</td>\n",
       "      <td>AUC is een leuke metriek, maar ieder echt prob...</td>\n",
       "      <td>Zie chat ;)\\nSucces met je onderzoek.</td>\n",
       "    </tr>\n",
       "    <tr>\n",
       "      <td>1</td>\n",
       "      <td>SHAP</td>\n",
       "      <td>Performs good and relatively easy to explain.</td>\n",
       "      <td>I did not understand question 16. I did not ne...</td>\n",
       "    </tr>\n",
       "    <tr>\n",
       "      <td>2</td>\n",
       "      <td>SHAP</td>\n",
       "      <td>SHAP shows the best performance, however I thi...</td>\n",
       "      <td>NaN</td>\n",
       "    </tr>\n",
       "    <tr>\n",
       "      <td>3</td>\n",
       "      <td>SHAP</td>\n",
       "      <td>As far as I understood, the XGBoost with SHAP ...</td>\n",
       "      <td>Good luck!\\n</td>\n",
       "    </tr>\n",
       "    <tr>\n",
       "      <td>4</td>\n",
       "      <td>Logit</td>\n",
       "      <td>It depends on the actual context or objective ...</td>\n",
       "      <td>NaN</td>\n",
       "    </tr>\n",
       "    <tr>\n",
       "      <td>5</td>\n",
       "      <td>SHAP</td>\n",
       "      <td>The force plot that you can generate with SHAP...</td>\n",
       "      <td>binary classification is the easiest of all ML...</td>\n",
       "    </tr>\n",
       "    <tr>\n",
       "      <td>6</td>\n",
       "      <td>SHAP</td>\n",
       "      <td>Sorry, cant see the AUC image. But I quite lik...</td>\n",
       "      <td>I struggled with answering the questions. Ther...</td>\n",
       "    </tr>\n",
       "    <tr>\n",
       "      <td>7</td>\n",
       "      <td>Logit</td>\n",
       "      <td>NaN</td>\n",
       "      <td>NaN</td>\n",
       "    </tr>\n",
       "    <tr>\n",
       "      <td>8</td>\n",
       "      <td>SHAP</td>\n",
       "      <td>NaN</td>\n",
       "      <td>NaN</td>\n",
       "    </tr>\n",
       "    <tr>\n",
       "      <td>9</td>\n",
       "      <td>SHAP</td>\n",
       "      <td>NaN</td>\n",
       "      <td>NaN</td>\n",
       "    </tr>\n",
       "    <tr>\n",
       "      <td>10</td>\n",
       "      <td>SLIM</td>\n",
       "      <td>Converting the summation of coefficients (beta...</td>\n",
       "      <td>Graphics load very slow. When clicking 'next p...</td>\n",
       "    </tr>\n",
       "    <tr>\n",
       "      <td>11</td>\n",
       "      <td>Logit</td>\n",
       "      <td>Logistic Regression is a well-known and transp...</td>\n",
       "      <td>If you have a good implementation of SLIM, ple...</td>\n",
       "    </tr>\n",
       "    <tr>\n",
       "      <td>12</td>\n",
       "      <td>SHAP</td>\n",
       "      <td>NaN</td>\n",
       "      <td>NaN</td>\n",
       "    </tr>\n",
       "    <tr>\n",
       "      <td>13</td>\n",
       "      <td>SHAP</td>\n",
       "      <td>The combination of a powerful classification M...</td>\n",
       "      <td>Nice work!</td>\n",
       "    </tr>\n",
       "  </tbody>\n",
       "</table>\n",
       "</div>"
      ],
      "text/plain": [
       "      Q24                                                Q25  \\\n",
       "0   Logit  AUC is een leuke metriek, maar ieder echt prob...   \n",
       "1    SHAP     Performs good and relatively easy to explain.    \n",
       "2    SHAP  SHAP shows the best performance, however I thi...   \n",
       "3    SHAP  As far as I understood, the XGBoost with SHAP ...   \n",
       "4   Logit  It depends on the actual context or objective ...   \n",
       "5    SHAP  The force plot that you can generate with SHAP...   \n",
       "6    SHAP  Sorry, cant see the AUC image. But I quite lik...   \n",
       "7   Logit                                                NaN   \n",
       "8    SHAP                                                NaN   \n",
       "9    SHAP                                                NaN   \n",
       "10   SLIM  Converting the summation of coefficients (beta...   \n",
       "11  Logit  Logistic Regression is a well-known and transp...   \n",
       "12   SHAP                                                NaN   \n",
       "13   SHAP  The combination of a powerful classification M...   \n",
       "\n",
       "                                                  Q26  \n",
       "0               Zie chat ;)\\nSucces met je onderzoek.  \n",
       "1   I did not understand question 16. I did not ne...  \n",
       "2                                                 NaN  \n",
       "3                                        Good luck!\\n  \n",
       "4                                                 NaN  \n",
       "5   binary classification is the easiest of all ML...  \n",
       "6   I struggled with answering the questions. Ther...  \n",
       "7                                                 NaN  \n",
       "8                                                 NaN  \n",
       "9                                                 NaN  \n",
       "10  Graphics load very slow. When clicking 'next p...  \n",
       "11  If you have a good implementation of SLIM, ple...  \n",
       "12                                                NaN  \n",
       "13                                         Nice work!  "
      ]
     },
     "execution_count": 11,
     "metadata": {},
     "output_type": "execute_result"
    }
   ],
   "source": [
    "dataframe[['Q24','Q25', 'Q26']]"
   ]
  },
  {
   "cell_type": "code",
   "execution_count": 12,
   "metadata": {},
   "outputs": [
    {
     "data": {
      "text/plain": [
       "\"The combination of a powerful classification ML algo with the possibility to 'explain' individual predictions by assigning contributions seems very powerfull. The other 3 methods may lack predictive power when applied on complex data sets. \""
      ]
     },
     "execution_count": 12,
     "metadata": {},
     "output_type": "execute_result"
    }
   ],
   "source": [
    "dataframe['Q25'].loc[13]"
   ]
  },
  {
   "cell_type": "code",
   "execution_count": 13,
   "metadata": {},
   "outputs": [
    {
     "data": {
      "text/plain": [
       "2     6\n",
       "5     5\n",
       "7     6\n",
       "11    6\n",
       "0     7\n",
       "1     7\n",
       "5     7\n",
       "6     6\n",
       "13    5\n",
       "1     1\n",
       "2     6\n",
       "4     6\n",
       "5     5\n",
       "6     6\n",
       "7     5\n",
       "8     5\n",
       "9     7\n",
       "10    5\n",
       "11    4\n",
       "12    5\n",
       "13    4\n",
       "0     5\n",
       "1     5\n",
       "2     7\n",
       "3     3\n",
       "5     7\n",
       "6     6\n",
       "7     5\n",
       "8     5\n",
       "9     7\n",
       "13    6\n",
       "4     5\n",
       "10    5\n",
       "11    5\n",
       "12    5\n",
       "dtype: int64"
      ]
     },
     "execution_count": 13,
     "metadata": {},
     "output_type": "execute_result"
    }
   ],
   "source": [
    "df = dataframe\n",
    "correct = df.loc[df['Q05'] == 'Correct'][['Q06']].iloc[:,0]\n",
    "correct = correct.append(df.loc[df['Q10'] == 'Correct'][['Q11']].iloc[:,0])\n",
    "correct = correct.append(df.loc[df['Q15'] == 'Correct'][['Q16']].iloc[:,0])\n",
    "correct = correct.append(df.loc[df['Q20'] == 'Correct'][['Q21']].iloc[:,0])\n",
    "\n",
    "incorrect = df.loc[df['Q05'] != 'Correct'][['Q06']].iloc[:,0]\n",
    "incorrect = correct.append(df.loc[df['Q10'] != 'Correct'][['Q11']].iloc[:,0])\n",
    "incorrect = correct.append(df.loc[df['Q15'] != 'Correct'][['Q16']].iloc[:,0])\n",
    "incorrect = correct.append(df.loc[df['Q20'] != 'Correct'][['Q21']].iloc[:,0])"
   ]
  },
  {
   "cell_type": "code",
   "execution_count": 14,
   "metadata": {},
   "outputs": [
    {
     "name": "stdout",
     "output_type": "stream",
     "text": [
      "4\n"
     ]
    },
    {
     "data": {
      "text/plain": [
       "Q03    3.00\n",
       "Q06    5.75\n",
       "Q07    4.75\n",
       "Q08    5.75\n",
       "dtype: float64"
      ]
     },
     "execution_count": 14,
     "metadata": {},
     "output_type": "execute_result"
    }
   ],
   "source": [
    "print(df.loc[df['Q05'] == 'Correct'][['Q03','Q06', 'Q07', 'Q08']].shape[0])\n",
    "df.loc[df['Q05'] == 'Correct'][['Q03','Q06', 'Q07', 'Q08']].mean()"
   ]
  },
  {
   "cell_type": "code",
   "execution_count": 15,
   "metadata": {},
   "outputs": [
    {
     "name": "stdout",
     "output_type": "stream",
     "text": [
      "10\n"
     ]
    },
    {
     "data": {
      "text/plain": [
       "Q03    3.0\n",
       "Q06    5.0\n",
       "Q07    4.5\n",
       "Q08    5.2\n",
       "dtype: float64"
      ]
     },
     "execution_count": 15,
     "metadata": {},
     "output_type": "execute_result"
    }
   ],
   "source": [
    "print(df.loc[df['Q05'] != 'Correct'][['Q03','Q06', 'Q07', 'Q08']].shape[0])\n",
    "df.loc[df['Q05'] != 'Correct'][['Q03','Q06', 'Q07', 'Q08']].mean()"
   ]
  },
  {
   "cell_type": "code",
   "execution_count": 16,
   "metadata": {},
   "outputs": [
    {
     "name": "stdout",
     "output_type": "stream",
     "text": [
      "5\n"
     ]
    },
    {
     "data": {
      "text/plain": [
       "Q09    1.6\n",
       "Q11    6.4\n",
       "Q12    6.2\n",
       "Q13    3.8\n",
       "dtype: float64"
      ]
     },
     "execution_count": 16,
     "metadata": {},
     "output_type": "execute_result"
    }
   ],
   "source": [
    "print(df.loc[df['Q10'] == 'Correct'][['Q09','Q11', 'Q12', 'Q13']].shape[0])\n",
    "df.loc[df['Q10'] == 'Correct'][['Q09','Q11', 'Q12', 'Q13']].mean()"
   ]
  },
  {
   "cell_type": "code",
   "execution_count": 56,
   "metadata": {},
   "outputs": [
    {
     "name": "stdout",
     "output_type": "stream",
     "text": [
      "9\n"
     ]
    },
    {
     "data": {
      "text/plain": [
       "Q09    1.222222\n",
       "Q11    5.444444\n",
       "Q12    5.444444\n",
       "Q13    5.444444\n",
       "dtype: float64"
      ]
     },
     "execution_count": 56,
     "metadata": {},
     "output_type": "execute_result"
    }
   ],
   "source": [
    "print(df.loc[df['Q10'] != 'Correct'][['Q09','Q11', 'Q12', 'Q13']].shape[0])\n",
    "df.loc[df['Q10'] != 'Correct'][['Q09','Q11', 'Q12', 'Q13']].mean()"
   ]
  },
  {
   "cell_type": "code",
   "execution_count": 60,
   "metadata": {},
   "outputs": [
    {
     "name": "stdout",
     "output_type": "stream",
     "text": [
      "12\n"
     ]
    },
    {
     "data": {
      "text/plain": [
       "Q14    1.833333\n",
       "Q16    4.916667\n",
       "Q17    4.500000\n",
       "Q18    5.000000\n",
       "dtype: float64"
      ]
     },
     "execution_count": 60,
     "metadata": {},
     "output_type": "execute_result"
    }
   ],
   "source": [
    "print(df.loc[df['Q15'] == 'Correct'][['Q14','Q16', 'Q17', 'Q18']].shape[0])\n",
    "df.loc[df['Q15'] == 'Correct'][['Q14','Q16', 'Q17', 'Q18']].mean()"
   ]
  },
  {
   "cell_type": "code",
   "execution_count": 61,
   "metadata": {},
   "outputs": [
    {
     "name": "stdout",
     "output_type": "stream",
     "text": [
      "2\n"
     ]
    },
    {
     "data": {
      "text/plain": [
       "Q14    1.5\n",
       "Q16    3.0\n",
       "Q17    4.0\n",
       "Q18    5.5\n",
       "dtype: float64"
      ]
     },
     "execution_count": 61,
     "metadata": {},
     "output_type": "execute_result"
    }
   ],
   "source": [
    "print(df.loc[df['Q15'] != 'Correct'][['Q14','Q16', 'Q17', 'Q18']].shape[0])\n",
    "df.loc[df['Q15'] != 'Correct'][['Q14','Q16', 'Q17', 'Q18']].mean()"
   ]
  },
  {
   "cell_type": "code",
   "execution_count": 62,
   "metadata": {},
   "outputs": [
    {
     "name": "stdout",
     "output_type": "stream",
     "text": [
      "10\n"
     ]
    },
    {
     "data": {
      "text/plain": [
       "Q19    2.5\n",
       "Q21    5.6\n",
       "Q22    5.3\n",
       "Q23    6.1\n",
       "dtype: float64"
      ]
     },
     "execution_count": 62,
     "metadata": {},
     "output_type": "execute_result"
    }
   ],
   "source": [
    "print(df.loc[df['Q20'] == 'Correct'][['Q19','Q21', 'Q22', 'Q23']].shape[0])\n",
    "df.loc[df['Q20'] == 'Correct'][['Q19','Q21', 'Q22', 'Q23']].mean()"
   ]
  },
  {
   "cell_type": "code",
   "execution_count": 63,
   "metadata": {},
   "outputs": [
    {
     "name": "stdout",
     "output_type": "stream",
     "text": [
      "4\n"
     ]
    },
    {
     "data": {
      "text/plain": [
       "Q19    2.00\n",
       "Q21    5.00\n",
       "Q22    4.25\n",
       "Q23    5.25\n",
       "dtype: float64"
      ]
     },
     "execution_count": 63,
     "metadata": {},
     "output_type": "execute_result"
    }
   ],
   "source": [
    "print(df.loc[df['Q20'] != 'Correct'][['Q19','Q21', 'Q22', 'Q23']].shape[0])\n",
    "df.loc[df['Q20'] != 'Correct'][['Q19','Q21', 'Q22', 'Q23']].mean()"
   ]
  },
  {
   "cell_type": "code",
   "execution_count": 92,
   "metadata": {},
   "outputs": [
    {
     "data": {
      "text/plain": [
       "{'Q01': 'How would you rate your background in Machine Learning?',\n",
       " 'Q02': 'Have you ever seen or used the UCI adult income data set?',\n",
       " 'Q03': 'Please rank your familiarity with the Logistic Regression model',\n",
       " 'Q04': 'Here, the estimated beta coefficients are displayed for the adult data set. Does the model make use of gender to explain/predict income?',\n",
       " 'Q05': 'Below an explained prediction is displayed for a single observation i from the adult income data.\\nWould the model prediction (consider a threshold of 0.5) have changed if this person had not had a...',\n",
       " 'Q06': 'How confident are you in your understanding of this explanation method',\n",
       " 'Q07': 'How confident are you explaining this prediction to your stakeholders using this method?',\n",
       " 'Q08': 'How confident are you that the underlying model could be of value in practice?',\n",
       " 'Q09': 'Please rank your familiarity with the SLIM model',\n",
       " 'Q10': 'Below is the trained scoring system in practice for predicting a certain observation i from the adult data set.\\nWould the model prediction be different if the person in question had had a high sch...',\n",
       " 'Q11': 'How confident are you in your understanding of this explanation',\n",
       " 'Q12': 'How confident are you explaining this prediction to your stakeholders using this method?2',\n",
       " 'Q13': 'How confident are you that the underlying model could be of value in practice?2',\n",
       " 'Q14': 'Please rank your familiarity with the EBM model',\n",
       " 'Q15': 'Below you see an explanation for a prediction on the adult data set made by the EBM model.\\nDid the EBM make a correct prediction for this observation, considering a threshold of 0.5?',\n",
       " 'Q16': 'How confident are you in your understanding of this visualization',\n",
       " 'Q17': 'How confident are you explaining this prediction to your stakeholders using this method?3',\n",
       " 'Q18': 'How confident are you that the underlying model could be of value in practice?3',\n",
       " 'Q19': 'Please rank your familiarity with SHAP (Shapley values)',\n",
       " 'Q20': 'Below an explained prediction is displayed for a single observation i from the adult income data.\\nWhich feature is the strongest contributor in favor of a high income prediction despite a model pr...',\n",
       " 'Q21': 'How confident are you in your understanding of this visualization2',\n",
       " 'Q22': 'How confident are you explaining this prediction to your stakeholders using this method?4',\n",
       " 'Q23': 'How confident are you that the underlying model could be of value in practice?4',\n",
       " 'Q24': 'Considering the previously shown explanations and the above performance, what would be your preferred model and explanation method of choice',\n",
       " 'Q25': 'Reasoning (Optional)',\n",
       " 'Q26': 'Do you have any final comment or remark?'}"
      ]
     },
     "execution_count": 92,
     "metadata": {},
     "output_type": "execute_result"
    }
   ],
   "source": [
    "question_dic"
   ]
  },
  {
   "cell_type": "code",
   "execution_count": null,
   "metadata": {},
   "outputs": [],
   "source": []
  }
 ],
 "metadata": {
  "kernelspec": {
   "display_name": "Python 3",
   "language": "python",
   "name": "python3"
  },
  "language_info": {
   "codemirror_mode": {
    "name": "ipython",
    "version": 3
   },
   "file_extension": ".py",
   "mimetype": "text/x-python",
   "name": "python",
   "nbconvert_exporter": "python",
   "pygments_lexer": "ipython3",
   "version": "3.7.4"
  }
 },
 "nbformat": 4,
 "nbformat_minor": 4
}
