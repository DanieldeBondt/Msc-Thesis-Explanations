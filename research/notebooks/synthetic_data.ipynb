{
 "cells": [
  {
   "cell_type": "markdown",
   "metadata": {},
   "source": [
    "# This is one big notebook containing all the code for the synthetic data research as part of the Master Thesis of Daniël de Bondt\n",
    "\n",
    "Synthetic data is generated in three specific ways. \n",
    "\n",
    "1) _balance_ with two distinct linear features and two nonlinear features whose effects are balanced with a lambda nonlinearity parameter\n",
    "\n",
    "2) _noise_ with a linear data structure, but increasing levels of noise in data generation\n",
    "\n",
    "3) _combined_ with four \n"
   ]
  },
  {
   "cell_type": "code",
   "execution_count": 96,
   "metadata": {},
   "outputs": [
    {
     "name": "stdout",
     "output_type": "stream",
     "text": [
      "C:\\Users\\danie\\Documents\\StageDaniel\n"
     ]
    }
   ],
   "source": [
    "cd .."
   ]
  },
  {
   "cell_type": "code",
   "execution_count": 97,
   "metadata": {},
   "outputs": [
    {
     "name": "stdout",
     "output_type": "stream",
     "text": [
      "C:\\Users\\danie\\Documents\\StageDaniel\\research\n"
     ]
    }
   ],
   "source": [
    "cd research"
   ]
  },
  {
   "cell_type": "code",
   "execution_count": 98,
   "metadata": {},
   "outputs": [],
   "source": [
    "import numpy as np\n",
    "import pandas as pd\n",
    "\n",
    "def create_synth_data(balance, name = 'Synthetic Data', save=False, combined=False, size = 5000, noise_sd = 1, seed = 10, \n",
    "                      linear_coefficients = [0, 0, 0.4, 0.4],\n",
    "                      Age_effects = [-4, -2, 2, 4, -2], \n",
    "                      Edu_effects = [ -4, -3, -1, 2, 6]):\n",
    "    np.random.seed(seed)\n",
    "    \n",
    "    # continuous variables\n",
    "    Age = np.random.randint(18, 70, size=size)\n",
    "    Education = np.round(np.random.normal(10, 2.5,size=size),0)\n",
    "    Experience = np.random.randint(0, 20, size=size)\n",
    "    Hours = np.round(np.random.normal(40,2, size=size),0)\n",
    "\n",
    "    # create X dataframe\n",
    "    X_dict = {\"Age\": Age, \"Education\":Education, \"Experience\": Experience, \"Hours\": Hours}\n",
    "    columns = [\"Age\", \"Education\", \"Experience\", \"Hours\"]\n",
    "    X = pd.DataFrame(X_dict)\n",
    "\n",
    "    # apply linear coefficients to explanations\n",
    "    explanations = X.apply(lambda x: x * linear_coefficients, axis=1)\n",
    "    \n",
    "    # apply piecewise nonlinearity to explanations\n",
    "    Age_explanations = pd.cut(X['Age'],len(Age_effects), labels=False).apply(lambda x: Age_effects[x])\n",
    "    Edu_explanations = pd.cut(X['Education'],len(Edu_effects), labels=False).apply(lambda x: Edu_effects[x])\n",
    "    \n",
    "    if not combined:\n",
    "        # redefine balance between linearity and nonlinearity based on input variable balance\n",
    "        explanations['Age'] = Age_explanations * balance\n",
    "        explanations['Education'] = Edu_explanations * balance\n",
    "        explanations['Experience'] = explanations['Experience'] * (1-balance)\n",
    "        explanations['Hours'] = explanations['Hours'] * (1-balance)\n",
    "    else:\n",
    "        Exp_effects = [-4, -1, 2, 4, 5] \n",
    "        Hrs_effects = [2, -4, -2, 2, 4] \n",
    "        Exp_explanations = pd.cut(X['Experience'],len(Exp_effects), labels=False).apply(lambda x: Exp_effects[x])\n",
    "        Hrs_explanations = pd.cut(X['Hours'],len(Hrs_effects), labels=False).apply(lambda x: Hrs_effects[x])\n",
    "        \n",
    "        explanations['Age'] = explanations['Age'] * (1-balance) + Age_explanations * balance\n",
    "        explanations['Education'] = explanations['Education'] * (1-balance) + Edu_explanations * balance\n",
    "        explanations['Experience'] = explanations['Experience'] * (1-balance) + Exp_explanations * balance\n",
    "        explanations['Hours'] = explanations['Hours'] * (1-balance) + Hrs_explanations * balance\n",
    "    \n",
    "    # add noise, determine label y and reorder columns\n",
    "    data = X.copy()\n",
    "    noise = np.random.normal(scale = noise_sd, size=size)\n",
    "    data['y'] = (explanations.sum(axis=1)+noise>explanations.sum(axis=1).mean()).astype(int)\n",
    "    data = data[['y'] + columns]\n",
    "    \n",
    "    if save:\n",
    "        data.to_csv('synthetic_data/data/'+name+'_processed.csv', index=False)\n",
    "        explanations.to_csv('synthetic_data/explanations/'+name+'.csv', index=False)\n",
    "    \n",
    "    return data, explanations"
   ]
  },
  {
   "cell_type": "code",
   "execution_count": 99,
   "metadata": {},
   "outputs": [],
   "source": [
    "data, explanations = create_synth_data(balance = 0.5, save=False)"
   ]
  },
  {
   "cell_type": "code",
   "execution_count": 100,
   "metadata": {},
   "outputs": [
    {
     "data": {
      "image/png": "[encoded data removed]",
      "text/plain": [
       "<Figure size 432x288 with 1 Axes>"
      ]
     },
     "metadata": {
      "needs_background": "light"
     },
     "output_type": "display_data"
    }
   ],
   "source": [
    "import matplotlib.pyplot as plt\n",
    "plt.xlabel(\"Age\")\n",
    "plt.ylabel(\"Feature effect\")\n",
    "plt.scatter(data.Age, explanations.Age)\n",
    "y = data.Age*0.05-2.5\n",
    "plt.plot(data.Age, y, '-r', label='y=2x+1')\n",
    "plt.savefig(\"results\\plots\\synth_nonlinear.png\")\n",
    "plt.show()"
   ]
  },
  {
   "cell_type": "code",
   "execution_count": 14,
   "metadata": {},
   "outputs": [],
   "source": [
    "for balance in [0, 0.1, 0.2, 0.3, 0.4, 0.6, 0.7, 0.8, 0.9, 1]:\n",
    "    data, explanations = create_synth_data(balance, name = \"synth_adult_balance_\"+str(balance), save=True)"
   ]
  },
  {
   "cell_type": "code",
   "execution_count": 135,
   "metadata": {},
   "outputs": [],
   "source": [
    "for noise in [0, 0.5, 1, 1.5, 2, 2.5, 3, 4, 5, 10]:\n",
    "    data, explanations = create_synth_data(balance=0, name = \"synth_adult_noise_alt\"+str(noise), noise_sd=noise, save=True, combined=True, linear_coefficients = [0.4, 0.4, 0.4, 0.4])"
   ]
  },
  {
   "cell_type": "code",
   "execution_count": 134,
   "metadata": {},
   "outputs": [],
   "source": [
    "for balance in [0, 0.1, 0.2, 0.3, 0.4, 0.6, 0.7, 0.8, 0.9, 1]:\n",
    "    data, explanations = create_synth_data(balance, name = \"synth_adult_combined_alt_\"+str(balance), save=True, combined=True, linear_coefficients = [0.4, 0.4, 0.4, 0.4])"
   ]
  },
  {
   "cell_type": "code",
   "execution_count": 48,
   "metadata": {},
   "outputs": [
    {
     "data": {
      "text/html": [
       "<div>\n",
       "<style scoped>\n",
       "    .dataframe tbody tr th:only-of-type {\n",
       "        vertical-align: middle;\n",
       "    }\n",
       "\n",
       "    .dataframe tbody tr th {\n",
       "        vertical-align: top;\n",
       "    }\n",
       "\n",
       "    .dataframe thead th {\n",
       "        text-align: right;\n",
       "    }\n",
       "</style>\n",
       "<table border=\"1\" class=\"dataframe\">\n",
       "  <thead>\n",
       "    <tr style=\"text-align: right;\">\n",
       "      <th></th>\n",
       "      <th>Age</th>\n",
       "      <th>Education</th>\n",
       "      <th>Experience</th>\n",
       "      <th>Hours</th>\n",
       "    </tr>\n",
       "  </thead>\n",
       "  <tbody>\n",
       "    <tr>\n",
       "      <td>0</td>\n",
       "      <td>-4.0</td>\n",
       "      <td>-3.0</td>\n",
       "      <td>-2.0</td>\n",
       "      <td>-1.0</td>\n",
       "    </tr>\n",
       "    <tr>\n",
       "      <td>1</td>\n",
       "      <td>4.0</td>\n",
       "      <td>-1.0</td>\n",
       "      <td>-4.0</td>\n",
       "      <td>-1.0</td>\n",
       "    </tr>\n",
       "    <tr>\n",
       "      <td>2</td>\n",
       "      <td>-2.0</td>\n",
       "      <td>2.0</td>\n",
       "      <td>4.0</td>\n",
       "      <td>-3.0</td>\n",
       "    </tr>\n",
       "    <tr>\n",
       "      <td>3</td>\n",
       "      <td>-4.0</td>\n",
       "      <td>-1.0</td>\n",
       "      <td>2.0</td>\n",
       "      <td>2.0</td>\n",
       "    </tr>\n",
       "    <tr>\n",
       "      <td>4</td>\n",
       "      <td>-2.0</td>\n",
       "      <td>-1.0</td>\n",
       "      <td>4.0</td>\n",
       "      <td>-1.0</td>\n",
       "    </tr>\n",
       "  </tbody>\n",
       "</table>\n",
       "</div>"
      ],
      "text/plain": [
       "   Age  Education  Experience  Hours\n",
       "0 -4.0       -3.0        -2.0   -1.0\n",
       "1  4.0       -1.0        -4.0   -1.0\n",
       "2 -2.0        2.0         4.0   -3.0\n",
       "3 -4.0       -1.0         2.0    2.0\n",
       "4 -2.0       -1.0         4.0   -1.0"
      ]
     },
     "execution_count": 48,
     "metadata": {},
     "output_type": "execute_result"
    }
   ],
   "source": [
    "explanations.head()"
   ]
  },
  {
   "cell_type": "code",
   "execution_count": 49,
   "metadata": {},
   "outputs": [
    {
     "data": {
      "text/html": [
       "<div>\n",
       "<style scoped>\n",
       "    .dataframe tbody tr th:only-of-type {\n",
       "        vertical-align: middle;\n",
       "    }\n",
       "\n",
       "    .dataframe tbody tr th {\n",
       "        vertical-align: top;\n",
       "    }\n",
       "\n",
       "    .dataframe thead th {\n",
       "        text-align: right;\n",
       "    }\n",
       "</style>\n",
       "<table border=\"1\" class=\"dataframe\">\n",
       "  <thead>\n",
       "    <tr style=\"text-align: right;\">\n",
       "      <th></th>\n",
       "      <th>y</th>\n",
       "      <th>Age</th>\n",
       "      <th>Education</th>\n",
       "      <th>Experience</th>\n",
       "      <th>Hours</th>\n",
       "    </tr>\n",
       "  </thead>\n",
       "  <tbody>\n",
       "    <tr>\n",
       "      <td>0</td>\n",
       "      <td>0</td>\n",
       "      <td>27</td>\n",
       "      <td>8.0</td>\n",
       "      <td>7</td>\n",
       "      <td>39.0</td>\n",
       "    </tr>\n",
       "    <tr>\n",
       "      <td>1</td>\n",
       "      <td>0</td>\n",
       "      <td>54</td>\n",
       "      <td>11.0</td>\n",
       "      <td>3</td>\n",
       "      <td>40.0</td>\n",
       "    </tr>\n",
       "    <tr>\n",
       "      <td>2</td>\n",
       "      <td>1</td>\n",
       "      <td>33</td>\n",
       "      <td>13.0</td>\n",
       "      <td>15</td>\n",
       "      <td>38.0</td>\n",
       "    </tr>\n",
       "    <tr>\n",
       "      <td>3</td>\n",
       "      <td>1</td>\n",
       "      <td>18</td>\n",
       "      <td>10.0</td>\n",
       "      <td>8</td>\n",
       "      <td>42.0</td>\n",
       "    </tr>\n",
       "    <tr>\n",
       "      <td>4</td>\n",
       "      <td>1</td>\n",
       "      <td>67</td>\n",
       "      <td>12.0</td>\n",
       "      <td>14</td>\n",
       "      <td>40.0</td>\n",
       "    </tr>\n",
       "  </tbody>\n",
       "</table>\n",
       "</div>"
      ],
      "text/plain": [
       "   y  Age  Education  Experience  Hours\n",
       "0  0   27        8.0           7   39.0\n",
       "1  0   54       11.0           3   40.0\n",
       "2  1   33       13.0          15   38.0\n",
       "3  1   18       10.0           8   42.0\n",
       "4  1   67       12.0          14   40.0"
      ]
     },
     "execution_count": 49,
     "metadata": {},
     "output_type": "execute_result"
    }
   ],
   "source": [
    "data.head()"
   ]
  },
  {
   "cell_type": "code",
   "execution_count": 73,
   "metadata": {},
   "outputs": [],
   "source": [
    "## import standard modules for data handling and visualization\n",
    "import os\n",
    "import numpy as np\n",
    "import pandas as pd\n",
    "import matplotlib.pyplot as plt\n",
    "import pickle\n",
    "\n",
    "## import model specific modules\n",
    "import cplex as cp\n",
    "import slim_python as slim\n",
    "import shap\n",
    "from interpret.glassbox import ExplainableBoostingClassifier\n",
    "from sklearn.linear_model import LogisticRegression\n",
    "from xgboost import XGBClassifier\n",
    "\n",
    "## import additional functionalities\n",
    "from interpret import show\n",
    "from sklearn.model_selection import train_test_split\n",
    "from sklearn.metrics import classification_report, roc_auc_score, zero_one_loss, accuracy_score\n",
    "from sklearn import metrics\n",
    "\n",
    "pd.set_option('display.max_columns', None)"
   ]
  },
  {
   "cell_type": "markdown",
   "metadata": {},
   "source": [
    "Auxiliary Functions"
   ]
  },
  {
   "cell_type": "code",
   "execution_count": 74,
   "metadata": {
    "jupyter": {
     "source_hidden": true
    }
   },
   "outputs": [],
   "source": [
    "## SLIM requires the data in a specific non dataframe format, this code prepares that\n",
    "def prep_data(X_train, y_train, X_test, y_test):\n",
    "    # requirements for slim data file\n",
    "    # - outcome variable in first column\n",
    "    # - outcome variable values should be [-1, 1] or [0, 1]\n",
    "    # - first row contains names for the outcome variable + input variables\n",
    "    # - no empty cells\n",
    "    \n",
    "    N_train = X_train.values.shape[0]\n",
    "    N_test = X_test.values.shape[0]\n",
    "\n",
    "    # setup Y vector and Y_name\n",
    "    y_name = y_test.name\n",
    "    y_train_slim = y_train.copy().values.reshape(len(y_train),1)\n",
    "    y_train_slim[y_train_slim == 0] = -1\n",
    "    y_test_slim = y_test.copy().values.reshape(len(y_test),1)\n",
    "    y_test_slim[y_test_slim == 0] = -1\n",
    "\n",
    "    # setup X and X_names\n",
    "    X_names = list(X_train.columns.values)\n",
    "    X_train_slim = X_train.values\n",
    "    X_test_slim = X_test.values\n",
    "    \n",
    "\n",
    "    # insert a column of ones to X for the intercept\n",
    "    X_train_slim = np.insert(arr = X_train_slim, obj = 0, values = np.ones(N_train), axis = 1)\n",
    "    X_test_slim = np.insert(arr = X_test_slim, obj = 0, values = np.ones(N_test), axis = 1)\n",
    "    X_names.insert(0, '(Intercept)')\n",
    "\n",
    "    # run sanity checks\n",
    "    slim.check_data(X = X_train_slim, Y = y_train_slim, X_names = X_names)      \n",
    "    \n",
    "    return (X_train_slim, X_test_slim, y_train_slim, y_test_slim, X_names, y_name)\n",
    "\n",
    "## Simple function for getting predictions for a SLIM scoring system\n",
    "def pred_slim(X, rho):\n",
    "    return (X.dot(rho[1:])+rho[0]>=0)*1\n",
    "\n",
    "def sigmoid(x):\n",
    "    return 1/(1 + np.exp(-x))\n",
    "\n",
    "def scale_sigmoid(x):\n",
    "    x_max = np.maximum(x.max(), np.abs(x.min()))\n",
    "    x = x/(x_max/5)\n",
    "    return 1/(1 + np.exp(-x))\n",
    "\n",
    "def auc(y, y_pred):\n",
    "    fpr, tpr, thresholds = metrics.roc_curve(y, y_pred)\n",
    "    return metrics.auc(fpr, tpr)"
   ]
  },
  {
   "cell_type": "markdown",
   "metadata": {},
   "source": [
    "Models"
   ]
  },
  {
   "cell_type": "code",
   "execution_count": 75,
   "metadata": {
    "jupyter": {
     "source_hidden": true
    }
   },
   "outputs": [],
   "source": [
    "def train_slim(X, X_names, Y, y_name, params={}, timelimit=600.0, silent=True):\n",
    "    #### TRAIN SCORING SYSTEM USING SLIM ####\n",
    "    # setup SLIM coefficient set\n",
    "    coef_constraints = slim.SLIMCoefficientConstraints(variable_names = X_names, ub = 5, lb = -5)\n",
    "    #choose upper and lower bounds for the intercept coefficient\n",
    "    #to ensure that there will be no regularization due to the intercept, choose\n",
    "    #\n",
    "    #intercept_ub < min_i(min_score_i)\n",
    "    #intercept_lb > max_i(max_score_i)\n",
    "    #\n",
    "    #where min_score_i = min((Y*X) * \\rho) for rho in \\Lset\n",
    "    #where max_score_i = max((Y*X) * \\rho) for rho in \\Lset\n",
    "    #\n",
    "    #setting intercept_ub and intercept_lb in this way ensures that we can always\n",
    "    # classify every point as positive and negative\n",
    "    scores_at_ub = (Y * X) * coef_constraints.ub\n",
    "    scores_at_lb = (Y * X) * coef_constraints.lb\n",
    "    non_intercept_ind = np.array([n != '(Intercept)' for n in X_names])\n",
    "    scores_at_ub = scores_at_ub[:, non_intercept_ind]\n",
    "    scores_at_lb = scores_at_lb[:, non_intercept_ind]\n",
    "    max_scores = np.fmax(scores_at_ub, scores_at_lb)\n",
    "    min_scores = np.fmin(scores_at_ub, scores_at_lb)\n",
    "    max_scores = np.sum(max_scores, 1)\n",
    "    min_scores = np.sum(min_scores, 1)\n",
    "\n",
    "    intercept_ub = -min(min_scores) + 1\n",
    "    intercept_lb = -max(max_scores) + 1\n",
    "    coef_constraints.set_field('ub', '(Intercept)', intercept_ub)\n",
    "    coef_constraints.set_field('lb', '(Intercept)', intercept_lb)\n",
    "#     coef_constraints.view()\n",
    "    \n",
    "#     w_pos = 1.905\n",
    "#     w_neg = 0.095\n",
    "    w_pos = 1.0\n",
    "    w_neg = 1.0\n",
    "    \n",
    "    #create SLIM IP\n",
    "    if not params:\n",
    "        slim_input = {\n",
    "            'X': X,\n",
    "            'X_names': X_names,\n",
    "            'Y': Y,\n",
    "            'C_0': 0.001,\n",
    "            'w_pos': w_pos,\n",
    "            'w_neg': w_neg,\n",
    "            'L0_min': 0,\n",
    "            'L0_max': float('inf'),\n",
    "            'err_min': 0,\n",
    "            'err_max': 1.0,\n",
    "            'pos_err_min': 0,\n",
    "            'pos_err_max': 1.0,\n",
    "            'neg_err_min': 0,\n",
    "            'neg_err_max': 1.0,\n",
    "            'coef_constraints': coef_constraints\n",
    "        }\n",
    "    else:\n",
    "        slim_input = params\n",
    "        \n",
    "    \n",
    "\n",
    "    slim_IP, slim_info = slim.create_slim_IP(slim_input)\n",
    "    \n",
    "    if silent:\n",
    "        slim_IP.set_log_stream(None)\n",
    "        slim_IP.set_error_stream(None)\n",
    "        slim_IP.set_warning_stream(None)\n",
    "        slim_IP.set_results_stream(None)\n",
    "    \n",
    "    # setup SLIM IP parameters\n",
    "    # see docs/usrccplex.pdf for more about these parameters\n",
    "    slim_IP.parameters.timelimit.set(timelimit) #set runtime here\n",
    "    #TODO: add these default settings to create_slim_IP\n",
    "    slim_IP.parameters.randomseed.set(0)\n",
    "    slim_IP.parameters.threads.set(1)\n",
    "    slim_IP.parameters.parallel.set(1)\n",
    "    slim_IP.parameters.output.clonelog.set(0)\n",
    "    slim_IP.parameters.mip.tolerances.mipgap.set(np.finfo(np.float).eps)\n",
    "    slim_IP.parameters.mip.tolerances.absmipgap.set(np.finfo(np.float).eps)\n",
    "    slim_IP.parameters.mip.tolerances.integrality.set(np.finfo(np.float).eps)\n",
    "    slim_IP.parameters.emphasis.mip.set(1)\n",
    "\n",
    "\n",
    "    # solve SLIM IP\n",
    "    slim_IP.solve()\n",
    "\n",
    "    # run quick and dirty tests to make sure that IP output is correct\n",
    "    slim.check_slim_IP_output(slim_IP, slim_info, X, Y, coef_constraints)\n",
    "    \n",
    "    return slim_IP, slim_info\n",
    "        \n",
    "    \n",
    "def train_ebm(X, y, params={}):\n",
    "    \n",
    "    if not params:\n",
    "        n_estimators = 100\n",
    "        learning_rate = 1.0\n",
    "        random_state=0\n",
    "    else:\n",
    "        n_estimators=params['n_estimators']\n",
    "        learning_rate = params['learning_rate']\n",
    "        random_state = params['random_state']\n",
    "        \n",
    "    ebm = ExplainableBoostingClassifier(n_estimators=n_estimators, learning_rate=learning_rate, random_state=random_state).fit(X, y)\n",
    "    return ebm\n",
    "\n",
    "def train_shap(X, y, params={}):\n",
    "\n",
    "    if not params:\n",
    "        gamma = 0.5\n",
    "        n_estimators = 600\n",
    "        objective = 'binary:logistic'\n",
    "        silent=True\n",
    "        nthread=1\n",
    "    else:\n",
    "        gamma = params['gamma']\n",
    "        n_estimators = params['n_estimators']\n",
    "        objective = params['objective']\n",
    "        silent = params['silent']\n",
    "        nthread = params['nthread']\n",
    "        \n",
    "    model = XGBClassifier(max_depth=4,\n",
    "        gamma=gamma,\n",
    "        n_estimators=n_estimators,\n",
    "        objective=objective,\n",
    "        silent=silent,\n",
    "        nthread=nthread)\n",
    "    model.fit(X, y)\n",
    "    return model\n",
    "\n",
    "def train_logit(X, y, params={}):\n",
    "    if not params:\n",
    "        penalty='l1'\n",
    "        solver = 'liblinear'\n",
    "        C = 0.01\n",
    "    else:\n",
    "        penalty = params['penalty']\n",
    "        solver = params['solver']\n",
    "        C = params['C']\n",
    "    logit = LogisticRegression(penalty=penalty, solver=solver, C=C).fit(X, y)\n",
    "    return logit\n",
    "\n",
    "def run_all(X_train, y_train, X_test, y_test, params=None, timelimit=3600):\n",
    "    ## runs all three models in consecutive order\n",
    "    \n",
    "    ## SLIM needs specially prepared data\n",
    "    X_train_slim, X_test_slim, y_train_slim, y_test_slim, X_names, y_name = prep_data(X_train, y_train, X_test, y_test)\n",
    "    print('-----------------------------------------')\n",
    "    print(\"Running Supersparse Linear Integer Model\")\n",
    "    print(\"Max runtime: \", timelimit, 'seconds')\n",
    "    slim_model, slim_info = train_slim(X_train_slim, X_names, y_train_slim, y_name, timelimit=timelimit)\n",
    "    slim_results = slim.get_slim_summary(slim_model, slim_info, X_train_slim, y_train_slim)\n",
    "    slim_results_test = slim.get_slim_summary(slim_model, slim_info, X_test_slim, y_test_slim)\n",
    "#     print(slim_results['string_model'])\n",
    "    print('train accuracy: ', (1-slim_results['error_rate']))\n",
    "    print('test accuracy: ',  (1-slim_results_test['error_rate']))\n",
    "    slim_object = (slim_info, slim_results)\n",
    "#     slim_object = (slim_info, slim_model)\n",
    "       \n",
    "    print('-----------------------------------------')\n",
    "    print(\"Running Explainable Boosting Machine\")\n",
    "    ebm = train_ebm(X_train, y_train)\n",
    "    print('train accuracy: ', ebm.score(X_train, y_train))\n",
    "    print('test accuracy: ', ebm.score(X_test, y_test))\n",
    "    \n",
    "    print('-----------------------------------------')\n",
    "    print(\"Running SHAP explained XGBoost\")\n",
    "    shap = train_shap(X_train, y_train)\n",
    "    print('train accuracy: ', accuracy_score(y_train, shap.predict(X_train)))\n",
    "    print('test accuracy: ', accuracy_score(y_test, shap.predict(X_test)))\n",
    "    \n",
    "    print('-----------------------------------------')\n",
    "    print(\"Running Logit\")\n",
    "    logit = train_logit(X_train, y_train, params[0])\n",
    "    print('train accuracy: ', logit.score(X_train, y_train))\n",
    "    print('test accuracy: ', logit.score(X_test, y_test))\n",
    "    \n",
    "    return (slim_object, ebm, shap, logit)"
   ]
  },
  {
   "cell_type": "code",
   "execution_count": 76,
   "metadata": {
    "jupyter": {
     "source_hidden": true
    }
   },
   "outputs": [],
   "source": [
    "def save_results(results, name ):\n",
    "    with open('synthetic_data/models/'+ name + '.pkl', 'wb') as f:\n",
    "        pickle.dump(results, f, pickle.HIGHEST_PROTOCOL)\n",
    "\n",
    "def run_results(dataframe, dataset, save=True, timelimit=200):\n",
    "    # Select X and y from the data and split into train and test set\n",
    "    features = dataframe.columns[1:]\n",
    "    label = dataframe.columns[0]\n",
    "    X = dataframe[features]\n",
    "    X_names = list(X.columns.values)\n",
    "    X_names.insert(0, '(Intercept)')\n",
    "    y = dataframe[label]\n",
    "    X_train, X_test, y_train, y_test = train_test_split(X, y, test_size=0.2, random_state=0) # 10 fold\n",
    "    \n",
    "    params = [{'C': 1, 'penalty':'l1', 'solver' : 'liblinear'}]\n",
    "\n",
    "    # Run the models, displaying in- and out-of-sample performance\n",
    "    results = run_all(X_train, y_train, X_test, y_test, params, timelimit=timelimit)\n",
    "    del results[0][1]['pretty_model']\n",
    "    datasplit = {'X_train': X_train, 'y_train': y_train, 'X_test': X_test,'y_test': y_test}\n",
    "    \n",
    "    if save:\n",
    "        save_results(results[:], dataset + '_models')\n",
    "        save_results(datasplit, dataset + '_data')\n",
    "    return (results, datasplit)\n",
    "    "
   ]
  },
  {
   "cell_type": "code",
   "execution_count": 58,
   "metadata": {},
   "outputs": [
    {
     "name": "stdout",
     "output_type": "stream",
     "text": [
      "-----------------------------------------\n",
      "Running Supersparse Linear Integer Model\n",
      "Max runtime:  200 seconds\n",
      "train accuracy:  0.89625\n",
      "test accuracy:  0.897\n",
      "-----------------------------------------\n",
      "Running Explainable Boosting Machine\n",
      "train accuracy:  0.9035\n",
      "test accuracy:  0.887\n",
      "-----------------------------------------\n",
      "Running SHAP explained XGBoost\n",
      "train accuracy:  0.92175\n",
      "test accuracy:  0.891\n",
      "-----------------------------------------\n",
      "Running Logit\n"
     ]
    },
    {
     "name": "stderr",
     "output_type": "stream",
     "text": [
      "Liblinear failed to converge, increase the number of iterations.\n"
     ]
    },
    {
     "name": "stdout",
     "output_type": "stream",
     "text": [
      "train accuracy:  0.89675\n",
      "test accuracy:  0.899\n",
      "-----------------------------------------\n",
      "Running Supersparse Linear Integer Model\n",
      "Max runtime:  200 seconds\n",
      "train accuracy:  0.8785000000000001\n",
      "test accuracy:  0.882\n",
      "-----------------------------------------\n",
      "Running Explainable Boosting Machine\n",
      "train accuracy:  0.89325\n",
      "test accuracy:  0.878\n",
      "-----------------------------------------\n",
      "Running SHAP explained XGBoost\n",
      "train accuracy:  0.9225\n",
      "test accuracy:  0.879\n",
      "-----------------------------------------\n",
      "Running Logit\n"
     ]
    },
    {
     "name": "stderr",
     "output_type": "stream",
     "text": [
      "Liblinear failed to converge, increase the number of iterations.\n"
     ]
    },
    {
     "name": "stdout",
     "output_type": "stream",
     "text": [
      "train accuracy:  0.882\n",
      "test accuracy:  0.881\n",
      "-----------------------------------------\n",
      "Running Supersparse Linear Integer Model\n",
      "Max runtime:  200 seconds\n",
      "train accuracy:  0.8452500000000001\n",
      "test accuracy:  0.832\n",
      "-----------------------------------------\n",
      "Running Explainable Boosting Machine\n",
      "train accuracy:  0.88375\n",
      "test accuracy:  0.867\n",
      "-----------------------------------------\n",
      "Running SHAP explained XGBoost\n",
      "train accuracy:  0.90925\n",
      "test accuracy:  0.868\n",
      "-----------------------------------------\n",
      "Running Logit\n"
     ]
    },
    {
     "name": "stderr",
     "output_type": "stream",
     "text": [
      "Liblinear failed to converge, increase the number of iterations.\n"
     ]
    },
    {
     "name": "stdout",
     "output_type": "stream",
     "text": [
      "train accuracy:  0.8545\n",
      "test accuracy:  0.853\n",
      "-----------------------------------------\n",
      "Running Supersparse Linear Integer Model\n",
      "Max runtime:  200 seconds\n",
      "train accuracy:  0.80425\n",
      "test accuracy:  0.815\n",
      "-----------------------------------------\n",
      "Running Explainable Boosting Machine\n",
      "train accuracy:  0.87225\n",
      "test accuracy:  0.868\n",
      "-----------------------------------------\n",
      "Running SHAP explained XGBoost\n",
      "train accuracy:  0.9035\n",
      "test accuracy:  0.866\n",
      "-----------------------------------------\n",
      "Running Logit\n"
     ]
    },
    {
     "name": "stderr",
     "output_type": "stream",
     "text": [
      "Liblinear failed to converge, increase the number of iterations.\n"
     ]
    },
    {
     "name": "stdout",
     "output_type": "stream",
     "text": [
      "train accuracy:  0.8205\n",
      "test accuracy:  0.826\n",
      "-----------------------------------------\n",
      "Running Supersparse Linear Integer Model\n",
      "Max runtime:  200 seconds\n",
      "train accuracy:  0.7697499999999999\n",
      "test accuracy:  0.738\n",
      "-----------------------------------------\n",
      "Running Explainable Boosting Machine\n",
      "train accuracy:  0.86525\n",
      "test accuracy:  0.85\n",
      "-----------------------------------------\n",
      "Running SHAP explained XGBoost\n",
      "train accuracy:  0.89975\n",
      "test accuracy:  0.831\n",
      "-----------------------------------------\n",
      "Running Logit\n"
     ]
    },
    {
     "name": "stderr",
     "output_type": "stream",
     "text": [
      "Liblinear failed to converge, increase the number of iterations.\n"
     ]
    },
    {
     "name": "stdout",
     "output_type": "stream",
     "text": [
      "train accuracy:  0.76875\n",
      "test accuracy:  0.777\n",
      "-----------------------------------------\n",
      "Running Supersparse Linear Integer Model\n",
      "Max runtime:  200 seconds\n",
      "train accuracy:  0.728\n",
      "test accuracy:  0.704\n",
      "-----------------------------------------\n",
      "Running Explainable Boosting Machine\n",
      "train accuracy:  0.881\n",
      "test accuracy:  0.877\n",
      "-----------------------------------------\n",
      "Running SHAP explained XGBoost\n",
      "train accuracy:  0.90325\n",
      "test accuracy:  0.875\n",
      "-----------------------------------------\n",
      "Running Logit\n"
     ]
    },
    {
     "name": "stderr",
     "output_type": "stream",
     "text": [
      "Liblinear failed to converge, increase the number of iterations.\n"
     ]
    },
    {
     "name": "stdout",
     "output_type": "stream",
     "text": [
      "train accuracy:  0.70675\n",
      "test accuracy:  0.71\n",
      "-----------------------------------------\n",
      "Running Supersparse Linear Integer Model\n",
      "Max runtime:  200 seconds\n",
      "train accuracy:  0.7464999999999999\n",
      "test accuracy:  0.719\n",
      "-----------------------------------------\n",
      "Running Explainable Boosting Machine\n",
      "train accuracy:  0.896\n",
      "test accuracy:  0.899\n",
      "-----------------------------------------\n",
      "Running SHAP explained XGBoost\n",
      "train accuracy:  0.92025\n",
      "test accuracy:  0.888\n",
      "-----------------------------------------\n",
      "Running Logit\n"
     ]
    },
    {
     "name": "stderr",
     "output_type": "stream",
     "text": [
      "Liblinear failed to converge, increase the number of iterations.\n"
     ]
    },
    {
     "name": "stdout",
     "output_type": "stream",
     "text": [
      "train accuracy:  0.688\n",
      "test accuracy:  0.668\n",
      "-----------------------------------------\n",
      "Running Supersparse Linear Integer Model\n",
      "Max runtime:  200 seconds\n",
      "train accuracy:  0.7585\n",
      "test accuracy:  0.734\n",
      "-----------------------------------------\n",
      "Running Explainable Boosting Machine\n",
      "train accuracy:  0.926\n",
      "test accuracy:  0.92\n",
      "-----------------------------------------\n",
      "Running SHAP explained XGBoost\n",
      "train accuracy:  0.948\n",
      "test accuracy:  0.923\n",
      "-----------------------------------------\n",
      "Running Logit\n",
      "train accuracy:  0.671\n",
      "test accuracy:  0.665\n",
      "-----------------------------------------\n",
      "Running Supersparse Linear Integer Model\n",
      "Max runtime:  200 seconds\n",
      "train accuracy:  0.76375\n",
      "test accuracy:  0.742\n",
      "-----------------------------------------\n",
      "Running Explainable Boosting Machine\n",
      "train accuracy:  0.944\n",
      "test accuracy:  0.945\n",
      "-----------------------------------------\n",
      "Running SHAP explained XGBoost\n",
      "train accuracy:  0.953\n",
      "test accuracy:  0.939\n",
      "-----------------------------------------\n",
      "Running Logit\n",
      "train accuracy:  0.663\n",
      "test accuracy:  0.664\n",
      "-----------------------------------------\n",
      "Running Supersparse Linear Integer Model\n",
      "Max runtime:  200 seconds\n",
      "train accuracy:  0.767\n",
      "test accuracy:  0.743\n",
      "-----------------------------------------\n",
      "Running Explainable Boosting Machine\n",
      "train accuracy:  0.95425\n",
      "test accuracy:  0.955\n",
      "-----------------------------------------\n",
      "Running SHAP explained XGBoost\n",
      "train accuracy:  0.9625\n",
      "test accuracy:  0.952\n",
      "-----------------------------------------\n",
      "Running Logit\n",
      "train accuracy:  0.65475\n",
      "test accuracy:  0.662\n"
     ]
    }
   ],
   "source": [
    "for balance in [0, 0.1, 0.2, 0.3, 0.4, 0.6, 0.7, 0.8, 0.9, 1]:\n",
    "    name = \"synth_adult_balance_\"+str(balance)\n",
    "    dataframe = pd.read_csv(os.getcwd() + '/synthetic_data/data/'+ name + '_processed.csv', sep = ',')\n",
    "    models, data = run_results(dataframe, name)"
   ]
  },
  {
   "cell_type": "code",
   "execution_count": 136,
   "metadata": {},
   "outputs": [
    {
     "name": "stdout",
     "output_type": "stream",
     "text": [
      "-----------------------------------------\n",
      "Running Supersparse Linear Integer Model\n",
      "Max runtime:  200 seconds\n",
      "train accuracy:  1.0\n",
      "test accuracy:  1.0\n",
      "-----------------------------------------\n",
      "Running Explainable Boosting Machine\n",
      "train accuracy:  0.9995\n",
      "test accuracy:  0.994\n",
      "-----------------------------------------\n",
      "Running SHAP explained XGBoost\n",
      "train accuracy:  0.9995\n",
      "test accuracy:  0.985\n",
      "-----------------------------------------\n",
      "Running Logit\n"
     ]
    },
    {
     "name": "stderr",
     "output_type": "stream",
     "text": [
      "Liblinear failed to converge, increase the number of iterations.\n"
     ]
    },
    {
     "name": "stdout",
     "output_type": "stream",
     "text": [
      "train accuracy:  0.988\n",
      "test accuracy:  0.987\n",
      "-----------------------------------------\n",
      "Running Supersparse Linear Integer Model\n",
      "Max runtime:  200 seconds\n",
      "train accuracy:  0.9815\n",
      "test accuracy:  0.978\n",
      "-----------------------------------------\n",
      "Running Explainable Boosting Machine\n",
      "train accuracy:  0.9855\n",
      "test accuracy:  0.976\n",
      "-----------------------------------------\n",
      "Running SHAP explained XGBoost\n",
      "train accuracy:  0.9945\n",
      "test accuracy:  0.968\n",
      "-----------------------------------------\n",
      "Running Logit\n"
     ]
    },
    {
     "name": "stderr",
     "output_type": "stream",
     "text": [
      "Liblinear failed to converge, increase the number of iterations.\n"
     ]
    },
    {
     "name": "stdout",
     "output_type": "stream",
     "text": [
      "train accuracy:  0.979\n",
      "test accuracy:  0.97\n",
      "-----------------------------------------\n",
      "Running Supersparse Linear Integer Model\n",
      "Max runtime:  200 seconds\n",
      "train accuracy:  0.93625\n",
      "test accuracy:  0.9299999999999999\n",
      "-----------------------------------------\n",
      "Running Explainable Boosting Machine\n",
      "train accuracy:  0.96075\n",
      "test accuracy:  0.962\n",
      "-----------------------------------------\n",
      "Running SHAP explained XGBoost\n",
      "train accuracy:  0.97225\n",
      "test accuracy:  0.958\n",
      "-----------------------------------------\n",
      "Running Logit\n"
     ]
    },
    {
     "name": "stderr",
     "output_type": "stream",
     "text": [
      "Liblinear failed to converge, increase the number of iterations.\n"
     ]
    },
    {
     "name": "stdout",
     "output_type": "stream",
     "text": [
      "train accuracy:  0.9575\n",
      "test accuracy:  0.96\n",
      "-----------------------------------------\n",
      "Running Supersparse Linear Integer Model\n",
      "Max runtime:  200 seconds\n",
      "train accuracy:  0.93375\n",
      "test accuracy:  0.929\n",
      "-----------------------------------------\n",
      "Running Explainable Boosting Machine\n",
      "train accuracy:  0.94075\n",
      "test accuracy:  0.946\n",
      "-----------------------------------------\n",
      "Running SHAP explained XGBoost\n",
      "train accuracy:  0.95025\n",
      "test accuracy:  0.951\n",
      "-----------------------------------------\n",
      "Running Logit\n"
     ]
    },
    {
     "name": "stderr",
     "output_type": "stream",
     "text": [
      "Liblinear failed to converge, increase the number of iterations.\n"
     ]
    },
    {
     "name": "stdout",
     "output_type": "stream",
     "text": [
      "train accuracy:  0.93575\n",
      "test accuracy:  0.942\n",
      "-----------------------------------------\n",
      "Running Supersparse Linear Integer Model\n",
      "Max runtime:  200 seconds\n",
      "train accuracy:  0.9095\n",
      "test accuracy:  0.902\n",
      "-----------------------------------------\n",
      "Running Explainable Boosting Machine\n",
      "train accuracy:  0.9215\n",
      "test accuracy:  0.919\n",
      "-----------------------------------------\n",
      "Running SHAP explained XGBoost\n",
      "train accuracy:  0.9325\n",
      "test accuracy:  0.911\n",
      "-----------------------------------------\n",
      "Running Logit\n"
     ]
    },
    {
     "name": "stderr",
     "output_type": "stream",
     "text": [
      "Liblinear failed to converge, increase the number of iterations.\n"
     ]
    },
    {
     "name": "stdout",
     "output_type": "stream",
     "text": [
      "train accuracy:  0.9165\n",
      "test accuracy:  0.915\n",
      "-----------------------------------------\n",
      "Running Supersparse Linear Integer Model\n",
      "Max runtime:  200 seconds\n",
      "train accuracy:  0.8674999999999999\n",
      "test accuracy:  0.859\n",
      "-----------------------------------------\n",
      "Running Explainable Boosting Machine\n",
      "train accuracy:  0.903\n",
      "test accuracy:  0.899\n",
      "-----------------------------------------\n",
      "Running SHAP explained XGBoost\n",
      "train accuracy:  0.92225\n",
      "test accuracy:  0.896\n",
      "-----------------------------------------\n",
      "Running Logit\n"
     ]
    },
    {
     "name": "stderr",
     "output_type": "stream",
     "text": [
      "Liblinear failed to converge, increase the number of iterations.\n"
     ]
    },
    {
     "name": "stdout",
     "output_type": "stream",
     "text": [
      "train accuracy:  0.89875\n",
      "test accuracy:  0.898\n",
      "-----------------------------------------\n",
      "Running Supersparse Linear Integer Model\n",
      "Max runtime:  200 seconds\n",
      "train accuracy:  0.8775\n",
      "test accuracy:  0.876\n",
      "-----------------------------------------\n",
      "Running Explainable Boosting Machine\n",
      "train accuracy:  0.8865\n",
      "test accuracy:  0.889\n",
      "-----------------------------------------\n",
      "Running SHAP explained XGBoost\n",
      "train accuracy:  0.90125\n",
      "test accuracy:  0.881\n",
      "-----------------------------------------\n",
      "Running Logit\n"
     ]
    },
    {
     "name": "stderr",
     "output_type": "stream",
     "text": [
      "Liblinear failed to converge, increase the number of iterations.\n"
     ]
    },
    {
     "name": "stdout",
     "output_type": "stream",
     "text": [
      "train accuracy:  0.88225\n",
      "test accuracy:  0.884\n",
      "-----------------------------------------\n",
      "Running Supersparse Linear Integer Model\n",
      "Max runtime:  200 seconds\n",
      "train accuracy:  0.84675\n",
      "test accuracy:  0.836\n",
      "-----------------------------------------\n",
      "Running Explainable Boosting Machine\n",
      "train accuracy:  0.853\n",
      "test accuracy:  0.869\n",
      "-----------------------------------------\n",
      "Running SHAP explained XGBoost\n",
      "train accuracy:  0.87175\n",
      "test accuracy:  0.865\n",
      "-----------------------------------------\n",
      "Running Logit\n",
      "train accuracy:  0.85\n",
      "test accuracy:  0.862\n",
      "-----------------------------------------\n",
      "Running Supersparse Linear Integer Model\n",
      "Max runtime:  200 seconds\n",
      "train accuracy:  0.80775\n",
      "test accuracy:  0.802\n",
      "-----------------------------------------\n",
      "Running Explainable Boosting Machine\n",
      "train accuracy:  0.8205\n",
      "test accuracy:  0.823\n",
      "-----------------------------------------\n",
      "Running SHAP explained XGBoost\n",
      "train accuracy:  0.842\n",
      "test accuracy:  0.814\n",
      "-----------------------------------------\n",
      "Running Logit\n",
      "train accuracy:  0.817\n",
      "test accuracy:  0.826\n",
      "-----------------------------------------\n",
      "Running Supersparse Linear Integer Model\n",
      "Max runtime:  200 seconds\n",
      "train accuracy:  0.7005\n",
      "test accuracy:  0.708\n",
      "-----------------------------------------\n",
      "Running Explainable Boosting Machine\n",
      "train accuracy:  0.70475\n",
      "test accuracy:  0.707\n",
      "-----------------------------------------\n",
      "Running SHAP explained XGBoost\n",
      "train accuracy:  0.76525\n",
      "test accuracy:  0.706\n",
      "-----------------------------------------\n",
      "Running Logit\n"
     ]
    },
    {
     "name": "stderr",
     "output_type": "stream",
     "text": [
      "Liblinear failed to converge, increase the number of iterations.\n"
     ]
    },
    {
     "name": "stdout",
     "output_type": "stream",
     "text": [
      "train accuracy:  0.699\n",
      "test accuracy:  0.712\n"
     ]
    }
   ],
   "source": [
    "for noise in [0, 0.5, 1, 1.5, 2, 2.5, 3, 4, 5, 10]:\n",
    "    name = \"synth_adult_noise_alt\"+str(noise)\n",
    "    dataframe = pd.read_csv(os.getcwd() + '/synthetic_data/data/'+ name + '_processed.csv', sep = ',')\n",
    "    models, data = run_results(dataframe, name, timelimit=200)"
   ]
  },
  {
   "cell_type": "code",
   "execution_count": 103,
   "metadata": {},
   "outputs": [
    {
     "name": "stdout",
     "output_type": "stream",
     "text": [
      "-----------------------------------------\n",
      "Running Supersparse Linear Integer Model\n",
      "Max runtime:  200 seconds\n",
      "train accuracy:  0.94675\n",
      "test accuracy:  0.949\n",
      "-----------------------------------------\n",
      "Running Explainable Boosting Machine\n",
      "train accuracy:  0.96075\n",
      "test accuracy:  0.962\n",
      "-----------------------------------------\n",
      "Running SHAP explained XGBoost\n",
      "train accuracy:  0.97225\n",
      "test accuracy:  0.958\n",
      "-----------------------------------------\n",
      "Running Logit\n"
     ]
    },
    {
     "name": "stderr",
     "output_type": "stream",
     "text": [
      "Liblinear failed to converge, increase the number of iterations.\n"
     ]
    },
    {
     "name": "stdout",
     "output_type": "stream",
     "text": [
      "train accuracy:  0.957\n",
      "test accuracy:  0.961\n",
      "-----------------------------------------\n",
      "Running Supersparse Linear Integer Model\n",
      "Max runtime:  200 seconds\n",
      "train accuracy:  0.947\n",
      "test accuracy:  0.937\n",
      "-----------------------------------------\n",
      "Running Explainable Boosting Machine\n",
      "train accuracy:  0.9625\n",
      "test accuracy:  0.959\n",
      "-----------------------------------------\n",
      "Running SHAP explained XGBoost\n",
      "train accuracy:  0.97175\n",
      "test accuracy:  0.953\n",
      "-----------------------------------------\n",
      "Running Logit\n"
     ]
    },
    {
     "name": "stderr",
     "output_type": "stream",
     "text": [
      "Liblinear failed to converge, increase the number of iterations.\n"
     ]
    },
    {
     "name": "stdout",
     "output_type": "stream",
     "text": [
      "train accuracy:  0.95375\n",
      "test accuracy:  0.961\n",
      "-----------------------------------------\n",
      "Running Supersparse Linear Integer Model\n",
      "Max runtime:  200 seconds\n",
      "train accuracy:  0.93225\n",
      "test accuracy:  0.925\n",
      "-----------------------------------------\n",
      "Running Explainable Boosting Machine\n",
      "train accuracy:  0.95925\n",
      "test accuracy:  0.954\n",
      "-----------------------------------------\n",
      "Running SHAP explained XGBoost\n",
      "train accuracy:  0.96875\n",
      "test accuracy:  0.949\n",
      "-----------------------------------------\n",
      "Running Logit\n"
     ]
    },
    {
     "name": "stderr",
     "output_type": "stream",
     "text": [
      "Liblinear failed to converge, increase the number of iterations.\n"
     ]
    },
    {
     "name": "stdout",
     "output_type": "stream",
     "text": [
      "train accuracy:  0.95075\n",
      "test accuracy:  0.954\n",
      "-----------------------------------------\n",
      "Running Supersparse Linear Integer Model\n",
      "Max runtime:  200 seconds\n",
      "train accuracy:  0.93125\n",
      "test accuracy:  0.929\n",
      "-----------------------------------------\n",
      "Running Explainable Boosting Machine\n",
      "train accuracy:  0.959\n",
      "test accuracy:  0.954\n",
      "-----------------------------------------\n",
      "Running SHAP explained XGBoost\n",
      "train accuracy:  0.9685\n",
      "test accuracy:  0.947\n",
      "-----------------------------------------\n",
      "Running Logit\n"
     ]
    },
    {
     "name": "stderr",
     "output_type": "stream",
     "text": [
      "Liblinear failed to converge, increase the number of iterations.\n"
     ]
    },
    {
     "name": "stdout",
     "output_type": "stream",
     "text": [
      "train accuracy:  0.942\n",
      "test accuracy:  0.953\n",
      "-----------------------------------------\n",
      "Running Supersparse Linear Integer Model\n",
      "Max runtime:  200 seconds\n",
      "train accuracy:  0.914\n",
      "test accuracy:  0.926\n",
      "-----------------------------------------\n",
      "Running Explainable Boosting Machine\n",
      "train accuracy:  0.953\n",
      "test accuracy:  0.948\n",
      "-----------------------------------------\n",
      "Running SHAP explained XGBoost\n",
      "train accuracy:  0.96675\n",
      "test accuracy:  0.946\n",
      "-----------------------------------------\n",
      "Running Logit\n"
     ]
    },
    {
     "name": "stderr",
     "output_type": "stream",
     "text": [
      "Liblinear failed to converge, increase the number of iterations.\n"
     ]
    },
    {
     "name": "stdout",
     "output_type": "stream",
     "text": [
      "train accuracy:  0.917\n",
      "test accuracy:  0.928\n",
      "-----------------------------------------\n",
      "Running Supersparse Linear Integer Model\n",
      "Max runtime:  200 seconds\n",
      "train accuracy:  0.86825\n",
      "test accuracy:  0.871\n",
      "-----------------------------------------\n",
      "Running Explainable Boosting Machine\n",
      "train accuracy:  0.94325\n",
      "test accuracy:  0.936\n",
      "-----------------------------------------\n",
      "Running SHAP explained XGBoost\n",
      "train accuracy:  0.9635\n",
      "test accuracy:  0.926\n",
      "-----------------------------------------\n",
      "Running Logit\n"
     ]
    },
    {
     "name": "stderr",
     "output_type": "stream",
     "text": [
      "Liblinear failed to converge, increase the number of iterations.\n"
     ]
    },
    {
     "name": "stdout",
     "output_type": "stream",
     "text": [
      "train accuracy:  0.87175\n",
      "test accuracy:  0.872\n",
      "-----------------------------------------\n",
      "Running Supersparse Linear Integer Model\n",
      "Max runtime:  200 seconds\n",
      "train accuracy:  0.84125\n",
      "test accuracy:  0.861\n",
      "-----------------------------------------\n",
      "Running Explainable Boosting Machine\n",
      "train accuracy:  0.94375\n",
      "test accuracy:  0.933\n",
      "-----------------------------------------\n",
      "Running SHAP explained XGBoost\n",
      "train accuracy:  0.9585\n",
      "test accuracy:  0.927\n",
      "-----------------------------------------\n",
      "Running Logit\n"
     ]
    },
    {
     "name": "stderr",
     "output_type": "stream",
     "text": [
      "Liblinear failed to converge, increase the number of iterations.\n"
     ]
    },
    {
     "name": "stdout",
     "output_type": "stream",
     "text": [
      "train accuracy:  0.845\n",
      "test accuracy:  0.862\n",
      "-----------------------------------------\n",
      "Running Supersparse Linear Integer Model\n",
      "Max runtime:  200 seconds\n",
      "train accuracy:  0.8109999999999999\n",
      "test accuracy:  0.792\n",
      "-----------------------------------------\n",
      "Running Explainable Boosting Machine\n",
      "train accuracy:  0.9505\n",
      "test accuracy:  0.923\n",
      "-----------------------------------------\n",
      "Running SHAP explained XGBoost\n",
      "train accuracy:  0.9635\n",
      "test accuracy:  0.917\n",
      "-----------------------------------------\n",
      "Running Logit\n"
     ]
    },
    {
     "name": "stderr",
     "output_type": "stream",
     "text": [
      "Liblinear failed to converge, increase the number of iterations.\n"
     ]
    },
    {
     "name": "stdout",
     "output_type": "stream",
     "text": [
      "train accuracy:  0.82575\n",
      "test accuracy:  0.826\n",
      "-----------------------------------------\n",
      "Running Supersparse Linear Integer Model\n",
      "Max runtime:  200 seconds\n",
      "train accuracy:  0.7565\n",
      "test accuracy:  0.77\n",
      "-----------------------------------------\n",
      "Running Explainable Boosting Machine\n",
      "train accuracy:  0.94075\n",
      "test accuracy:  0.93\n",
      "-----------------------------------------\n",
      "Running SHAP explained XGBoost\n",
      "train accuracy:  0.95475\n",
      "test accuracy:  0.921\n",
      "-----------------------------------------\n",
      "Running Logit\n"
     ]
    },
    {
     "name": "stderr",
     "output_type": "stream",
     "text": [
      "Liblinear failed to converge, increase the number of iterations.\n"
     ]
    },
    {
     "name": "stdout",
     "output_type": "stream",
     "text": [
      "train accuracy:  0.8075\n",
      "test accuracy:  0.81\n",
      "-----------------------------------------\n",
      "Running Supersparse Linear Integer Model\n",
      "Max runtime:  200 seconds\n",
      "train accuracy:  0.75825\n",
      "test accuracy:  0.785\n",
      "-----------------------------------------\n",
      "Running Explainable Boosting Machine\n",
      "train accuracy:  0.94525\n",
      "test accuracy:  0.94\n",
      "-----------------------------------------\n",
      "Running SHAP explained XGBoost\n",
      "train accuracy:  0.9585\n",
      "test accuracy:  0.927\n",
      "-----------------------------------------\n",
      "Running Logit\n"
     ]
    },
    {
     "name": "stderr",
     "output_type": "stream",
     "text": [
      "Liblinear failed to converge, increase the number of iterations.\n"
     ]
    },
    {
     "name": "stdout",
     "output_type": "stream",
     "text": [
      "train accuracy:  0.78775\n",
      "test accuracy:  0.799\n"
     ]
    }
   ],
   "source": [
    "for balance in [0, 0.1, 0.2, 0.3, 0.4, 0.6, 0.7, 0.8, 0.9, 1]:\n",
    "    name = \"synth_adult_combined_alt_\"+str(balance)\n",
    "    dataframe = pd.read_csv(os.getcwd() + '/synthetic_data/data/'+ name + '_processed.csv', sep = ',')\n",
    "    models, data = run_results(dataframe, name)"
   ]
  },
  {
   "cell_type": "code",
   "execution_count": 28,
   "metadata": {
    "jupyter": {
     "source_hidden": true
    }
   },
   "outputs": [],
   "source": [
    "def extract_results(results, X):\n",
    "    # Extract specific models from the results\n",
    "\n",
    "    slim_results = results[0][1]\n",
    "\n",
    "    rho = slim_results['rho']\n",
    "    slim_predictions = pred_slim(X,rho)\n",
    "\n",
    "    ebm = results[1]\n",
    "\n",
    "    XGboost = results[2]\n",
    "    explainer = shap.TreeExplainer(XGboost)\n",
    "    shap_values = explainer.shap_values(X)\n",
    "\n",
    "    logit = results[3]\n",
    "    \n",
    "    return rho, slim_predictions, ebm, explainer, shap_values, logit\n",
    "\n",
    "\n",
    "def get_explanations(results, X, y, X_names, pred_idx=0, printing=False):\n",
    "    \n",
    "    rho, slim_predictions, ebm, explainer, shap_values, logit = results   \n",
    "    \n",
    "    observation = pd.Series(1, index=['Constant']).append(X.iloc[pred_idx]).append(pd.Series(y.iloc[pred_idx], index=['prediction']))\n",
    "    \n",
    "    slim_contributions = X.iloc[pred_idx]*rho[1:]\n",
    "    slim_threshold = rho[0]\n",
    "    slim_prediction = slim_predictions.iloc[pred_idx]\n",
    "    slim_explanation = pd.Series(slim_threshold, index=['Constant']).append(slim_contributions).append(pd.Series(slim_prediction, index=['prediction'])) \n",
    "\n",
    "    logit_contributions = X.iloc[pred_idx]*logit.coef_.ravel()\n",
    "    logit_intercept = logit.intercept_\n",
    "    logit_prediction = int(sum(logit_contributions)+logit_intercept>0)\n",
    "    logit_explanation = pd.Series(logit_intercept, index=['Constant']).append(logit_contributions).append(pd.Series(logit_prediction, index=['prediction']))\n",
    "\n",
    "    ebm_local = ebm.explain_local(X.iloc[pred_idx:pred_idx+1], y.iloc[pred_idx:pred_idx+1], name='EBM')\n",
    "    ebm_contributions = pd.Series(ebm_local.data(0)['scores'], index=X_names[1:])\n",
    "    ebm_mean = ebm_local.data(0)['extra']['scores'][0]                               \n",
    "    ebm_prediction = int(sum(ebm_contributions)+ebm_mean>0)\n",
    "    ebm_explanation = pd.Series(ebm_mean, index= ['Constant']).append(ebm_contributions).append(pd.Series(ebm_prediction, index=['prediction']))\n",
    "\n",
    "    shap_contributions = pd.Series(shap_values[pred_idx,:], index=X_names[1:])\n",
    "    shap_mean = explainer.expected_value                              \n",
    "    shap_prediction =  int(sum(shap_contributions)+ shap_mean>0)\n",
    "    shap_explanation = pd.Series(shap_mean, index = ['Constant']).append(shap_contributions).append(pd.Series(shap_prediction, index=['prediction']))\n",
    "    \n",
    "    explanations = pd.DataFrame([observation, slim_explanation, logit_explanation, ebm_explanation, shap_explanation], index=['X', 'slim', 'logit', 'ebm', 'shap'])\n",
    "    explanations['sum'] = explanations[list(explanations.columns)].sum(axis=1)\n",
    "    if printing:\n",
    "        display(explanations)\n",
    "        print(\"prediction slim: \", slim_prediction)\n",
    "        print(\"prediction logit: \", logit_prediction)\n",
    "        print(\"prediction ebm: \", ebm_prediction)\n",
    "        print(\"prediction shap: \", shap_prediction)\n",
    "        print(\"true y: \", y.iloc[pred_idx])   \n",
    "    \n",
    "    return explanations\n",
    "\n",
    "def performance_measures(data, models):\n",
    "    train_aucs = []\n",
    "    test_aucs = []\n",
    "    \n",
    "    X_train = data['X_train']\n",
    "    X_test = data['X_test']\n",
    "    y_train = data['y_train']\n",
    "    y_test = data['y_test']\n",
    "    \n",
    "    slim_results = models[0][1]\n",
    "    rho = slim_results['rho']\n",
    "    train_pred = scale_sigmoid(X_train.dot(rho[1:])+rho[0])\n",
    "    test_pred = sigmoid(X_test.dot(rho[1:])+rho[0])\n",
    "    train_aucs.append(auc(y_train,train_pred))\n",
    "    test_aucs.append(auc(y_test,test_pred))\n",
    "    \n",
    "    ebm = models[1]\n",
    "    train_pred = ebm.predict_proba(X_train)\n",
    "    test_pred = ebm.predict_proba(X_test)\n",
    "    train_aucs.append(auc(y_train,train_pred[:,1]))\n",
    "    test_aucs.append(auc(y_test,test_pred[:,1]))\n",
    "    \n",
    "    XGBoost = models[2]\n",
    "    train_pred = XGBoost.predict_proba(X_train)\n",
    "    test_pred = XGBoost.predict_proba(X_test)\n",
    "    train_aucs.append(auc(y_train,train_pred[:,1]))\n",
    "    test_aucs.append(auc(y_test,test_pred[:,1]))\n",
    "    \n",
    "    logit = models[3]\n",
    "    train_pred = logit.predict_proba(X_train)\n",
    "    test_pred = logit.predict_proba(X_test)\n",
    "    train_aucs.append(auc(y_train,train_pred[:,1]))\n",
    "    test_aucs.append(auc(y_test,test_pred[:,1]))\n",
    "\n",
    "    return pd.DataFrame([train_aucs, test_aucs], ['train', 'test'], ['slim', 'ebm', 'shap', 'logit'])"
   ]
  },
  {
   "cell_type": "code",
   "execution_count": 137,
   "metadata": {},
   "outputs": [],
   "source": [
    "from scipy import spatial\n",
    "from scipy.stats import pearsonr, spearmanr\n",
    "\n",
    "def load_models(name):\n",
    "    with open('synthetic_data/models/' + name + '.pkl', 'rb') as f:\n",
    "        return pickle.load(f)\n",
    "    \n",
    "def cosine(df):\n",
    "    return(1-spatial.distance.cosine(df.iloc[0], df.iloc[1]))\n",
    "\n",
    "def get_cosine_test(df, true_test, func=cosine):\n",
    "    \n",
    "    models = list(df.index.levels[1])\n",
    "    p = len(models)\n",
    "    score = []\n",
    "    \n",
    "    for i in range(p):\n",
    "        to_drop = models.copy()\n",
    "        del to_drop[i]\n",
    "        test = pd.concat((df.drop(to_drop, level=1).droplevel(['model']),true_test.reset_index().drop(columns=['index'])), keys=['estimate', 'true' ])\n",
    "        test.index.names = ['model','obs']\n",
    "        diff = test.groupby(level='obs').apply(func).mean()\n",
    "        score.append(diff)\n",
    "#         test.groupby(level='obs').apply(display)\n",
    "    score_df = pd.DataFrame(score, models, ['score'])\n",
    "    return(score_df)\n",
    "\n",
    "def evaluate_explanations(dataset):\n",
    "    models = load_models(dataset+'_models')\n",
    "    data = load_models(dataset+'_data')\n",
    "    \n",
    "    X_names = list(data['X_test'].columns.values)\n",
    "    X_names.insert(0, '(Intercept)')\n",
    "    \n",
    "    N = data['X_test'].shape[0]\n",
    "    expl = []\n",
    "    results = extract_results(models, data['X_test'])\n",
    "    for idx in range(N):\n",
    "        expl.append(get_explanations(results,data['X_test'], data['y_test'], X_names, idx, printing=False))\n",
    "        \n",
    "    true_expl = pd.read_csv('synthetic_data/explanations/'+ dataset + '.csv')\n",
    "    true_test = true_expl.iloc[data['X_test'].index.values]\n",
    "    \n",
    "    complete_expl = pd.concat(expl, keys = range(N))\n",
    "    complete_expl.index.names = ['obs', 'model']\n",
    "    contrib = complete_expl.drop(['X'], level = 1).drop(['Constant', 'sum', 'prediction'], axis=1)\n",
    "    contrib.index = contrib.index.remove_unused_levels()\n",
    "    \n",
    "    auc = performance_measures(data, models)\n",
    "    \n",
    "    scores = get_cosine_test(contrib, true_test, cosine)\n",
    "\n",
    "    return pd.concat([scores, auc.transpose()], axis=1, sort=True)\n"
   ]
  },
  {
   "cell_type": "code",
   "execution_count": 205,
   "metadata": {},
   "outputs": [
    {
     "name": "stderr",
     "output_type": "stream",
     "text": [
      "Setting feature_perturbation = \"tree_path_dependent\" because no background data was given.\n",
      "Setting feature_perturbation = \"tree_path_dependent\" because no background data was given.\n",
      "Setting feature_perturbation = \"tree_path_dependent\" because no background data was given.\n",
      "Setting feature_perturbation = \"tree_path_dependent\" because no background data was given.\n",
      "Setting feature_perturbation = \"tree_path_dependent\" because no background data was given.\n",
      "Setting feature_perturbation = \"tree_path_dependent\" because no background data was given.\n",
      "Setting feature_perturbation = \"tree_path_dependent\" because no background data was given.\n",
      "Setting feature_perturbation = \"tree_path_dependent\" because no background data was given.\n",
      "Setting feature_perturbation = \"tree_path_dependent\" because no background data was given.\n",
      "Setting feature_perturbation = \"tree_path_dependent\" because no background data was given.\n"
     ]
    }
   ],
   "source": [
    "scores_list = []\n",
    "balances = [0, 0.1, 0.2, 0.3, 0.4, 0.6, 0.7, 0.8, 0.9, 1]\n",
    "for balance in balances:\n",
    "    dataset = \"synth_adult_equal_\"+str(balance)\n",
    "    scores = evaluate_explanations(dataset)\n",
    "    scores_list.append(scores)"
   ]
  },
  {
   "cell_type": "code",
   "execution_count": 180,
   "metadata": {},
   "outputs": [
    {
     "name": "stderr",
     "output_type": "stream",
     "text": [
      "Setting feature_perturbation = \"tree_path_dependent\" because no background data was given.\n",
      "Setting feature_perturbation = \"tree_path_dependent\" because no background data was given.\n",
      "Setting feature_perturbation = \"tree_path_dependent\" because no background data was given.\n",
      "Setting feature_perturbation = \"tree_path_dependent\" because no background data was given.\n",
      "Setting feature_perturbation = \"tree_path_dependent\" because no background data was given.\n",
      "Setting feature_perturbation = \"tree_path_dependent\" because no background data was given.\n",
      "Setting feature_perturbation = \"tree_path_dependent\" because no background data was given.\n",
      "Setting feature_perturbation = \"tree_path_dependent\" because no background data was given.\n",
      "Setting feature_perturbation = \"tree_path_dependent\" because no background data was given.\n",
      "Setting feature_perturbation = \"tree_path_dependent\" because no background data was given.\n"
     ]
    }
   ],
   "source": [
    "scores_list_noise = []\n",
    "noises = [0, 0.5, 1, 1.5, 2, 2.5, 3, 4, 5, 10]\n",
    "for noise in noises:\n",
    "    dataset = \"synth_adult_noise_alt\"+str(noise)\n",
    "    scores = evaluate_explanations(dataset)\n",
    "    scores_list_noise.append(scores)"
   ]
  },
  {
   "cell_type": "code",
   "execution_count": 104,
   "metadata": {},
   "outputs": [
    {
     "name": "stderr",
     "output_type": "stream",
     "text": [
      "Setting feature_perturbation = \"tree_path_dependent\" because no background data was given.\n",
      "Setting feature_perturbation = \"tree_path_dependent\" because no background data was given.\n",
      "Setting feature_perturbation = \"tree_path_dependent\" because no background data was given.\n",
      "Setting feature_perturbation = \"tree_path_dependent\" because no background data was given.\n",
      "Setting feature_perturbation = \"tree_path_dependent\" because no background data was given.\n",
      "Setting feature_perturbation = \"tree_path_dependent\" because no background data was given.\n",
      "Setting feature_perturbation = \"tree_path_dependent\" because no background data was given.\n",
      "Setting feature_perturbation = \"tree_path_dependent\" because no background data was given.\n",
      "Setting feature_perturbation = \"tree_path_dependent\" because no background data was given.\n",
      "Setting feature_perturbation = \"tree_path_dependent\" because no background data was given.\n"
     ]
    }
   ],
   "source": [
    "scores_list_combined = []\n",
    "balances = [0, 0.1, 0.2, 0.3, 0.4, 0.6, 0.7, 0.8, 0.9, 1]\n",
    "for balance in balances:\n",
    "    dataset = \"synth_adult_combined_alt_\"+str(balance)\n",
    "    scores = evaluate_explanations(dataset)\n",
    "    scores_list_combined.append(scores)"
   ]
  },
  {
   "cell_type": "code",
   "execution_count": 206,
   "metadata": {},
   "outputs": [],
   "source": [
    "\n",
    "trade_off = pd.concat(scores_list, keys = balances)\n",
    "trade_off.index.names = ['balance', 'model']\n",
    "\n",
    "# trade_off = pd.concat(scores_list_noise, keys = noises)\n",
    "# trade_off.index.names = ['noise', 'model']\n",
    "\n",
    "# trade_off = pd.concat(scores_list_combined, keys = balances)\n",
    "# trade_off.index.names = ['balance', 'model']"
   ]
  },
  {
   "cell_type": "code",
   "execution_count": 208,
   "metadata": {},
   "outputs": [],
   "source": [
    "\n",
    "ebm_df = trade_off.reorder_levels(['model','balance']).loc['ebm'].reset_index(level=0)\n",
    "logit_df = trade_off.reorder_levels(['model','balance']).loc['logit'].reset_index(level=0)\n",
    "shap_df = trade_off.reorder_levels(['model','balance']).loc['shap'].reset_index(level=0)\n",
    "slim_df = trade_off.reorder_levels(['model','balance']).loc['slim'].reset_index(level=0)\n",
    "\n",
    "# ebm_df = trade_off.reorder_levels(['model','noise']).loc['ebm'].reset_index(level=0)\n",
    "# logit_df = trade_off.reorder_levels(['model','noise']).loc['logit'].reset_index(level=0)\n",
    "# shap_df = trade_off.reorder_levels(['model','noise']).loc['shap'].reset_index(level=0)\n",
    "# slim_df = trade_off.reorder_levels(['model','noise']).loc['slim'].reset_index(level=0)"
   ]
  },
  {
   "cell_type": "code",
   "execution_count": 209,
   "metadata": {},
   "outputs": [
    {
     "data": {
      "text/html": [
       "<div>\n",
       "<style scoped>\n",
       "    .dataframe tbody tr th:only-of-type {\n",
       "        vertical-align: middle;\n",
       "    }\n",
       "\n",
       "    .dataframe tbody tr th {\n",
       "        vertical-align: top;\n",
       "    }\n",
       "\n",
       "    .dataframe thead th {\n",
       "        text-align: right;\n",
       "    }\n",
       "</style>\n",
       "<table border=\"1\" class=\"dataframe\">\n",
       "  <thead>\n",
       "    <tr style=\"text-align: right;\">\n",
       "      <th></th>\n",
       "      <th>balance</th>\n",
       "      <th>score</th>\n",
       "      <th>train</th>\n",
       "      <th>test</th>\n",
       "    </tr>\n",
       "  </thead>\n",
       "  <tbody>\n",
       "    <tr>\n",
       "      <td>0</td>\n",
       "      <td>0.0</td>\n",
       "      <td>0.999699</td>\n",
       "      <td>0.968600</td>\n",
       "      <td>0.964708</td>\n",
       "    </tr>\n",
       "    <tr>\n",
       "      <td>1</td>\n",
       "      <td>0.1</td>\n",
       "      <td>0.998546</td>\n",
       "      <td>0.959081</td>\n",
       "      <td>0.956170</td>\n",
       "    </tr>\n",
       "    <tr>\n",
       "      <td>2</td>\n",
       "      <td>0.2</td>\n",
       "      <td>0.991009</td>\n",
       "      <td>0.938343</td>\n",
       "      <td>0.939984</td>\n",
       "    </tr>\n",
       "    <tr>\n",
       "      <td>3</td>\n",
       "      <td>0.3</td>\n",
       "      <td>0.973797</td>\n",
       "      <td>0.908277</td>\n",
       "      <td>0.910644</td>\n",
       "    </tr>\n",
       "    <tr>\n",
       "      <td>4</td>\n",
       "      <td>0.4</td>\n",
       "      <td>0.939717</td>\n",
       "      <td>0.857831</td>\n",
       "      <td>0.860346</td>\n",
       "    </tr>\n",
       "    <tr>\n",
       "      <td>5</td>\n",
       "      <td>0.6</td>\n",
       "      <td>0.653905</td>\n",
       "      <td>0.779111</td>\n",
       "      <td>0.769174</td>\n",
       "    </tr>\n",
       "    <tr>\n",
       "      <td>6</td>\n",
       "      <td>0.7</td>\n",
       "      <td>0.391993</td>\n",
       "      <td>0.757356</td>\n",
       "      <td>0.745112</td>\n",
       "    </tr>\n",
       "    <tr>\n",
       "      <td>7</td>\n",
       "      <td>0.8</td>\n",
       "      <td>-0.113797</td>\n",
       "      <td>0.742958</td>\n",
       "      <td>0.731051</td>\n",
       "    </tr>\n",
       "    <tr>\n",
       "      <td>8</td>\n",
       "      <td>0.9</td>\n",
       "      <td>-0.279044</td>\n",
       "      <td>0.737253</td>\n",
       "      <td>0.723423</td>\n",
       "    </tr>\n",
       "    <tr>\n",
       "      <td>9</td>\n",
       "      <td>1.0</td>\n",
       "      <td>-0.269436</td>\n",
       "      <td>0.730160</td>\n",
       "      <td>0.723839</td>\n",
       "    </tr>\n",
       "  </tbody>\n",
       "</table>\n",
       "</div>"
      ],
      "text/plain": [
       "   balance     score     train      test\n",
       "0      0.0  0.999699  0.968600  0.964708\n",
       "1      0.1  0.998546  0.959081  0.956170\n",
       "2      0.2  0.991009  0.938343  0.939984\n",
       "3      0.3  0.973797  0.908277  0.910644\n",
       "4      0.4  0.939717  0.857831  0.860346\n",
       "5      0.6  0.653905  0.779111  0.769174\n",
       "6      0.7  0.391993  0.757356  0.745112\n",
       "7      0.8 -0.113797  0.742958  0.731051\n",
       "8      0.9 -0.279044  0.737253  0.723423\n",
       "9      1.0 -0.269436  0.730160  0.723839"
      ]
     },
     "execution_count": 209,
     "metadata": {},
     "output_type": "execute_result"
    }
   ],
   "source": [
    "logit_df"
   ]
  },
  {
   "cell_type": "code",
   "execution_count": 197,
   "metadata": {},
   "outputs": [
    {
     "name": "stdout",
     "output_type": "stream",
     "text": [
      "[WinError 2] Het systeem kan het opgegeven bestand niet vinden: 'research'\n",
      "C:\\Users\\danie\\Documents\\StageDaniel\\research\n"
     ]
    }
   ],
   "source": [
    "cd research"
   ]
  },
  {
   "cell_type": "code",
   "execution_count": 210,
   "metadata": {},
   "outputs": [
    {
     "data": {
      "image/png": "[encoded data removed]",
      "text/plain": [
       "<Figure size 432x288 with 1 Axes>"
      ]
     },
     "metadata": {
      "needs_background": "light"
     },
     "output_type": "display_data"
    }
   ],
   "source": [
    "fig, ax1 = plt.subplots()\n",
    "xlabel = 'balance'\n",
    "# xlabel = 'noise'\n",
    "ylabel = 'test'\n",
    "ax1.set_xlabel('Nonlinearity')\n",
    "# ax1.set_xlabel('Noise')\n",
    "ax1.set_ylabel('AUC score')\n",
    "ax1.plot(xlabel, ylabel, 'b',data=ebm_df)\n",
    "ax1.plot(xlabel, ylabel, 'g', data=slim_df)\n",
    "ax1.plot(xlabel, ylabel, 'r', data=shap_df)\n",
    "ax1.plot(xlabel, ylabel, 'c', data=logit_df)\n",
    "plt.legend(['ebm', 'slim', 'shap', 'logit'])\n",
    "plt.title(\"Model AUC performance for different levels of nonlinearity.\")\n",
    "# plt.title(\"Model AUC performance for different levels of noise.\")\n",
    "plt.savefig(\"results\\plots\\synth_auc.png\")\n",
    "# plt.savefig(\"results\\plots\\synth_combined_alt_auc.png\")\n",
    "# plt.savefig(\"results\\plots\\synth_noise_auc.png\")\n",
    "# plt.savefig(\"results\\plots\\synth_noise_alt_auc.png\")\n",
    "plt.show()"
   ]
  },
  {
   "cell_type": "code",
   "execution_count": 211,
   "metadata": {},
   "outputs": [
    {
     "data": {
      "image/png": "[encoded data removed]",
      "text/plain": [
       "<Figure size 432x288 with 1 Axes>"
      ]
     },
     "metadata": {
      "needs_background": "light"
     },
     "output_type": "display_data"
    }
   ],
   "source": [
    "fig, ax1 = plt.subplots()\n",
    "xlabel = 'balance'\n",
    "# xlabel = 'noise'\n",
    "ylabel = 'score'\n",
    "ax1.set_xlabel('Nonlinearity')\n",
    "# ax1.set_xlabel('Noise')\n",
    "ax1.set_ylabel('Cosine Similarity')\n",
    "ax1.plot(xlabel, ylabel, 'b',data=ebm_df)\n",
    "ax1.plot(xlabel, ylabel, 'g', data=slim_df)\n",
    "ax1.plot(xlabel, ylabel, 'r', data=shap_df)\n",
    "ax1.plot(xlabel, ylabel, 'c', data=logit_df)\n",
    "plt.legend(['ebm', 'slim', 'shap', 'logit'])\n",
    "plt.title(\"Explanation similarities for different levels of nonlinearity.\")\n",
    "# plt.title(\"Explanation similarities for different levels of noise.\")\n",
    "plt.savefig(\"results\\plots\\synth_simil.png\")\n",
    "# plt.savefig(\"results\\plots\\synth_noise_simil.png\")\n",
    "# plt.savefig(\"results\\plots\\synth_noise_alt_simil.png\")\n",
    "# plt.savefig(\"results\\plots\\synth_combined_alt_simil.png\")\n",
    "plt.show()"
   ]
  },
  {
   "cell_type": "code",
   "execution_count": 67,
   "metadata": {},
   "outputs": [
    {
     "data": {
      "image/png": "[encoded data removed]",
      "text/plain": [
       "<Figure size 432x288 with 2 Axes>"
      ]
     },
     "metadata": {
      "needs_background": "light"
     },
     "output_type": "display_data"
    }
   ],
   "source": [
    "fig, ax1 = plt.subplots()\n",
    "xlabel = 'balance'\n",
    "ylabel = 'test'\n",
    "color = 'tab:red'\n",
    "ax1.set_xlabel('Non-linearity')\n",
    "ax1.set_ylabel('AUC score')\n",
    "ax1.plot(xlabel, ylabel, 'b',data=ebm_df)\n",
    "ax1.plot(xlabel, ylabel, 'g', data=slim_df)\n",
    "ax1.plot(xlabel, ylabel, 'r', data=shap_df)\n",
    "ax1.plot(xlabel, ylabel, 'c', data=logit_df)\n",
    "ax1.tick_params(axis='y')\n",
    "plt.legend(['ebm', 'slim', 'shap', 'logit'])\n",
    "ax2 = ax1.twinx()  # instantiate a second axes that shares the same x-axis\n",
    "\n",
    "color = 'tab:blue'\n",
    "ax2.set_ylabel('Explanation accuracy (dotted)')  # we already handled the x-label with ax1\n",
    "ax2.plot(xlabel, 'score', 'b:', data=ebm_df)\n",
    "ax2.plot(xlabel, 'score', 'g:', data=slim_df)\n",
    "ax2.plot(xlabel, 'score', 'r:', data=shap_df)\n",
    "ax2.plot(xlabel, 'score', 'c:', data=logit_df)\n",
    "ax2.tick_params(axis='y')\n",
    "\n",
    "fig.tight_layout()  # otherwise the right y-label is slightly clipped\n",
    "plt.title(\"Model AUC scores for different levels of nonlinearity and their explanation accuracies in dotted lines\")\n",
    "plt.show()"
   ]
  },
  {
   "cell_type": "code",
   "execution_count": null,
   "metadata": {},
   "outputs": [],
   "source": []
  }
 ],
 "metadata": {
  "kernelspec": {
   "display_name": "Python 3",
   "language": "python",
   "name": "python3"
  },
  "language_info": {
   "codemirror_mode": {
    "name": "ipython",
    "version": 3
   },
   "file_extension": ".py",
   "mimetype": "text/x-python",
   "name": "python",
   "nbconvert_exporter": "python",
   "pygments_lexer": "ipython3",
   "version": "3.7.4"
  }
 },
 "nbformat": 4,
 "nbformat_minor": 4
}
