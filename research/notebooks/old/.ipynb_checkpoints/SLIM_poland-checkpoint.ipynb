{
 "cells": [
  {
   "cell_type": "code",
   "execution_count": 1,
   "metadata": {},
   "outputs": [
    {
     "name": "stderr",
     "output_type": "stream",
     "text": [
      "Python 2.7.11\n"
     ]
    }
   ],
   "source": [
    "! python --version\n",
    "# Should be 2.7"
   ]
  },
  {
   "cell_type": "code",
   "execution_count": 2,
   "metadata": {},
   "outputs": [],
   "source": [
    "import os\n",
    "import numpy as np\n",
    "import pandas as pd\n",
    "import cplex as cp\n",
    "# import slim_python as slim"
   ]
  },
  {
   "cell_type": "code",
   "execution_count": 3,
   "metadata": {},
   "outputs": [],
   "source": [
    "import slim_python as slim"
   ]
  },
  {
   "cell_type": "markdown",
   "metadata": {},
   "source": [
    "Check working directory is Stagedaniel"
   ]
  },
  {
   "cell_type": "code",
   "execution_count": 4,
   "metadata": {},
   "outputs": [
    {
     "name": "stdout",
     "output_type": "stream",
     "text": [
      "C:\\Users\\danie\\Documents\\StageDaniel\n"
     ]
    }
   ],
   "source": [
    "cd ..\n"
   ]
  },
  {
   "cell_type": "code",
   "execution_count": 5,
   "metadata": {},
   "outputs": [
    {
     "data": {
      "text/plain": [
       "'C:\\\\Users\\\\danie\\\\Documents\\\\StageDaniel'"
      ]
     },
     "execution_count": 5,
     "metadata": {},
     "output_type": "execute_result"
    }
   ],
   "source": [
    "os.getcwd()"
   ]
  },
  {
   "cell_type": "markdown",
   "metadata": {},
   "source": [
    "#### LOAD DATA ####"
   ]
  },
  {
   "cell_type": "code",
   "execution_count": 6,
   "metadata": {},
   "outputs": [
    {
     "name": "stderr",
     "output_type": "stream",
     "text": [
      "c:\\python27\\lib\\site-packages\\ipykernel_launcher.py:13: FutureWarning: Method .as_matrix will be removed in a future version. Use .values instead.\n",
      "  del sys.path[0]\n"
     ]
    }
   ],
   "source": [
    "\n",
    "# requirements for CSV data file\n",
    "# - outcome variable in first column\n",
    "# - outcome variable values should be [-1, 1] or [0, 1]\n",
    "# - first row contains names for the outcome variable + input variables\n",
    "# - no empty cells\n",
    "data_name = 'bignormpoland'\n",
    "data_dir = os.getcwd() + '/data/'\n",
    "data_csv_file = data_dir + data_name + '_processed.csv'\n",
    "\n",
    "# load data file from csv\n",
    "df = pd.read_csv(data_csv_file, sep = ',')\n",
    "data = df.as_matrix()\n",
    "data_headers = list(df.columns.values)\n",
    "N = data.shape[0]\n",
    "\n",
    "# setup Y vector and Y_name\n",
    "Y_col_idx = [0]\n",
    "Y = data[:, Y_col_idx]\n",
    "Y_name = [data_headers[j] for j in Y_col_idx]\n",
    "Y[Y == 0] = -1\n",
    "\n",
    "# setup X and X_names\n",
    "X_col_idx = [j for j in range(data.shape[1]) if j not in Y_col_idx]\n",
    "X = data[:, X_col_idx]\n",
    "X_names = [data_headers[j] for j in X_col_idx]\n",
    "\n",
    "# insert a column of ones to X for the intercept\n",
    "X = np.insert(arr = X, obj = 0, values = np.ones(N), axis = 1)\n",
    "X_names.insert(0, '(Intercept)')\n",
    "\n",
    "# run sanity checks\n",
    "slim.check_data(X = X, Y = Y, X_names = X_names)"
   ]
  },
  {
   "cell_type": "markdown",
   "metadata": {},
   "source": [
    "#### TRAIN SCORING SYSTEM USING SLIM ####"
   ]
  },
  {
   "cell_type": "code",
   "execution_count": 7,
   "metadata": {},
   "outputs": [],
   "source": [
    "#### TRAIN SCORING SYSTEM USING SLIM ####\n",
    "# setup SLIM coefficient set\n",
    "coef_constraints = slim.SLIMCoefficientConstraints(variable_names = X_names, ub = 100, lb = -100)\n",
    "# coef_constraints.view()"
   ]
  },
  {
   "cell_type": "code",
   "execution_count": 8,
   "metadata": {},
   "outputs": [],
   "source": [
    "#choose upper and lower bounds for the intercept coefficient\n",
    "#to ensure that there will be no regularization due to the intercept, choose\n",
    "#\n",
    "#intercept_ub < min_i(min_score_i)\n",
    "#intercept_lb > max_i(max_score_i)\n",
    "#\n",
    "#where min_score_i = min((Y*X) * \\rho) for rho in \\Lset\n",
    "#where max_score_i = max((Y*X) * \\rho) for rho in \\Lset\n",
    "#\n",
    "#setting intercept_ub and intercept_lb in this way ensures that we can always\n",
    "# classify every point as positive and negative\n",
    "scores_at_ub = (Y * X) * coef_constraints.ub\n",
    "scores_at_lb = (Y * X) * coef_constraints.lb\n",
    "non_intercept_ind = np.array([n != '(Intercept)' for n in X_names])\n",
    "scores_at_ub = scores_at_ub[:, non_intercept_ind]\n",
    "scores_at_lb = scores_at_lb[:, non_intercept_ind]\n",
    "max_scores = np.fmax(scores_at_ub, scores_at_lb)\n",
    "min_scores = np.fmin(scores_at_ub, scores_at_lb)\n",
    "max_scores = np.sum(max_scores, 1)\n",
    "min_scores = np.sum(min_scores, 1)\n",
    "\n",
    "intercept_ub = -min(min_scores) + 1\n",
    "intercept_lb = -max(max_scores) + 1\n",
    "coef_constraints.set_field('ub', '(Intercept)', intercept_ub)\n",
    "coef_constraints.set_field('lb', '(Intercept)', intercept_lb)\n",
    "# coef_constraints.view()\n"
   ]
  },
  {
   "cell_type": "code",
   "execution_count": 9,
   "metadata": {},
   "outputs": [],
   "source": [
    "#create SLIM IP\n",
    "slim_input = {\n",
    "    'X': X,\n",
    "    'X_names': X_names,\n",
    "    'Y': Y,\n",
    "    'C_0': 0.01,\n",
    "    'w_pos': 42705./(2*2023),      # N/(2*number of positive datapoints)\n",
    "    'w_neg': 42705./(2*40682),      # N/(2*number of negative datapoints)\n",
    "    'L0_min': 0,\n",
    "    'L0_max': float('inf'),\n",
    "    'err_min': 0,\n",
    "    'err_max': 1.0,\n",
    "    'pos_err_min': 0,\n",
    "    'pos_err_max': 1.0,\n",
    "    'neg_err_min': 0,\n",
    "    'neg_err_max': 1.0,\n",
    "    'coef_constraints': coef_constraints\n",
    "}\n",
    "\n",
    "slim_IP, slim_info = slim.create_slim_IP(slim_input)"
   ]
  },
  {
   "cell_type": "code",
   "execution_count": 13,
   "metadata": {},
   "outputs": [],
   "source": [
    "# slim_input"
   ]
  },
  {
   "cell_type": "code",
   "execution_count": 11,
   "metadata": {},
   "outputs": [
    {
     "name": "stdout",
     "output_type": "stream",
     "text": [
      "Found incumbent of value 4088.350384 after 0.20 sec. (46.18 ticks)\n"
     ]
    },
    {
     "name": "stderr",
     "output_type": "stream",
     "text": [
      "Warning:  Non-integral bounds for integer variables rounded.\n"
     ]
    },
    {
     "name": "stdout",
     "output_type": "stream",
     "text": [
      "Tried aggregator 2 times.\n",
      "MIP Presolve modified 1932 coefficients.\n",
      "Aggregator did 4 substitutions.\n",
      "Reduced MIP has 40951 rows, 40899 columns, and 2241069 nonzeros.\n",
      "Reduced MIP has 40792 binaries, 54 generals, 0 SOSs, and 0 indicators.\n",
      "Presolve time = 1.20 sec. (651.82 ticks)\n",
      "Probing time = 0.06 sec. (55.92 ticks)\n",
      "Tried aggregator 1 time.\n",
      "MIP Presolve modified 38807 coefficients.\n",
      "Reduced MIP has 40951 rows, 40899 columns, and 2241069 nonzeros.\n",
      "Reduced MIP has 40792 binaries, 107 generals, 0 SOSs, and 0 indicators.\n",
      "Presolve time = 0.92 sec. (473.88 ticks)\n",
      "Probing time = 0.08 sec. (55.92 ticks)\n",
      "MIP emphasis: integer feasibility.\n",
      "MIP search method: dynamic search.\n",
      "Parallel mode: none, using 1 thread.\n",
      "Root relaxation solution time = 6.95 sec. (4082.55 ticks)\n",
      "\n",
      "        Nodes                                         Cuts/\n",
      "   Node  Left     Objective  IInf  Best Integer    Best Bound    ItCnt     Gap\n",
      "\n",
      "*     0+    0                         4088.3504        0.0000           100.00%\n",
      "      0     0 -1.00000e+037     0     4088.3504        0.0000      498  100.00%\n",
      "\n",
      "Root node processing (before b&c):\n",
      "  Real time             =   10.80 sec. (5920.87 ticks)\n",
      "Sequential b&c:\n",
      "  Real time             =    0.00 sec. (0.00 ticks)\n",
      "                          ------------\n",
      "Total (root+branch&cut) =   10.80 sec. (5920.87 ticks)\n"
     ]
    }
   ],
   "source": [
    "# %% capture\n",
    "# setup SLIM IP parameters\n",
    "# see docs/usrccplex.pdf for more about these parameters\n",
    "slim_IP.parameters.timelimit.set(10.0) #set runtime here\n",
    "#TODO: add these default settings to create_slim_IP\n",
    "slim_IP.parameters.randomseed.set(0)\n",
    "slim_IP.parameters.threads.set(1)\n",
    "slim_IP.parameters.parallel.set(1)\n",
    "slim_IP.parameters.output.clonelog.set(0)\n",
    "slim_IP.parameters.mip.tolerances.mipgap.set(np.finfo(np.float).eps)\n",
    "slim_IP.parameters.mip.tolerances.absmipgap.set(np.finfo(np.float).eps)\n",
    "slim_IP.parameters.mip.tolerances.integrality.set(np.finfo(np.float).eps)\n",
    "slim_IP.parameters.emphasis.mip.set(1)\n",
    "\n",
    "\n",
    "# solve SLIM IP\n",
    "slim_IP.solve()\n",
    "\n",
    "# run quick and dirty tests to make sure that IP output is correct\n",
    "slim.check_slim_IP_output(slim_IP, slim_info, X, Y, coef_constraints)"
   ]
  },
  {
   "cell_type": "code",
   "execution_count": 14,
   "metadata": {},
   "outputs": [
    {
     "name": "stdout",
     "output_type": "stream",
     "text": [
      "+------------------------------------------+--------------------+-----------+\n",
      "| PREDICT O IF SCORE >= -251               |                    |           |\n",
      "| ======================================== | ================== | ========= |\n",
      "| X02_total_liabilities_div_total_assets   |         -23 points |   + ..... |\n",
      "| ======================================== | ================== | ========= |\n",
      "| ADD POINTS FROM ROWS 1 to 1              |              SCORE |   = ..... |\n",
      "+------------------------------------------+--------------------+-----------+\n",
      "[-251.    0.  -23.    0.    0.    0.    0.    0.    0.    0.    0.    0.\n",
      "    0.    0.    0.    0.    0.    0.    0.    0.    0.    0.    0.    0.\n",
      "    0.    0.    0.    0.    0.    0.    0.    0.    0.    0.    0.    0.\n",
      "    0.    0.    0.    0.    0.    0.    0.    0.    0.    0.    0.    0.\n",
      "    0.    0.    0.    0.    0.    0.]\n",
      "error_rate: 0.00%\n",
      "TPR: 0.00%\n",
      "FPR: 0.00%\n",
      "true_positives: 0\n",
      "false_positives: 0\n",
      "true_negatives: 38807\n",
      "false_negatives: 1932\n"
     ]
    }
   ],
   "source": [
    "#### CHECK RESULTS ####\n",
    "slim_results = slim.get_slim_summary(slim_IP, slim_info, X, Y)\n",
    "# print(slim_results)\n",
    "\n",
    "# print model\n",
    "print(slim_results['string_model'])\n",
    "\n",
    "# print coefficient vector\n",
    "print(slim_results['rho'])\n",
    "\n",
    "# print accuracy metrics\n",
    "print('error_rate: %1.2f%%' % (100*slim_results['error_rate']))\n",
    "print('TPR: %1.2f%%' % (100*slim_results['true_positive_rate']))\n",
    "print('FPR: %1.2f%%' % (100*slim_results['false_positive_rate']))\n",
    "print('true_positives: %d' % slim_results['true_positives'])\n",
    "print('false_positives: %d' % slim_results['false_positives'])\n",
    "print('true_negatives: %d' % slim_results['true_negatives'])\n",
    "print('false_negatives: %d' % slim_results['false_negatives'])\n"
   ]
  },
  {
   "cell_type": "markdown",
   "metadata": {},
   "source": [
    "In the results error/tp/fp rates are reported zero due to Python 2 integer division"
   ]
  },
  {
   "cell_type": "code",
   "execution_count": 88,
   "metadata": {},
   "outputs": [
    {
     "data": {
      "text/plain": [
       "330.0"
      ]
     },
     "execution_count": 88,
     "metadata": {},
     "output_type": "execute_result"
    }
   ],
   "source": [
    "err = np.array(slim_IP.solution.get_values(slim_info['error_idx']))\n",
    "sum(err)"
   ]
  },
  {
   "cell_type": "code",
   "execution_count": 100,
   "metadata": {},
   "outputs": [
    {
     "data": {
      "text/plain": [
       "array([[ True],\n",
       "       [ True],\n",
       "       [ True],\n",
       "       ...,\n",
       "       [False],\n",
       "       [False],\n",
       "       [False]])"
      ]
     },
     "execution_count": 100,
     "metadata": {},
     "output_type": "execute_result"
    }
   ],
   "source": [
    "pred = X.dot(slim_results['rho'])>0\n",
    "pred\n",
    "Y>0"
   ]
  },
  {
   "cell_type": "code",
   "execution_count": 116,
   "metadata": {},
   "outputs": [
    {
     "data": {
      "text/plain": [
       "326"
      ]
     },
     "execution_count": 116,
     "metadata": {},
     "output_type": "execute_result"
    }
   ],
   "source": [
    "sum((Y*X).dot(slim_results['rho'])<slim_info['epsilon'])"
   ]
  },
  {
   "cell_type": "code",
   "execution_count": 122,
   "metadata": {},
   "outputs": [
    {
     "data": {
      "text/plain": [
       "4601"
      ]
     },
     "execution_count": 122,
     "metadata": {},
     "output_type": "execute_result"
    }
   ],
   "source": [
    "len(slim_info['error_idx'])"
   ]
  },
  {
   "cell_type": "code",
   "execution_count": 128,
   "metadata": {},
   "outputs": [
    {
     "data": {
      "text/plain": [
       "1.0"
      ]
     },
     "execution_count": 128,
     "metadata": {},
     "output_type": "execute_result"
    }
   ],
   "source": [
    "slim_IP.solution.get_values(3)"
   ]
  },
  {
   "cell_type": "code",
   "execution_count": 63,
   "metadata": {},
   "outputs": [
    {
     "name": "stdout",
     "output_type": "stream",
     "text": [
      "{'error_rate': 0, 'true_negatives': 2575, 'string_model': u'+--------------------------------+-------------------+-----------+\\n| PREDICT O IF SCORE >= -1       |                   |           |\\n| ============================== | ================= | ========= |\\n| CharFreqDollarSign             |          5 points |   + ..... |\\n| CharFreqExcalamationMark       |          5 points |   + ..... |\\n| WordFreqRemove                 |          5 points |   + ..... |\\n| WordFreqMoney                  |          4 points |   + ..... |\\n| WordFreqInternet               |          4 points |   + ..... |\\n| WordFreqReceive                |          4 points |   + ..... |\\n| WordFreqFree                   |          4 points |   + ..... |\\n| WordFreqOur                    |          3 points |   + ..... |\\n| WordFreq0                      |          3 points |   + ..... |\\n| WordFreqTechnology             |          2 points |   + ..... |\\n| WordFreqFont                   |          2 points |   + ..... |\\n| WordFreqMake                   |          2 points |   + ..... |\\n| WordFreqOrder                  |          2 points |   + ..... |\\n| WordFreqOver                   |          2 points |   + ..... |\\n| WordFreqAll                    |          1 points |   + ..... |\\n| WordFreqYour                   |          1 points |   + ..... |\\n| WordFreqBusiness               |          1 points |   + ..... |\\n| WordFreq3D                     |          1 points |   + ..... |\\n| CharFreqParentheses            |         -1 points |   + ..... |\\n| WordFreqData                   |         -1 points |   + ..... |\\n| WordFreq857                    |         -1 points |   + ..... |\\n| WordFreqYou                    |         -1 points |   + ..... |\\n| WordFreqHPL                    |         -1 points |   + ..... |\\n| WordFreqWill                   |         -1 points |   + ..... |\\n| WordFreqTelnet                 |         -2 points |   + ..... |\\n| WordFreq1999                   |         -2 points |   + ..... |\\n| WordFreqParts                  |         -2 points |   + ..... |\\n| WordFreqRE                     |         -2 points |   + ..... |\\n| CharFreqBracket                |         -3 points |   + ..... |\\n| CharFreqSemicolon              |         -4 points |   + ..... |\\n| WordFreqEDU                    |         -4 points |   + ..... |\\n| WordFreqOriginal               |         -4 points |   + ..... |\\n| WordFreqMeeting                |         -4 points |   + ..... |\\n| WordFreqCS                     |         -4 points |   + ..... |\\n| WordFreqPM                     |         -4 points |   + ..... |\\n| WordFreqHP                     |         -4 points |   + ..... |\\n| WordFreq85                     |         -4 points |   + ..... |\\n| WordFreqGeorge                 |         -4 points |   + ..... |\\n| WordFreqLab                    |         -4 points |   + ..... |\\n| WordFreq650                    |         -4 points |   + ..... |\\n| WordFreqProject                |         -5 points |   + ..... |\\n| ============================== | ================= | ========= |\\n| ADD POINTS FROM ROWS 1 to 41   |             SCORE |   = ..... |\\n+--------------------------------+-------------------+-----------+', 'false_positive_rate': 0, 'false_negatives': 124, 'mistakes': 337, 'true_positive_rate': 0, 'rho': array([-1.,  2.,  0.,  1.,  1.,  3.,  2.,  5.,  4.,  2.,  0.,  4., -1.,\n",
      "        0.,  0.,  0.,  4.,  1.,  0., -1.,  0.,  1.,  2.,  3.,  4., -4.,\n",
      "       -1., -4., -4., -4.,  0., -2., -1., -1.,  0., -4.,  2., -2., -2.,\n",
      "       -4.,  0., -4., -4., -4., -5., -2., -4.,  0.,  0., -4., -1., -3.,\n",
      "        5.,  5.,  0.,  0.,  0.,  0.]), 'true_positives': 1689, 'false_positives': 213, 'pretty_model': <prettytable.PrettyTable object at 0x0000000019C149E8>, 'L0_norm': -15.0}\n"
     ]
    }
   ],
   "source": [
    "print(slim.get_rho_summary(slim_results['rho'], slim_info, X, Y))"
   ]
  },
  {
   "cell_type": "code",
   "execution_count": null,
   "metadata": {},
   "outputs": [],
   "source": []
  }
 ],
 "metadata": {
  "kernelspec": {
   "display_name": "Python 2",
   "language": "python",
   "name": "python2"
  },
  "language_info": {
   "codemirror_mode": {
    "name": "ipython",
    "version": 2
   },
   "file_extension": ".py",
   "mimetype": "text/x-python",
   "name": "python",
   "nbconvert_exporter": "python",
   "pygments_lexer": "ipython2",
   "version": "2.7.11"
  }
 },
 "nbformat": 4,
 "nbformat_minor": 4
}
