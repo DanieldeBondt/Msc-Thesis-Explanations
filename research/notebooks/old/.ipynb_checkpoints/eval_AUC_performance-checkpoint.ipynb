{
 "cells": [
  {
   "cell_type": "code",
   "execution_count": 1,
   "metadata": {},
   "outputs": [],
   "source": [
    "## import standard modules for data handling and visualization\n",
    "import os\n",
    "import numpy as np\n",
    "import pandas as pd\n",
    "import matplotlib.pyplot as plt\n",
    "import pickle\n",
    "\n",
    "## import model specific modules\n",
    "import cplex as cp\n",
    "import slim_python as slim\n",
    "import shap\n",
    "from interpret.glassbox import ExplainableBoostingClassifier\n",
    "from sklearn.linear_model import LogisticRegression\n",
    "from xgboost import XGBClassifier\n",
    "\n",
    "pd.set_option('display.max_columns', None)"
   ]
  },
  {
   "cell_type": "code",
   "execution_count": 2,
   "metadata": {},
   "outputs": [
    {
     "name": "stdout",
     "output_type": "stream",
     "text": [
      "C:\\Users\\danie\\Documents\\StageDaniel\n"
     ]
    }
   ],
   "source": [
    "cd .."
   ]
  },
  {
   "cell_type": "code",
   "execution_count": 3,
   "metadata": {},
   "outputs": [
    {
     "name": "stdout",
     "output_type": "stream",
     "text": [
      "[WinError 2] Het systeem kan het opgegeven bestand niet vinden: 'StageDaniel'\n",
      "C:\\Users\\danie\\Documents\\StageDaniel\n"
     ]
    }
   ],
   "source": [
    "cd StageDaniel"
   ]
  },
  {
   "cell_type": "code",
   "execution_count": 15,
   "metadata": {},
   "outputs": [],
   "source": [
    "# haberman and breastcancer gives large slim values\n",
    "# mushroom and bankruptcy, spambase gives large ebm values \n",
    "# mushroom creates high sparsity for all models except EBM\n",
    "\n",
    "dataset = 'spambase'\n",
    "def load_models(name):\n",
    "    with open('results/models/' + name + '.pkl', 'rb') as f:\n",
    "        return pickle.load(f)\n",
    "models = load_models(dataset+'_models')\n",
    "data = load_models(dataset+'_data')"
   ]
  },
  {
   "cell_type": "code",
   "execution_count": 16,
   "metadata": {},
   "outputs": [],
   "source": [
    "X_names = list(data['X_train'].columns.values)\n",
    "X_names.insert(0, '(Intercept)')\n",
    "\n",
    "X_train = data['X_train']\n",
    "X_test = data['X_test']\n",
    "y_train = data['y_train']\n",
    "y_test = data['y_test']"
   ]
  },
  {
   "cell_type": "code",
   "execution_count": 17,
   "metadata": {},
   "outputs": [],
   "source": [
    "from sklearn import metrics\n",
    "\n",
    "def extract_results(results, X):\n",
    "    # Extract specific models from the results\n",
    "\n",
    "    slim_results = results[0][1]\n",
    "\n",
    "    rho = slim_results['rho']\n",
    "    slim_predictions = pred_slim(X,rho)\n",
    "\n",
    "    ebm = results[1]\n",
    "\n",
    "    XGboost = results[2]\n",
    "    explainer = shap.TreeExplainer(XGboost)\n",
    "    shap_values = explainer.shap_values(X)\n",
    "\n",
    "    logit = results[3]\n",
    "    \n",
    "    return rho, slim_predictions, ebm, explainer, shap_values, logit\n",
    "\n",
    "## Simple function for getting predictions for a SLIM scoring system\n",
    "def pred_slim(X, rho):\n",
    "    return (X.dot(rho[1:])+rho[0]>=0)*1\n",
    "\n",
    "def sigmoid(x):\n",
    "    return 1/(1 + np.exp(-x))\n",
    "\n",
    "def scale_sigmoid(x):\n",
    "    x_max = np.maximum(x.max(), np.abs(x.min()))\n",
    "    x = x/(x_max/5)\n",
    "    return 1/(1 + np.exp(-x))\n",
    "\n",
    "def force_plot(explanations, model, X, pred_idx=0, link='identity'):\n",
    "    return shap.force_plot(explanations.loc[model][0], explanations.loc[model][1:-1].values, X.iloc[pred_idx,:], link=link)\n",
    "\n",
    "def auc(y, y_pred):\n",
    "    fpr, tpr, thresholds = metrics.roc_curve(y, y_pred)\n",
    "    return metrics.auc(fpr, tpr)"
   ]
  },
  {
   "cell_type": "code",
   "execution_count": 49,
   "metadata": {},
   "outputs": [],
   "source": [
    "def performance_measures(data, models, train=False):\n",
    "    train_aucs = []\n",
    "    test_aucs = []\n",
    "    \n",
    "    X_train = data['X_train']\n",
    "    X_test = data['X_test']\n",
    "    y_train = data['y_train']\n",
    "    y_test = data['y_test']\n",
    "    \n",
    "    slim_results = models[0][1]\n",
    "    rho = slim_results['rho']\n",
    "    train_pred = scale_sigmoid(X_train.dot(rho[1:])+rho[0])\n",
    "    test_pred = sigmoid(X_test.dot(rho[1:])+rho[0])\n",
    "    train_aucs.append(auc(y_train,train_pred))\n",
    "    test_aucs.append(auc(y_test,test_pred))\n",
    "    \n",
    "    ebm = models[1]\n",
    "    train_pred = ebm.predict_proba(X_train)\n",
    "    test_pred = ebm.predict_proba(X_test)\n",
    "    train_aucs.append(auc(y_train,train_pred[:,1]))\n",
    "    test_aucs.append(auc(y_test,test_pred[:,1]))\n",
    "    \n",
    "    XGBoost = models[2]\n",
    "    train_pred = XGBoost.predict_proba(X_train)\n",
    "    test_pred = XGBoost.predict_proba(X_test)\n",
    "    train_aucs.append(auc(y_train,train_pred[:,1]))\n",
    "    test_aucs.append(auc(y_test,test_pred[:,1]))\n",
    "    \n",
    "    logit = models[3]\n",
    "    train_pred = logit.predict_proba(X_train)\n",
    "    test_pred = logit.predict_proba(X_test)\n",
    "    train_aucs.append(auc(y_train,train_pred[:,1]))\n",
    "    test_aucs.append(auc(y_test,test_pred[:,1]))\n",
    "    \n",
    "#     if train:\n",
    "#         return pd.DataFrame(train_aucs)\n",
    "#     else:\n",
    "#         return pd.DataFrame(test_aucs)\n",
    "    return pd.DataFrame([train_aucs, test_aucs], ['train', 'test'], ['slim', 'ebm', 'shap', 'logit'])\n",
    " \n",
    "    \n",
    "    \n",
    "# performance_measures(data, models)\n"
   ]
  },
  {
   "cell_type": "code",
   "execution_count": 114,
   "metadata": {},
   "outputs": [
    {
     "data": {
      "text/html": [
       "<div>\n",
       "<style scoped>\n",
       "    .dataframe tbody tr th:only-of-type {\n",
       "        vertical-align: middle;\n",
       "    }\n",
       "\n",
       "    .dataframe tbody tr th {\n",
       "        vertical-align: top;\n",
       "    }\n",
       "\n",
       "    .dataframe thead th {\n",
       "        text-align: right;\n",
       "    }\n",
       "</style>\n",
       "<table border=\"1\" class=\"dataframe\">\n",
       "  <thead>\n",
       "    <tr style=\"text-align: right;\">\n",
       "      <th></th>\n",
       "      <th>slim</th>\n",
       "      <th>ebm</th>\n",
       "      <th>shap</th>\n",
       "      <th>logit</th>\n",
       "    </tr>\n",
       "  </thead>\n",
       "  <tbody>\n",
       "    <tr>\n",
       "      <td>train</td>\n",
       "      <td>0.993268</td>\n",
       "      <td>1.0</td>\n",
       "      <td>1.0</td>\n",
       "      <td>1.0</td>\n",
       "    </tr>\n",
       "    <tr>\n",
       "      <td>test</td>\n",
       "      <td>0.993432</td>\n",
       "      <td>1.0</td>\n",
       "      <td>1.0</td>\n",
       "      <td>1.0</td>\n",
       "    </tr>\n",
       "  </tbody>\n",
       "</table>\n",
       "</div>"
      ],
      "text/plain": [
       "           slim  ebm  shap  logit\n",
       "train  0.993268  1.0   1.0    1.0\n",
       "test   0.993432  1.0   1.0    1.0"
      ]
     },
     "execution_count": 114,
     "metadata": {},
     "output_type": "execute_result"
    }
   ],
   "source": [
    "names = ['bankruptcy','haberman', 'breastcancer', 'mammo', 'spambase', 'mushroom', 'adult']\n",
    "performances = []\n",
    "\n",
    "for dataname in names:\n",
    "    models = load_models(dataname+'_models_3600')\n",
    "    data = load_models(dataname+'_data_3600')\n",
    "    performance = performance_measures(data, models)\n",
    "    performances.append(performance)\n",
    "performances[0]"
   ]
  },
  {
   "cell_type": "code",
   "execution_count": 115,
   "metadata": {},
   "outputs": [
    {
     "data": {
      "text/html": [
       "<div>\n",
       "<style scoped>\n",
       "    .dataframe tbody tr th:only-of-type {\n",
       "        vertical-align: middle;\n",
       "    }\n",
       "\n",
       "    .dataframe tbody tr th {\n",
       "        vertical-align: top;\n",
       "    }\n",
       "\n",
       "    .dataframe thead th {\n",
       "        text-align: right;\n",
       "    }\n",
       "</style>\n",
       "<table border=\"1\" class=\"dataframe\">\n",
       "  <thead>\n",
       "    <tr style=\"text-align: right;\">\n",
       "      <th></th>\n",
       "      <th>dataset</th>\n",
       "      <th>validation</th>\n",
       "      <th>slim</th>\n",
       "      <th>ebm</th>\n",
       "      <th>shap</th>\n",
       "      <th>logit</th>\n",
       "    </tr>\n",
       "  </thead>\n",
       "  <tbody>\n",
       "    <tr>\n",
       "      <td>0</td>\n",
       "      <td>bankruptcy</td>\n",
       "      <td>train</td>\n",
       "      <td>0.993268</td>\n",
       "      <td>1.000000</td>\n",
       "      <td>1.000000</td>\n",
       "      <td>1.000000</td>\n",
       "    </tr>\n",
       "    <tr>\n",
       "      <td>1</td>\n",
       "      <td>bankruptcy</td>\n",
       "      <td>test</td>\n",
       "      <td>0.993432</td>\n",
       "      <td>1.000000</td>\n",
       "      <td>1.000000</td>\n",
       "      <td>1.000000</td>\n",
       "    </tr>\n",
       "    <tr>\n",
       "      <td>2</td>\n",
       "      <td>haberman</td>\n",
       "      <td>train</td>\n",
       "      <td>0.727394</td>\n",
       "      <td>0.828647</td>\n",
       "      <td>0.940302</td>\n",
       "      <td>0.742876</td>\n",
       "    </tr>\n",
       "    <tr>\n",
       "      <td>3</td>\n",
       "      <td>haberman</td>\n",
       "      <td>test</td>\n",
       "      <td>0.604324</td>\n",
       "      <td>0.654054</td>\n",
       "      <td>0.603784</td>\n",
       "      <td>0.634595</td>\n",
       "    </tr>\n",
       "    <tr>\n",
       "      <td>4</td>\n",
       "      <td>breastcancer</td>\n",
       "      <td>train</td>\n",
       "      <td>0.992634</td>\n",
       "      <td>0.999526</td>\n",
       "      <td>0.999837</td>\n",
       "      <td>0.996102</td>\n",
       "    </tr>\n",
       "    <tr>\n",
       "      <td>5</td>\n",
       "      <td>breastcancer</td>\n",
       "      <td>test</td>\n",
       "      <td>0.992989</td>\n",
       "      <td>0.995172</td>\n",
       "      <td>0.995632</td>\n",
       "      <td>0.995172</td>\n",
       "    </tr>\n",
       "    <tr>\n",
       "      <td>6</td>\n",
       "      <td>mammo</td>\n",
       "      <td>train</td>\n",
       "      <td>0.852860</td>\n",
       "      <td>0.857497</td>\n",
       "      <td>0.873702</td>\n",
       "      <td>0.856773</td>\n",
       "    </tr>\n",
       "    <tr>\n",
       "      <td>7</td>\n",
       "      <td>mammo</td>\n",
       "      <td>test</td>\n",
       "      <td>0.851398</td>\n",
       "      <td>0.858925</td>\n",
       "      <td>0.850430</td>\n",
       "      <td>0.862957</td>\n",
       "    </tr>\n",
       "    <tr>\n",
       "      <td>8</td>\n",
       "      <td>spambase</td>\n",
       "      <td>train</td>\n",
       "      <td>0.963674</td>\n",
       "      <td>0.990104</td>\n",
       "      <td>0.999495</td>\n",
       "      <td>0.977906</td>\n",
       "    </tr>\n",
       "    <tr>\n",
       "      <td>9</td>\n",
       "      <td>spambase</td>\n",
       "      <td>test</td>\n",
       "      <td>0.957164</td>\n",
       "      <td>0.968050</td>\n",
       "      <td>0.989047</td>\n",
       "      <td>0.968251</td>\n",
       "    </tr>\n",
       "    <tr>\n",
       "      <td>10</td>\n",
       "      <td>mushroom</td>\n",
       "      <td>train</td>\n",
       "      <td>1.000000</td>\n",
       "      <td>1.000000</td>\n",
       "      <td>1.000000</td>\n",
       "      <td>1.000000</td>\n",
       "    </tr>\n",
       "    <tr>\n",
       "      <td>11</td>\n",
       "      <td>mushroom</td>\n",
       "      <td>test</td>\n",
       "      <td>1.000000</td>\n",
       "      <td>1.000000</td>\n",
       "      <td>1.000000</td>\n",
       "      <td>1.000000</td>\n",
       "    </tr>\n",
       "    <tr>\n",
       "      <td>12</td>\n",
       "      <td>adult</td>\n",
       "      <td>train</td>\n",
       "      <td>0.853272</td>\n",
       "      <td>0.891617</td>\n",
       "      <td>0.905032</td>\n",
       "      <td>0.891815</td>\n",
       "    </tr>\n",
       "    <tr>\n",
       "      <td>13</td>\n",
       "      <td>adult</td>\n",
       "      <td>test</td>\n",
       "      <td>0.851983</td>\n",
       "      <td>0.888937</td>\n",
       "      <td>0.893649</td>\n",
       "      <td>0.889084</td>\n",
       "    </tr>\n",
       "  </tbody>\n",
       "</table>\n",
       "</div>"
      ],
      "text/plain": [
       "         dataset validation      slim       ebm      shap     logit\n",
       "0     bankruptcy      train  0.993268  1.000000  1.000000  1.000000\n",
       "1     bankruptcy       test  0.993432  1.000000  1.000000  1.000000\n",
       "2       haberman      train  0.727394  0.828647  0.940302  0.742876\n",
       "3       haberman       test  0.604324  0.654054  0.603784  0.634595\n",
       "4   breastcancer      train  0.992634  0.999526  0.999837  0.996102\n",
       "5   breastcancer       test  0.992989  0.995172  0.995632  0.995172\n",
       "6          mammo      train  0.852860  0.857497  0.873702  0.856773\n",
       "7          mammo       test  0.851398  0.858925  0.850430  0.862957\n",
       "8       spambase      train  0.963674  0.990104  0.999495  0.977906\n",
       "9       spambase       test  0.957164  0.968050  0.989047  0.968251\n",
       "10      mushroom      train  1.000000  1.000000  1.000000  1.000000\n",
       "11      mushroom       test  1.000000  1.000000  1.000000  1.000000\n",
       "12         adult      train  0.853272  0.891617  0.905032  0.891815\n",
       "13         adult       test  0.851983  0.888937  0.893649  0.889084"
      ]
     },
     "execution_count": 115,
     "metadata": {},
     "output_type": "execute_result"
    }
   ],
   "source": [
    "# corrs_df = pd.concat(corrs, keys = names)\n",
    "performance_df = pd.concat(performances, keys= names)\n",
    "performance_df.index.names = ['dataset', 'validation']\n",
    "performance_df.reset_index()"
   ]
  },
  {
   "cell_type": "code",
   "execution_count": 146,
   "metadata": {},
   "outputs": [
    {
     "name": "stdout",
     "output_type": "stream",
     "text": [
      "\\begin{tabular}{lrrrrrrrr}\n",
      "\\toprule\n",
      "{} & \\multicolumn{8}{l}{0} \\\\\n",
      "validation & \\multicolumn{4}{l}{test} & \\multicolumn{4}{l}{train} \\\\\n",
      "model &    ebm &  logit &   shap &   slim &    ebm &  logit &   shap &   slim \\\\\n",
      "dataset      &        &        &        &        &        &        &        &        \\\\\n",
      "\\midrule\n",
      "bankruptcy   &  1.000 &  1.000 &  1.000 &  0.993 &  1.000 &  1.000 &  1.000 &  0.993 \\\\\n",
      "haberman     &  0.654 &  0.635 &  0.604 &  0.604 &  0.829 &  0.743 &  0.940 &  0.727 \\\\\n",
      "breastcancer &  0.995 &  0.995 &  0.996 &  0.993 &  1.000 &  0.996 &  1.000 &  0.993 \\\\\n",
      "mammo        &  0.859 &  0.863 &  0.850 &  0.851 &  0.857 &  0.857 &  0.874 &  0.853 \\\\\n",
      "spambase     &  0.968 &  0.968 &  0.989 &  0.957 &  0.990 &  0.978 &  0.999 &  0.964 \\\\\n",
      "mushroom     &  1.000 &  1.000 &  1.000 &  1.000 &  1.000 &  1.000 &  1.000 &  1.000 \\\\\n",
      "adult        &  0.889 &  0.889 &  0.894 &  0.852 &  0.892 &  0.892 &  0.905 &  0.853 \\\\\n",
      "\\bottomrule\n",
      "\\end{tabular}\n",
      "\n"
     ]
    }
   ],
   "source": [
    "stack = performance_df.stack()\n",
    "stack.index.names = ['dataset', 'validation', 'model']\n",
    "pivot = pd.pivot_table(pd.DataFrame(stack), index='dataset', columns = ['validation', 'model'])\n",
    "print(pivot.round(3).to_latex())"
   ]
  },
  {
   "cell_type": "code",
   "execution_count": 14,
   "metadata": {},
   "outputs": [
    {
     "data": {
      "text/plain": [
       "(array([2958.,    0.,    0.,  406.,    0.,    0., 1347.,    0.,    0.,\n",
       "        1788.]),\n",
       " array([-5., -4., -3., -2., -1.,  0.,  1.,  2.,  3.,  4.,  5.]),\n",
       " <a list of 10 Patch objects>)"
      ]
     },
     "execution_count": 14,
     "metadata": {},
     "output_type": "execute_result"
    },
    {
     "data": {
      "image/png": "[encoded data removed]",
      "text/plain": [
       "<Figure size 432x288 with 1 Axes>"
      ]
     },
     "metadata": {
      "needs_background": "light"
     },
     "output_type": "display_data"
    }
   ],
   "source": [
    "rho = models[0][1]['rho']\n",
    "x = X_train.dot(rho[1:])+rho[0]\n",
    "x_max = np.maximum(x.max(), np.abs(x.min()))\n",
    "x = x/(x_max/5)\n",
    "1/(1 + np.exp(-x))\n",
    "# np.abs(x.min()\n",
    "plt.hist(x.values)"
   ]
  },
  {
   "cell_type": "code",
   "execution_count": 14,
   "metadata": {},
   "outputs": [
    {
     "data": {
      "text/plain": [
       "113    0\n",
       "378    0\n",
       "303    1\n",
       "504    1\n",
       "301    0\n",
       "      ..\n",
       "21     1\n",
       "454    0\n",
       "506    0\n",
       "500    1\n",
       "77     0\n",
       "Name: Benign, Length: 137, dtype: int64"
      ]
     },
     "execution_count": 14,
     "metadata": {},
     "output_type": "execute_result"
    }
   ],
   "source": [
    "data['y_test']"
   ]
  },
  {
   "cell_type": "code",
   "execution_count": 12,
   "metadata": {},
   "outputs": [
    {
     "data": {
      "text/plain": [
       "{'solution_status_code': 107,\n",
       " 'solution_status': 'time limit exceeded',\n",
       " 'objective_value': 12.735858369098713,\n",
       " 'optimality_gap': 8.79593856564694,\n",
       " 'objval_lowerbound': 0.30935643984392514,\n",
       " 'simplex_iterations': 619821,\n",
       " 'nodes_processed': 27240,\n",
       " 'nodes_remaining': 7214,\n",
       " 'rho': array([-35.,   3.,   2.,   1.,   0.,   0.,   2.,   0.,   2.,   0.]),\n",
       " 'string_model': '+-------------------------------+------------------+-----------+\\n| PREDICT O IF SCORE >= -35     |                  |           |\\n| ============================= | ================ | ========= |\\n| ClumpThickness                |         3 points |   + ..... |\\n| UniformityOfCellSize          |         2 points |   + ..... |\\n| BareNuclei                    |         2 points |   + ..... |\\n| NormalNucleoli                |         2 points |   + ..... |\\n| UniformityOfCellShape         |         1 points |   + ..... |\\n| ============================= | ================ | ========= |\\n| ADD POINTS FROM ROWS 1 to 5   |            SCORE |   = ..... |\\n+-------------------------------+------------------+-----------+',\n",
       " 'true_positives': 188,\n",
       " 'true_negatives': 348,\n",
       " 'false_positives': 9,\n",
       " 'false_negatives': 1,\n",
       " 'mistakes': 10,\n",
       " 'error_rate': 0.018315018315018316,\n",
       " 'true_positive_rate': 0.9947089947089947,\n",
       " 'false_positive_rate': 0.025210084033613446,\n",
       " 'L0_norm': 10.0}"
      ]
     },
     "execution_count": 12,
     "metadata": {},
     "output_type": "execute_result"
    }
   ],
   "source": [
    "models[0][1]"
   ]
  },
  {
   "cell_type": "code",
   "execution_count": null,
   "metadata": {},
   "outputs": [],
   "source": []
  },
  {
   "cell_type": "code",
   "execution_count": 202,
   "metadata": {},
   "outputs": [],
   "source": [
    "# add observation index\n",
    "complete_expl = pd.concat(expl, keys = [\"{:02d}\".format(x) for x in range(N)])\n",
    "complete_expl.index.names = ['obs', 'model']\n",
    "# clean to only include the contributions\n",
    "contrib = complete_expl.drop(['X'], level = 1).drop(['Constant', 'sum', 'prediction'], axis=1)\n",
    "contrib.index = contrib.index.remove_unused_levels()"
   ]
  },
  {
   "cell_type": "code",
   "execution_count": 203,
   "metadata": {},
   "outputs": [
    {
     "data": {
      "text/html": [
       "<div>\n",
       "<style scoped>\n",
       "    .dataframe tbody tr th:only-of-type {\n",
       "        vertical-align: middle;\n",
       "    }\n",
       "\n",
       "    .dataframe tbody tr th {\n",
       "        vertical-align: top;\n",
       "    }\n",
       "\n",
       "    .dataframe thead th {\n",
       "        text-align: right;\n",
       "    }\n",
       "</style>\n",
       "<table border=\"1\" class=\"dataframe\">\n",
       "  <thead>\n",
       "    <tr style=\"text-align: right;\">\n",
       "      <th></th>\n",
       "      <th>zero_features</th>\n",
       "      <th>percentage</th>\n",
       "    </tr>\n",
       "    <tr>\n",
       "      <th>model</th>\n",
       "      <th></th>\n",
       "      <th></th>\n",
       "    </tr>\n",
       "  </thead>\n",
       "  <tbody>\n",
       "    <tr>\n",
       "      <td>ebm</td>\n",
       "      <td>0.0</td>\n",
       "      <td>0.000000</td>\n",
       "    </tr>\n",
       "    <tr>\n",
       "      <td>logit</td>\n",
       "      <td>0.0</td>\n",
       "      <td>0.000000</td>\n",
       "    </tr>\n",
       "    <tr>\n",
       "      <td>shap</td>\n",
       "      <td>1.0</td>\n",
       "      <td>0.111111</td>\n",
       "    </tr>\n",
       "    <tr>\n",
       "      <td>slim</td>\n",
       "      <td>4.0</td>\n",
       "      <td>0.444444</td>\n",
       "    </tr>\n",
       "  </tbody>\n",
       "</table>\n",
       "</div>"
      ],
      "text/plain": [
       "       zero_features  percentage\n",
       "model                           \n",
       "ebm              0.0    0.000000\n",
       "logit            0.0    0.000000\n",
       "shap             1.0    0.111111\n",
       "slim             4.0    0.444444"
      ]
     },
     "execution_count": 203,
     "metadata": {},
     "output_type": "execute_result"
    }
   ],
   "source": [
    "# check how many features of only zeros per model\n",
    "feature_imps = contrib.abs().groupby(level='model').mean()\n",
    "zero_df = pd.DataFrame(((feature_imps==0)*1.0).sum(axis=1), columns=['zero_features'] )\n",
    "zero_df['percentage'] = zero_df['zero_features']/feature_imps.shape[1]\n",
    "zero_df"
   ]
  },
  {
   "cell_type": "code",
   "execution_count": 204,
   "metadata": {},
   "outputs": [],
   "source": [
    "# computes the number of features used in 'smallest' model\n",
    "min_features = int(feature_imps.shape[1] - zero_df['zero_features'].max())"
   ]
  },
  {
   "cell_type": "code",
   "execution_count": 205,
   "metadata": {},
   "outputs": [
    {
     "data": {
      "text/plain": [
       "<matplotlib.axes._subplots.AxesSubplot at 0x207c38a04c8>"
      ]
     },
     "execution_count": 205,
     "metadata": {},
     "output_type": "execute_result"
    },
    {
     "data": {
      "image/png": "[encoded data removed]",
      "text/plain": [
       "<Figure size 432x288 with 1 Axes>"
      ]
     },
     "metadata": {
      "needs_background": "light"
     },
     "output_type": "display_data"
    }
   ],
   "source": [
    "cumsum = feature_imps.iloc[0].sort_values(ascending=True)[-min_features:].cumsum()\n",
    "# cumsum = feature_imps.iloc[0].sort_values(ascending=True).cumsum()\n",
    "cumsum.plot()"
   ]
  },
  {
   "cell_type": "code",
   "execution_count": 206,
   "metadata": {},
   "outputs": [
    {
     "data": {
      "text/plain": [
       "0.12101566851423798"
      ]
     },
     "execution_count": 206,
     "metadata": {},
     "output_type": "execute_result"
    }
   ],
   "source": [
    "# computes Gini index to represent feature importance spread\n",
    "n = len(cumsum)\n",
    "(n+1-2*np.sum(cumsum)/cumsum[-1])/n"
   ]
  },
  {
   "cell_type": "code",
   "execution_count": 207,
   "metadata": {},
   "outputs": [
    {
     "data": {
      "text/plain": [
       "<matplotlib.axes._subplots.AxesSubplot at 0x207c3810d48>"
      ]
     },
     "execution_count": 207,
     "metadata": {},
     "output_type": "execute_result"
    },
    {
     "data": {
      "image/png": "[encoded data removed]",
      "text/plain": [
       "<Figure size 432x288 with 1 Axes>"
      ]
     },
     "metadata": {
      "needs_background": "light"
     },
     "output_type": "display_data"
    }
   ],
   "source": [
    "# feature importance raw\n",
    "feature_imps.plot(kind = 'barh', legend=False)"
   ]
  },
  {
   "cell_type": "code",
   "execution_count": 208,
   "metadata": {},
   "outputs": [
    {
     "data": {
      "text/plain": [
       "<matplotlib.axes._subplots.AxesSubplot at 0x207c499a488>"
      ]
     },
     "execution_count": 208,
     "metadata": {},
     "output_type": "execute_result"
    },
    {
     "data": {
      "image/png": "[encoded data removed]",
      "text/plain": [
       "<Figure size 432x288 with 1 Axes>"
      ]
     },
     "metadata": {
      "needs_background": "light"
     },
     "output_type": "display_data"
    }
   ],
   "source": [
    "# feature importance rescaled\n",
    "feature_imps.div(feature_imps.sum(axis=1), axis=0).plot(kind='barh', legend=False)"
   ]
  },
  {
   "cell_type": "code",
   "execution_count": 209,
   "metadata": {},
   "outputs": [],
   "source": [
    "def difference(df):\n",
    "    return (df.iloc[0]-df.iloc[1]).abs()\n",
    "\n",
    "# def check_prediction(df):\n",
    "#     if df['prediction'].mean() in [0,1]: # unanimous\n",
    "#         return df\n",
    "\n",
    "# checked = complete_expl.groupby(level='obs').apply(check_prediction).droplevel(0)\n",
    "# checked = checked.drop(['X'], level = 1).drop(['Constant', 'sum', 'prediction'], axis=1)\n",
    "# checked.index = checked.index.remove_unused_levels()\n",
    "# print(\"Dropped misclassified or non-unanimous observations:\", complete_expl.shape[0]-checked.shape[0], \" out of\", complete_expl.shape[0])\n",
    "# checked"
   ]
  },
  {
   "cell_type": "code",
   "execution_count": 210,
   "metadata": {},
   "outputs": [
    {
     "name": "stdout",
     "output_type": "stream",
     "text": [
      "Raw distance\n"
     ]
    },
    {
     "data": {
      "text/html": [
       "<div>\n",
       "<style scoped>\n",
       "    .dataframe tbody tr th:only-of-type {\n",
       "        vertical-align: middle;\n",
       "    }\n",
       "\n",
       "    .dataframe tbody tr th {\n",
       "        vertical-align: top;\n",
       "    }\n",
       "\n",
       "    .dataframe thead th {\n",
       "        text-align: right;\n",
       "    }\n",
       "</style>\n",
       "<table border=\"1\" class=\"dataframe\">\n",
       "  <thead>\n",
       "    <tr style=\"text-align: right;\">\n",
       "      <th></th>\n",
       "      <th>slim</th>\n",
       "      <th>logit</th>\n",
       "      <th>ebm</th>\n",
       "      <th>shap</th>\n",
       "      <th>Average distance</th>\n",
       "    </tr>\n",
       "  </thead>\n",
       "  <tbody>\n",
       "    <tr>\n",
       "      <td>slim</td>\n",
       "      <td>0.000</td>\n",
       "      <td>3.793</td>\n",
       "      <td>3.504</td>\n",
       "      <td>3.697</td>\n",
       "      <td>3.664667</td>\n",
       "    </tr>\n",
       "    <tr>\n",
       "      <td>logit</td>\n",
       "      <td>3.793</td>\n",
       "      <td>0.000</td>\n",
       "      <td>0.657</td>\n",
       "      <td>0.644</td>\n",
       "      <td>1.698000</td>\n",
       "    </tr>\n",
       "    <tr>\n",
       "      <td>ebm</td>\n",
       "      <td>3.504</td>\n",
       "      <td>0.657</td>\n",
       "      <td>0.000</td>\n",
       "      <td>0.538</td>\n",
       "      <td>1.566333</td>\n",
       "    </tr>\n",
       "    <tr>\n",
       "      <td>shap</td>\n",
       "      <td>3.697</td>\n",
       "      <td>0.644</td>\n",
       "      <td>0.538</td>\n",
       "      <td>0.000</td>\n",
       "      <td>1.626333</td>\n",
       "    </tr>\n",
       "  </tbody>\n",
       "</table>\n",
       "</div>"
      ],
      "text/plain": [
       "        slim  logit    ebm   shap  Average distance\n",
       "slim   0.000  3.793  3.504  3.697          3.664667\n",
       "logit  3.793  0.000  0.657  0.644          1.698000\n",
       "ebm    3.504  0.657  0.000  0.538          1.566333\n",
       "shap   3.697  0.644  0.538  0.000          1.626333"
      ]
     },
     "metadata": {},
     "output_type": "display_data"
    },
    {
     "name": "stdout",
     "output_type": "stream",
     "text": [
      "Scaled distance\n"
     ]
    },
    {
     "data": {
      "text/html": [
       "<div>\n",
       "<style scoped>\n",
       "    .dataframe tbody tr th:only-of-type {\n",
       "        vertical-align: middle;\n",
       "    }\n",
       "\n",
       "    .dataframe tbody tr th {\n",
       "        vertical-align: top;\n",
       "    }\n",
       "\n",
       "    .dataframe thead th {\n",
       "        text-align: right;\n",
       "    }\n",
       "</style>\n",
       "<table border=\"1\" class=\"dataframe\">\n",
       "  <thead>\n",
       "    <tr style=\"text-align: right;\">\n",
       "      <th></th>\n",
       "      <th>slim</th>\n",
       "      <th>logit</th>\n",
       "      <th>ebm</th>\n",
       "      <th>shap</th>\n",
       "      <th>Average distance</th>\n",
       "    </tr>\n",
       "  </thead>\n",
       "  <tbody>\n",
       "    <tr>\n",
       "      <td>slim</td>\n",
       "      <td>0.000</td>\n",
       "      <td>0.238</td>\n",
       "      <td>0.305</td>\n",
       "      <td>0.286</td>\n",
       "      <td>0.276333</td>\n",
       "    </tr>\n",
       "    <tr>\n",
       "      <td>logit</td>\n",
       "      <td>0.238</td>\n",
       "      <td>0.000</td>\n",
       "      <td>0.293</td>\n",
       "      <td>0.268</td>\n",
       "      <td>0.266333</td>\n",
       "    </tr>\n",
       "    <tr>\n",
       "      <td>ebm</td>\n",
       "      <td>0.305</td>\n",
       "      <td>0.293</td>\n",
       "      <td>0.000</td>\n",
       "      <td>0.187</td>\n",
       "      <td>0.261667</td>\n",
       "    </tr>\n",
       "    <tr>\n",
       "      <td>shap</td>\n",
       "      <td>0.286</td>\n",
       "      <td>0.268</td>\n",
       "      <td>0.187</td>\n",
       "      <td>0.000</td>\n",
       "      <td>0.247000</td>\n",
       "    </tr>\n",
       "  </tbody>\n",
       "</table>\n",
       "</div>"
      ],
      "text/plain": [
       "        slim  logit    ebm   shap  Average distance\n",
       "slim   0.000  0.238  0.305  0.286          0.276333\n",
       "logit  0.238  0.000  0.293  0.268          0.266333\n",
       "ebm    0.305  0.293  0.000  0.187          0.261667\n",
       "shap   0.286  0.268  0.187  0.000          0.247000"
      ]
     },
     "metadata": {},
     "output_type": "display_data"
    },
    {
     "name": "stdout",
     "output_type": "stream",
     "text": [
      "Ranked distance\n"
     ]
    },
    {
     "data": {
      "text/html": [
       "<div>\n",
       "<style scoped>\n",
       "    .dataframe tbody tr th:only-of-type {\n",
       "        vertical-align: middle;\n",
       "    }\n",
       "\n",
       "    .dataframe tbody tr th {\n",
       "        vertical-align: top;\n",
       "    }\n",
       "\n",
       "    .dataframe thead th {\n",
       "        text-align: right;\n",
       "    }\n",
       "</style>\n",
       "<table border=\"1\" class=\"dataframe\">\n",
       "  <thead>\n",
       "    <tr style=\"text-align: right;\">\n",
       "      <th></th>\n",
       "      <th>slim</th>\n",
       "      <th>logit</th>\n",
       "      <th>ebm</th>\n",
       "      <th>shap</th>\n",
       "      <th>Average distance</th>\n",
       "    </tr>\n",
       "  </thead>\n",
       "  <tbody>\n",
       "    <tr>\n",
       "      <td>slim</td>\n",
       "      <td>0.000</td>\n",
       "      <td>2.220</td>\n",
       "      <td>1.818</td>\n",
       "      <td>1.937</td>\n",
       "      <td>1.991667</td>\n",
       "    </tr>\n",
       "    <tr>\n",
       "      <td>logit</td>\n",
       "      <td>2.220</td>\n",
       "      <td>0.000</td>\n",
       "      <td>2.281</td>\n",
       "      <td>2.352</td>\n",
       "      <td>2.284333</td>\n",
       "    </tr>\n",
       "    <tr>\n",
       "      <td>ebm</td>\n",
       "      <td>1.818</td>\n",
       "      <td>2.281</td>\n",
       "      <td>0.000</td>\n",
       "      <td>1.333</td>\n",
       "      <td>1.810667</td>\n",
       "    </tr>\n",
       "    <tr>\n",
       "      <td>shap</td>\n",
       "      <td>1.937</td>\n",
       "      <td>2.352</td>\n",
       "      <td>1.333</td>\n",
       "      <td>0.000</td>\n",
       "      <td>1.874000</td>\n",
       "    </tr>\n",
       "  </tbody>\n",
       "</table>\n",
       "</div>"
      ],
      "text/plain": [
       "        slim  logit    ebm   shap  Average distance\n",
       "slim   0.000  2.220  1.818  1.937          1.991667\n",
       "logit  2.220  0.000  2.281  2.352          2.284333\n",
       "ebm    1.818  2.281  0.000  1.333          1.810667\n",
       "shap   1.937  2.352  1.333  0.000          1.874000"
      ]
     },
     "metadata": {},
     "output_type": "display_data"
    }
   ],
   "source": [
    "def get_similarity_matrix(df):\n",
    "    \n",
    "    models = list(df.index.levels[1])\n",
    "    p = len(models)\n",
    "    distance_matrix = np.zeros((p,p))\n",
    "    \n",
    "    for i in range(p):\n",
    "        for j in range(i+1,p):\n",
    "            to_drop = models.copy()\n",
    "            del to_drop[j]\n",
    "            del to_drop[i]\n",
    "            diff = df.drop(to_drop, level=1).groupby(level='obs').apply(difference).mean().mean()\n",
    "            distance_matrix[i,j] = round(diff,3)\n",
    "            distance_matrix[j,i] = round(diff,3)\n",
    "    distance_df = pd.DataFrame(distance_matrix, models, models)\n",
    "    distance_df['Average distance'] = distance_df.sum()/(p-1)\n",
    "    return distance_df\n",
    "            \n",
    "correct_only = False\n",
    "if correct_only:\n",
    "    comparison = checked.drop(['X'], level = 1)\n",
    "    comparison.index = comparison.index.remove_unused_levels()\n",
    "else:\n",
    "    comparison = contrib\n",
    "\n",
    "# contrib.abs().groupby(level = ['obs']).apply(order)\n",
    "print(\"Raw distance\")\n",
    "distance = get_similarity_matrix(comparison.abs())\n",
    "display(distance)\n",
    "\n",
    "print(\"Scaled distance\")\n",
    "distance = get_similarity_matrix(comparison.div(contrib.abs().max(axis=1), axis=0).abs())\n",
    "display(distance)\n",
    "\n",
    "print(\"Ranked distance\")\n",
    "distance = get_similarity_matrix(comparison.abs().rank(axis=1, ascending=False))\n",
    "display(distance)"
   ]
  },
  {
   "cell_type": "code",
   "execution_count": 211,
   "metadata": {},
   "outputs": [],
   "source": [
    "from scipy.stats import pearsonr, spearmanr\n",
    "def pearson(df):\n",
    "    return(pearsonr(df.iloc[0], df.iloc[1])[0])\n",
    "def spearman(df):\n",
    "    return(spearmanr(df.iloc[0], df.iloc[1])[0])\n",
    "def get_pearson_matrix(df, func=pearson):\n",
    "    \n",
    "    models = list(df.index.levels[1])\n",
    "    p = len(models)\n",
    "    distance_matrix = np.zeros((p,p))\n",
    "    \n",
    "    for i in range(p):\n",
    "        for j in range(i+1,p):\n",
    "            to_drop = models.copy()\n",
    "            del to_drop[j]\n",
    "            del to_drop[i]\n",
    "            diff = df.drop(to_drop, level=1).groupby(level='obs').apply(func).mean()\n",
    "            distance_matrix[i,j] = round(diff,3)\n",
    "            distance_matrix[j,i] = round(diff,3)\n",
    "    distance_df = pd.DataFrame(distance_matrix, models, models)\n",
    "    distance_df['Average correlation'] = distance_df.sum()/(p-1)\n",
    "    return distance_df"
   ]
  },
  {
   "cell_type": "code",
   "execution_count": null,
   "metadata": {},
   "outputs": [],
   "source": []
  },
  {
   "cell_type": "code",
   "execution_count": 212,
   "metadata": {},
   "outputs": [
    {
     "name": "stdout",
     "output_type": "stream",
     "text": [
      "Average Pearson correlation\n"
     ]
    },
    {
     "data": {
      "text/html": [
       "<div>\n",
       "<style scoped>\n",
       "    .dataframe tbody tr th:only-of-type {\n",
       "        vertical-align: middle;\n",
       "    }\n",
       "\n",
       "    .dataframe tbody tr th {\n",
       "        vertical-align: top;\n",
       "    }\n",
       "\n",
       "    .dataframe thead th {\n",
       "        text-align: right;\n",
       "    }\n",
       "</style>\n",
       "<table border=\"1\" class=\"dataframe\">\n",
       "  <thead>\n",
       "    <tr style=\"text-align: right;\">\n",
       "      <th></th>\n",
       "      <th>slim</th>\n",
       "      <th>logit</th>\n",
       "      <th>ebm</th>\n",
       "      <th>shap</th>\n",
       "      <th>Average correlation</th>\n",
       "    </tr>\n",
       "  </thead>\n",
       "  <tbody>\n",
       "    <tr>\n",
       "      <td>slim</td>\n",
       "      <td>0.000</td>\n",
       "      <td>0.536</td>\n",
       "      <td>0.007</td>\n",
       "      <td>0.135</td>\n",
       "      <td>0.226000</td>\n",
       "    </tr>\n",
       "    <tr>\n",
       "      <td>logit</td>\n",
       "      <td>0.536</td>\n",
       "      <td>0.000</td>\n",
       "      <td>0.212</td>\n",
       "      <td>0.252</td>\n",
       "      <td>0.333333</td>\n",
       "    </tr>\n",
       "    <tr>\n",
       "      <td>ebm</td>\n",
       "      <td>0.007</td>\n",
       "      <td>0.212</td>\n",
       "      <td>0.000</td>\n",
       "      <td>0.791</td>\n",
       "      <td>0.336667</td>\n",
       "    </tr>\n",
       "    <tr>\n",
       "      <td>shap</td>\n",
       "      <td>0.135</td>\n",
       "      <td>0.252</td>\n",
       "      <td>0.791</td>\n",
       "      <td>0.000</td>\n",
       "      <td>0.392667</td>\n",
       "    </tr>\n",
       "  </tbody>\n",
       "</table>\n",
       "</div>"
      ],
      "text/plain": [
       "        slim  logit    ebm   shap  Average correlation\n",
       "slim   0.000  0.536  0.007  0.135             0.226000\n",
       "logit  0.536  0.000  0.212  0.252             0.333333\n",
       "ebm    0.007  0.212  0.000  0.791             0.336667\n",
       "shap   0.135  0.252  0.791  0.000             0.392667"
      ]
     },
     "metadata": {},
     "output_type": "display_data"
    },
    {
     "name": "stdout",
     "output_type": "stream",
     "text": [
      "Average Spearman correlation (ranked)\n"
     ]
    },
    {
     "data": {
      "text/html": [
       "<div>\n",
       "<style scoped>\n",
       "    .dataframe tbody tr th:only-of-type {\n",
       "        vertical-align: middle;\n",
       "    }\n",
       "\n",
       "    .dataframe tbody tr th {\n",
       "        vertical-align: top;\n",
       "    }\n",
       "\n",
       "    .dataframe thead th {\n",
       "        text-align: right;\n",
       "    }\n",
       "</style>\n",
       "<table border=\"1\" class=\"dataframe\">\n",
       "  <thead>\n",
       "    <tr style=\"text-align: right;\">\n",
       "      <th></th>\n",
       "      <th>slim</th>\n",
       "      <th>logit</th>\n",
       "      <th>ebm</th>\n",
       "      <th>shap</th>\n",
       "      <th>Average correlation</th>\n",
       "    </tr>\n",
       "  </thead>\n",
       "  <tbody>\n",
       "    <tr>\n",
       "      <td>slim</td>\n",
       "      <td>0.000</td>\n",
       "      <td>0.290</td>\n",
       "      <td>-0.106</td>\n",
       "      <td>-0.069</td>\n",
       "      <td>0.038333</td>\n",
       "    </tr>\n",
       "    <tr>\n",
       "      <td>logit</td>\n",
       "      <td>0.290</td>\n",
       "      <td>0.000</td>\n",
       "      <td>0.040</td>\n",
       "      <td>0.156</td>\n",
       "      <td>0.162000</td>\n",
       "    </tr>\n",
       "    <tr>\n",
       "      <td>ebm</td>\n",
       "      <td>-0.106</td>\n",
       "      <td>0.040</td>\n",
       "      <td>0.000</td>\n",
       "      <td>0.793</td>\n",
       "      <td>0.242333</td>\n",
       "    </tr>\n",
       "    <tr>\n",
       "      <td>shap</td>\n",
       "      <td>-0.069</td>\n",
       "      <td>0.156</td>\n",
       "      <td>0.793</td>\n",
       "      <td>0.000</td>\n",
       "      <td>0.293333</td>\n",
       "    </tr>\n",
       "  </tbody>\n",
       "</table>\n",
       "</div>"
      ],
      "text/plain": [
       "        slim  logit    ebm   shap  Average correlation\n",
       "slim   0.000  0.290 -0.106 -0.069             0.038333\n",
       "logit  0.290  0.000  0.040  0.156             0.162000\n",
       "ebm   -0.106  0.040  0.000  0.793             0.242333\n",
       "shap  -0.069  0.156  0.793  0.000             0.293333"
      ]
     },
     "metadata": {},
     "output_type": "display_data"
    },
    {
     "name": "stdout",
     "output_type": "stream",
     "text": [
      "Average True Spearman correlation (ranked)\n"
     ]
    },
    {
     "data": {
      "text/html": [
       "<div>\n",
       "<style scoped>\n",
       "    .dataframe tbody tr th:only-of-type {\n",
       "        vertical-align: middle;\n",
       "    }\n",
       "\n",
       "    .dataframe tbody tr th {\n",
       "        vertical-align: top;\n",
       "    }\n",
       "\n",
       "    .dataframe thead th {\n",
       "        text-align: right;\n",
       "    }\n",
       "</style>\n",
       "<table border=\"1\" class=\"dataframe\">\n",
       "  <thead>\n",
       "    <tr style=\"text-align: right;\">\n",
       "      <th></th>\n",
       "      <th>slim</th>\n",
       "      <th>logit</th>\n",
       "      <th>ebm</th>\n",
       "      <th>shap</th>\n",
       "      <th>Average correlation</th>\n",
       "    </tr>\n",
       "  </thead>\n",
       "  <tbody>\n",
       "    <tr>\n",
       "      <td>slim</td>\n",
       "      <td>0.000</td>\n",
       "      <td>0.290</td>\n",
       "      <td>-0.106</td>\n",
       "      <td>-0.069</td>\n",
       "      <td>0.038333</td>\n",
       "    </tr>\n",
       "    <tr>\n",
       "      <td>logit</td>\n",
       "      <td>0.290</td>\n",
       "      <td>0.000</td>\n",
       "      <td>0.040</td>\n",
       "      <td>0.156</td>\n",
       "      <td>0.162000</td>\n",
       "    </tr>\n",
       "    <tr>\n",
       "      <td>ebm</td>\n",
       "      <td>-0.106</td>\n",
       "      <td>0.040</td>\n",
       "      <td>0.000</td>\n",
       "      <td>0.793</td>\n",
       "      <td>0.242333</td>\n",
       "    </tr>\n",
       "    <tr>\n",
       "      <td>shap</td>\n",
       "      <td>-0.069</td>\n",
       "      <td>0.156</td>\n",
       "      <td>0.793</td>\n",
       "      <td>0.000</td>\n",
       "      <td>0.293333</td>\n",
       "    </tr>\n",
       "  </tbody>\n",
       "</table>\n",
       "</div>"
      ],
      "text/plain": [
       "        slim  logit    ebm   shap  Average correlation\n",
       "slim   0.000  0.290 -0.106 -0.069             0.038333\n",
       "logit  0.290  0.000  0.040  0.156             0.162000\n",
       "ebm   -0.106  0.040  0.000  0.793             0.242333\n",
       "shap  -0.069  0.156  0.793  0.000             0.293333"
      ]
     },
     "metadata": {},
     "output_type": "display_data"
    }
   ],
   "source": [
    "pearson_distance = get_pearson_matrix(contrib)\n",
    "spearman_distance = get_pearson_matrix(contrib.rank(axis=1, ascending=False))\n",
    "true_spear_distance = get_pearson_matrix(contrib, spearman)\n",
    "print(\"Average Pearson correlation\")\n",
    "display(pearson_distance)\n",
    "print(\"Average Spearman correlation (ranked)\")\n",
    "display(spearman_distance)\n",
    "print(\"Average True Spearman correlation (ranked)\")\n",
    "display(true_spear_distance)"
   ]
  },
  {
   "cell_type": "code",
   "execution_count": 213,
   "metadata": {},
   "outputs": [
    {
     "data": {
      "text/plain": [
       "-0.13115576564675044"
      ]
     },
     "execution_count": 213,
     "metadata": {},
     "output_type": "execute_result"
    }
   ],
   "source": [
    "spearmanr(contrib.iloc[0], contrib.iloc[3])[0]"
   ]
  },
  {
   "cell_type": "code",
   "execution_count": 234,
   "metadata": {},
   "outputs": [
    {
     "name": "stdout",
     "output_type": "stream",
     "text": [
      "cutoff 164.2162008581849\n",
      "286.93605805671814\n",
      "['ebm', 'shap']\n",
      "462.24220556641285\n",
      "['logit', 'shap']\n",
      "252.61848399494409\n",
      "['logit', 'ebm']\n",
      "260.6008846748705\n",
      "['slim', 'shap']\n",
      "200.99614359659944\n",
      "['slim', 'ebm']\n",
      "93.88428264297306\n",
      "['slim', 'logit']\n"
     ]
    },
    {
     "data": {
      "text/html": [
       "<div>\n",
       "<style scoped>\n",
       "    .dataframe tbody tr th:only-of-type {\n",
       "        vertical-align: middle;\n",
       "    }\n",
       "\n",
       "    .dataframe tbody tr th {\n",
       "        vertical-align: top;\n",
       "    }\n",
       "\n",
       "    .dataframe thead th {\n",
       "        text-align: right;\n",
       "    }\n",
       "</style>\n",
       "<table border=\"1\" class=\"dataframe\">\n",
       "  <thead>\n",
       "    <tr style=\"text-align: right;\">\n",
       "      <th></th>\n",
       "      <th>slim</th>\n",
       "      <th>logit</th>\n",
       "      <th>ebm</th>\n",
       "      <th>shap</th>\n",
       "      <th>Average correlation</th>\n",
       "    </tr>\n",
       "  </thead>\n",
       "  <tbody>\n",
       "    <tr>\n",
       "      <td>slim</td>\n",
       "      <td>0.000</td>\n",
       "      <td>0.762</td>\n",
       "      <td>0.041</td>\n",
       "      <td>0.188</td>\n",
       "      <td>0.330333</td>\n",
       "    </tr>\n",
       "    <tr>\n",
       "      <td>logit</td>\n",
       "      <td>0.762</td>\n",
       "      <td>0.000</td>\n",
       "      <td>0.294</td>\n",
       "      <td>0.331</td>\n",
       "      <td>0.462333</td>\n",
       "    </tr>\n",
       "    <tr>\n",
       "      <td>ebm</td>\n",
       "      <td>0.041</td>\n",
       "      <td>0.294</td>\n",
       "      <td>0.000</td>\n",
       "      <td>1.155</td>\n",
       "      <td>0.496667</td>\n",
       "    </tr>\n",
       "    <tr>\n",
       "      <td>shap</td>\n",
       "      <td>0.188</td>\n",
       "      <td>0.331</td>\n",
       "      <td>1.155</td>\n",
       "      <td>0.000</td>\n",
       "      <td>0.558000</td>\n",
       "    </tr>\n",
       "  </tbody>\n",
       "</table>\n",
       "</div>"
      ],
      "text/plain": [
       "        slim  logit    ebm   shap  Average correlation\n",
       "slim   0.000  0.762  0.041  0.188             0.330333\n",
       "logit  0.762  0.000  0.294  0.331             0.462333\n",
       "ebm    0.041  0.294  0.000  1.155             0.496667\n",
       "shap   0.188  0.331  1.155  0.000             0.558000"
      ]
     },
     "metadata": {},
     "output_type": "display_data"
    },
    {
     "data": {
      "text/html": [
       "<div>\n",
       "<style scoped>\n",
       "    .dataframe tbody tr th:only-of-type {\n",
       "        vertical-align: middle;\n",
       "    }\n",
       "\n",
       "    .dataframe tbody tr th {\n",
       "        vertical-align: top;\n",
       "    }\n",
       "\n",
       "    .dataframe thead th {\n",
       "        text-align: right;\n",
       "    }\n",
       "</style>\n",
       "<table border=\"1\" class=\"dataframe\">\n",
       "  <thead>\n",
       "    <tr style=\"text-align: right;\">\n",
       "      <th></th>\n",
       "      <th>slim</th>\n",
       "      <th>logit</th>\n",
       "      <th>ebm</th>\n",
       "      <th>shap</th>\n",
       "      <th>Average correlation</th>\n",
       "    </tr>\n",
       "  </thead>\n",
       "  <tbody>\n",
       "    <tr>\n",
       "      <td>slim</td>\n",
       "      <td>0.00000</td>\n",
       "      <td>0.05757</td>\n",
       "      <td>0.05757</td>\n",
       "      <td>0.05757</td>\n",
       "      <td>0.543350</td>\n",
       "    </tr>\n",
       "    <tr>\n",
       "      <td>logit</td>\n",
       "      <td>0.05757</td>\n",
       "      <td>0.00000</td>\n",
       "      <td>0.05757</td>\n",
       "      <td>0.05757</td>\n",
       "      <td>0.760471</td>\n",
       "    </tr>\n",
       "    <tr>\n",
       "      <td>ebm</td>\n",
       "      <td>0.05757</td>\n",
       "      <td>0.05757</td>\n",
       "      <td>0.00000</td>\n",
       "      <td>0.05757</td>\n",
       "      <td>0.816944</td>\n",
       "    </tr>\n",
       "    <tr>\n",
       "      <td>shap</td>\n",
       "      <td>0.05757</td>\n",
       "      <td>0.05757</td>\n",
       "      <td>0.05757</td>\n",
       "      <td>0.00000</td>\n",
       "      <td>0.917828</td>\n",
       "    </tr>\n",
       "  </tbody>\n",
       "</table>\n",
       "</div>"
      ],
      "text/plain": [
       "          slim    logit      ebm     shap  Average correlation\n",
       "slim   0.00000  0.05757  0.05757  0.05757             0.543350\n",
       "logit  0.05757  0.00000  0.05757  0.05757             0.760471\n",
       "ebm    0.05757  0.05757  0.00000  0.05757             0.816944\n",
       "shap   0.05757  0.05757  0.05757  0.00000             0.917828"
      ]
     },
     "metadata": {},
     "output_type": "display_data"
    }
   ],
   "source": [
    "# https://www.tandfonline.com/doi/pdf/10.1080/00273171.2013.870877?casa_token=eNnGvF6z1nEAAAAA:b2chQ5XMAVhKn7E6QLDOr0E7GtzfTdSh1hbWORhPfCmXfpJ35xernBMP6uKSVq7HCjP5nRzBV3c\n",
    "# Hedges-Vevea method\n",
    "\n",
    "import scipy.stats as st\n",
    "\n",
    "df = contrib\n",
    "models = list(df.index.levels[1])\n",
    "k = len(models)\n",
    "N = df.shape[0]/k\n",
    "P = df.shape[1]\n",
    "distance_matrix = np.zeros((k,k))\n",
    "sd_matrix = np.zeros((k,k))\n",
    "\n",
    "def pears_trans(df):\n",
    "    corr = pearsonr(df.iloc[0], df.iloc[1])[0]\n",
    "    return 0.5*np.log((1+corr)/(1-corr))\n",
    "\n",
    "def spear_trans(df):\n",
    "    corr = spearmanr(df.iloc[0], df.iloc[1])[0]\n",
    "    return 0.5*np.log((1+corr)/(1-corr))\n",
    "\n",
    "print(\"cutoff\", st.chi2.ppf(0.95, N-1))\n",
    "for i in range(k):\n",
    "    for j in range(i+1,p):\n",
    "        to_drop = models.copy()\n",
    "        del to_drop[j]\n",
    "        del to_drop[i]\n",
    "#         zs = df.drop(to_drop, level=1).groupby(level='obs').apply(spear_trans)\n",
    "        zs = df.drop(to_drop, level=1).groupby(level='obs').apply(pears_trans)\n",
    "#         plt.hist(zs)\n",
    "#         plt.show()\n",
    "        test = (P-3)*np.power(zs-zs.mean(),2).sum()\n",
    "        print(test)\n",
    "        print(to_drop)\n",
    "        agg = zs.mean()\n",
    "        diff = agg\n",
    "        sd = np.sqrt(1/(N*(P-3)))\n",
    "        distance_matrix[i,j] = round(diff,3)\n",
    "        distance_matrix[j,i] = round(diff,3)\n",
    "        sd_matrix[i,j] = round(sd,3)\n",
    "        sd_matrix[j,i] = round(sd,3)\n",
    "distance_df = pd.DataFrame(distance_matrix, models, models)\n",
    "distance_df['Average correlation'] = distance_df.sum()/(p-1)\n",
    "sd_df = pd.DataFrame(sd_matrix, models, models)\n",
    "sd_df['Average correlation'] = distance_df.sum()/(p-1)\n",
    "display(distance_df)\n",
    "display(sd_df*st.norm.ppf(.95))"
   ]
  },
  {
   "cell_type": "code",
   "execution_count": 237,
   "metadata": {},
   "outputs": [
    {
     "name": "stdout",
     "output_type": "stream",
     "text": [
      "cutoff 164.2162008581849\n"
     ]
    },
    {
     "data": {
      "text/html": [
       "<div>\n",
       "<style scoped>\n",
       "    .dataframe tbody tr th:only-of-type {\n",
       "        vertical-align: middle;\n",
       "    }\n",
       "\n",
       "    .dataframe tbody tr th {\n",
       "        vertical-align: top;\n",
       "    }\n",
       "\n",
       "    .dataframe thead th {\n",
       "        text-align: right;\n",
       "    }\n",
       "</style>\n",
       "<table border=\"1\" class=\"dataframe\">\n",
       "  <thead>\n",
       "    <tr style=\"text-align: right;\">\n",
       "      <th></th>\n",
       "      <th>slim</th>\n",
       "      <th>logit</th>\n",
       "      <th>ebm</th>\n",
       "      <th>shap</th>\n",
       "      <th>Average correlation</th>\n",
       "    </tr>\n",
       "  </thead>\n",
       "  <tbody>\n",
       "    <tr>\n",
       "      <td>slim</td>\n",
       "      <td>0.000</td>\n",
       "      <td>0.290</td>\n",
       "      <td>-0.106</td>\n",
       "      <td>-0.069</td>\n",
       "      <td>0.038333</td>\n",
       "    </tr>\n",
       "    <tr>\n",
       "      <td>logit</td>\n",
       "      <td>0.290</td>\n",
       "      <td>0.000</td>\n",
       "      <td>0.040</td>\n",
       "      <td>0.156</td>\n",
       "      <td>0.162000</td>\n",
       "    </tr>\n",
       "    <tr>\n",
       "      <td>ebm</td>\n",
       "      <td>-0.106</td>\n",
       "      <td>0.040</td>\n",
       "      <td>0.000</td>\n",
       "      <td>0.793</td>\n",
       "      <td>0.242333</td>\n",
       "    </tr>\n",
       "    <tr>\n",
       "      <td>shap</td>\n",
       "      <td>-0.069</td>\n",
       "      <td>0.156</td>\n",
       "      <td>0.793</td>\n",
       "      <td>0.000</td>\n",
       "      <td>0.293333</td>\n",
       "    </tr>\n",
       "  </tbody>\n",
       "</table>\n",
       "</div>"
      ],
      "text/plain": [
       "        slim  logit    ebm   shap  Average correlation\n",
       "slim   0.000  0.290 -0.106 -0.069             0.038333\n",
       "logit  0.290  0.000  0.040  0.156             0.162000\n",
       "ebm   -0.106  0.040  0.000  0.793             0.242333\n",
       "shap  -0.069  0.156  0.793  0.000             0.293333"
      ]
     },
     "metadata": {},
     "output_type": "display_data"
    },
    {
     "data": {
      "text/html": [
       "<div>\n",
       "<style scoped>\n",
       "    .dataframe tbody tr th:only-of-type {\n",
       "        vertical-align: middle;\n",
       "    }\n",
       "\n",
       "    .dataframe tbody tr th {\n",
       "        vertical-align: top;\n",
       "    }\n",
       "\n",
       "    .dataframe thead th {\n",
       "        text-align: right;\n",
       "    }\n",
       "</style>\n",
       "<table border=\"1\" class=\"dataframe\">\n",
       "  <thead>\n",
       "    <tr style=\"text-align: right;\">\n",
       "      <th></th>\n",
       "      <th>slim</th>\n",
       "      <th>logit</th>\n",
       "      <th>ebm</th>\n",
       "      <th>shap</th>\n",
       "      <th>Average correlation</th>\n",
       "    </tr>\n",
       "  </thead>\n",
       "  <tbody>\n",
       "    <tr>\n",
       "      <td>slim</td>\n",
       "      <td>0.000000</td>\n",
       "      <td>0.027439</td>\n",
       "      <td>0.086238</td>\n",
       "      <td>0.084278</td>\n",
       "      <td>0.075132</td>\n",
       "    </tr>\n",
       "    <tr>\n",
       "      <td>logit</td>\n",
       "      <td>0.027439</td>\n",
       "      <td>0.000000</td>\n",
       "      <td>0.066639</td>\n",
       "      <td>0.052919</td>\n",
       "      <td>0.317514</td>\n",
       "    </tr>\n",
       "    <tr>\n",
       "      <td>ebm</td>\n",
       "      <td>0.086238</td>\n",
       "      <td>0.066639</td>\n",
       "      <td>0.000000</td>\n",
       "      <td>0.017640</td>\n",
       "      <td>0.474965</td>\n",
       "    </tr>\n",
       "    <tr>\n",
       "      <td>shap</td>\n",
       "      <td>0.084278</td>\n",
       "      <td>0.052919</td>\n",
       "      <td>0.017640</td>\n",
       "      <td>0.000000</td>\n",
       "      <td>0.574923</td>\n",
       "    </tr>\n",
       "  </tbody>\n",
       "</table>\n",
       "</div>"
      ],
      "text/plain": [
       "           slim     logit       ebm      shap  Average correlation\n",
       "slim   0.000000  0.027439  0.086238  0.084278             0.075132\n",
       "logit  0.027439  0.000000  0.066639  0.052919             0.317514\n",
       "ebm    0.086238  0.066639  0.000000  0.017640             0.474965\n",
       "shap   0.084278  0.052919  0.017640  0.000000             0.574923"
      ]
     },
     "metadata": {},
     "output_type": "display_data"
    }
   ],
   "source": [
    "# https://www.tandfonline.com/doi/pdf/10.1080/00273171.2013.870877?casa_token=eNnGvF6z1nEAAAAA:b2chQ5XMAVhKn7E6QLDOr0E7GtzfTdSh1hbWORhPfCmXfpJ35xernBMP6uKSVq7HCjP5nRzBV3c\n",
    "# Hunter-Schmidt method\n",
    "\n",
    "import scipy.stats as st\n",
    "\n",
    "df = contrib\n",
    "models = list(df.index.levels[1])\n",
    "k = len(models)\n",
    "N = df.shape[0]/k\n",
    "P = df.shape[1]\n",
    "distance_matrix = np.zeros((k,k))\n",
    "sd_matrix = np.zeros((k,k))\n",
    "\n",
    "def pearson(df):\n",
    "    corr = pearsonr(df.iloc[0], df.iloc[1])[0]\n",
    "    return corr\n",
    "\n",
    "def spearman(df):\n",
    "    corr = spearmanr(df.iloc[0], df.iloc[1])[0]\n",
    "    return corr\n",
    "\n",
    "print(\"cutoff\", st.chi2.ppf(0.95, N-1))\n",
    "for i in range(k):\n",
    "    for j in range(i+1,p):\n",
    "        to_drop = models.copy()\n",
    "        del to_drop[j]\n",
    "        del to_drop[i]\n",
    "        corrs = df.drop(to_drop, level=1).groupby(level='obs').apply(spearman)\n",
    "#         corrs = df.drop(to_drop, level=1).groupby(level='obs').apply(pearson)\n",
    "        agg = corrs.mean()\n",
    "        diff = agg\n",
    "        sd = np.sqrt(np.power(corrs-agg,2).mean()/N)\n",
    "        distance_matrix[i,j] = round(diff,3)\n",
    "        distance_matrix[j,i] = round(diff,3)\n",
    "        sd_matrix[i,j] = round(sd,3)\n",
    "        sd_matrix[j,i] = round(sd,3)\n",
    "distance_df = pd.DataFrame(distance_matrix, models, models)\n",
    "distance_df['Average correlation'] = distance_df.sum()/(p-1)\n",
    "sd_df = pd.DataFrame(sd_matrix, models, models)\n",
    "sd_df['Average correlation'] = distance_df.sum()/(p-1)\n",
    "display(distance_df)\n",
    "display(sd_df*st.norm.ppf(.975))"
   ]
  },
  {
   "cell_type": "code",
   "execution_count": null,
   "metadata": {},
   "outputs": [],
   "source": [
    "contrib.shape"
   ]
  },
  {
   "cell_type": "code",
   "execution_count": null,
   "metadata": {},
   "outputs": [],
   "source": [
    "def gini(df):\n",
    "    cumsum = df.cumsum()\n",
    "    n = len(cumsum)\n",
    "    return (n+1-2*np.sum(cumsum)/cumsum[-1])/n\n",
    "\n",
    "# contrib.drop(['shap','ebm', 'logit'], level=1).groupby(level='obs').apply(gini).mean()"
   ]
  },
  {
   "cell_type": "code",
   "execution_count": null,
   "metadata": {},
   "outputs": [],
   "source": [
    "contrib.drop(['shap','ebm', 'logit'], level=1).iloc[0]"
   ]
  },
  {
   "cell_type": "code",
   "execution_count": null,
   "metadata": {},
   "outputs": [],
   "source": [
    "comparison.abs().rank(axis=1, ascending=False).mean(axis=1)"
   ]
  },
  {
   "cell_type": "code",
   "execution_count": null,
   "metadata": {},
   "outputs": [],
   "source": [
    "comparison.shape"
   ]
  },
  {
   "cell_type": "code",
   "execution_count": null,
   "metadata": {},
   "outputs": [],
   "source": []
  }
 ],
 "metadata": {
  "kernelspec": {
   "display_name": "Python 3",
   "language": "python",
   "name": "python3"
  },
  "language_info": {
   "codemirror_mode": {
    "name": "ipython",
    "version": 3
   },
   "file_extension": ".py",
   "mimetype": "text/x-python",
   "name": "python",
   "nbconvert_exporter": "python",
   "pygments_lexer": "ipython3",
   "version": "3.7.4"
  }
 },
 "nbformat": 4,
 "nbformat_minor": 4
}
