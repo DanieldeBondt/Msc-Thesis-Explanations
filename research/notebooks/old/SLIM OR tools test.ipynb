{
 "cells": [
  {
   "cell_type": "code",
   "execution_count": 11,
   "metadata": {},
   "outputs": [],
   "source": [
    "from ortools.linear_solver import pywraplp\n",
    "import os\n",
    "import pandas as pd\n",
    "import numpy as np\n",
    "import slim_os \n",
    "import slim_python as slim"
   ]
  },
  {
   "cell_type": "code",
   "execution_count": 15,
   "metadata": {},
   "outputs": [
    {
     "name": "stdout",
     "output_type": "stream",
     "text": [
      "C:\\Users\\danie\\Documents\\StageDaniel\n"
     ]
    }
   ],
   "source": [
    "cd StageDaniel"
   ]
  },
  {
   "cell_type": "code",
   "execution_count": 16,
   "metadata": {},
   "outputs": [],
   "source": [
    "def load_data(name='breastcancer'):\n",
    "# requirements for CSV data file\n",
    "# - outcome variable in first column\n",
    "# - outcome variable values should be [-1, 1] or [0, 1]\n",
    "# - first row contains names for the outcome variable + input variables\n",
    "# - no empty cells\n",
    "    data_name = name\n",
    "    data_dir = os.getcwd() + '/data/'\n",
    "    data_csv_file = data_dir + data_name + '_processed.csv'\n",
    "\n",
    "    # load data file from csv\n",
    "    df = pd.read_csv(data_csv_file, sep = ',')\n",
    "    data = df.as_matrix()\n",
    "    data_headers = list(df.columns.values)\n",
    "    N = data.shape[0]\n",
    "\n",
    "    # setup Y vector and Y_name\n",
    "    Y_col_idx = [0]\n",
    "    Y = data[:, Y_col_idx]\n",
    "    Y_name = [data_headers[j] for j in Y_col_idx]\n",
    "    Y[Y == 0] = -1\n",
    "\n",
    "    # setup X and X_names\n",
    "    X_col_idx = [j for j in range(data.shape[1]) if j not in Y_col_idx]\n",
    "    X = data[:, X_col_idx]\n",
    "    X_names = [data_headers[j] for j in X_col_idx]\n",
    "\n",
    "    # insert a column of ones to X for the intercept\n",
    "    X = np.insert(arr = X, obj = 0, values = np.ones(N), axis = 1)\n",
    "    X_names.insert(0, '(Intercept)')\n",
    "\n",
    "    # run sanity checks\n",
    "    slim.check_data(X = X, Y = Y, X_names = X_names)\n",
    "    \n",
    "    return (X, X_names, Y, Y_name)\n",
    "\n"
   ]
  },
  {
   "cell_type": "code",
   "execution_count": 17,
   "metadata": {},
   "outputs": [
    {
     "name": "stderr",
     "output_type": "stream",
     "text": [
      "C:\\Users\\danie\\Anaconda3\\lib\\site-packages\\ipykernel_launcher.py:13: FutureWarning: Method .as_matrix will be removed in a future version. Use .values instead.\n",
      "  del sys.path[0]\n"
     ]
    }
   ],
   "source": [
    "(X, X_names, Y, Y_name) = load_data(name='haberman')"
   ]
  },
  {
   "cell_type": "markdown",
   "metadata": {},
   "source": [
    "Get coefficient constraints and set slim parameters"
   ]
  },
  {
   "cell_type": "code",
   "execution_count": 19,
   "metadata": {},
   "outputs": [],
   "source": [
    "\n",
    "from slim_python.helper_functions import *\n",
    "from slim_python.SLIMCoefficientConstraints import SLIMCoefficientConstraints\n",
    "from math import ceil, floor\n",
    "print_flag = False\n",
    "\n",
    "coef_constraints = slim.SLIMCoefficientConstraints(variable_names = X_names, ub = 5, lb = -5)\n",
    "#choose upper and lower bounds for the intercept coefficient\n",
    "#to ensure that there will be no regularization due to the intercept, choose\n",
    "#\n",
    "#intercept_ub < min_i(min_score_i)\n",
    "#intercept_lb > max_i(max_score_i)\n",
    "#\n",
    "#where min_score_i = min((Y*X) * \\rho) for rho in \\Lset\n",
    "#where max_score_i = max((Y*X) * \\rho) for rho in \\Lset\n",
    "#\n",
    "#setting intercept_ub and intercept_lb in this way ensures that we can always\n",
    "# classify every point as positive and negative\n",
    "scores_at_ub = (Y * X) * coef_constraints.ub\n",
    "scores_at_lb = (Y * X) * coef_constraints.lb\n",
    "non_intercept_ind = np.array([n != '(Intercept)' for n in X_names])\n",
    "scores_at_ub = scores_at_ub[:, non_intercept_ind]\n",
    "scores_at_lb = scores_at_lb[:, non_intercept_ind]\n",
    "max_scores = np.fmax(scores_at_ub, scores_at_lb)\n",
    "min_scores = np.fmin(scores_at_ub, scores_at_lb)\n",
    "max_scores = np.sum(max_scores, 1)\n",
    "min_scores = np.sum(min_scores, 1)\n",
    "\n",
    "intercept_ub = -min(min_scores) + 1\n",
    "intercept_lb = -max(max_scores) + 1\n",
    "coef_constraints.set_field('ub', '(Intercept)', intercept_ub)\n",
    "coef_constraints.set_field('lb', '(Intercept)', intercept_lb)\n",
    "\n",
    "slim_input = {\n",
    "    'X': X,\n",
    "    'X_names': X_names,\n",
    "    'Y': Y,\n",
    "    'C_0': 0.001,\n",
    "    'w_pos': 1.0,\n",
    "    'w_neg': 1.0,\n",
    "    'L0_min': 0,\n",
    "    'L0_max': float('inf'),\n",
    "    'err_min': 0,\n",
    "    'err_max': 1.0,\n",
    "    'pos_err_min': 0,\n",
    "    'pos_err_max': 1.0,\n",
    "    'neg_err_min': 0,\n",
    "    'neg_err_max': 1.0,\n",
    "    'coef_constraints': coef_constraints\n",
    "}\n"
   ]
  },
  {
   "cell_type": "markdown",
   "metadata": {},
   "source": [
    "Create SLIM"
   ]
  },
  {
   "cell_type": "code",
   "execution_count": 20,
   "metadata": {},
   "outputs": [],
   "source": [
    "# Create SLIM\n",
    "\n",
    "from slim_python.helper_functions import *\n",
    "from slim_python.SLIMCoefficientConstraints import SLIMCoefficientConstraints\n",
    "from math import ceil, floor\n",
    "input = slim_input\n",
    "print_flag = False\n",
    "\n",
    "\n",
    "\"\"\"\n",
    ":param input: dictionary with the following keys\n",
    "%Y          N x 1 np.array of labels (-1 or 1 only)\n",
    "%X          N x P np.matrix of feature values (should include a column of 1s to act as an intercept\n",
    "%X_names    P x 1 list of strings with names of the feature values (all unique and Intercept name)\n",
    "\n",
    ":return:\n",
    "%slim_IP\n",
    "%slim_info\n",
    "\"\"\"\n",
    "\n",
    "#check preconditions\n",
    "assert 'X' in input, 'no field named X  in input'\n",
    "assert 'X_names' in input, 'no field named X_names in input'\n",
    "assert 'Y' in input, 'no field named Y in input'\n",
    "assert input['X'].shape[0] == input['Y'].shape[0]\n",
    "assert input['X'].shape[1] == len(input['X_names'])\n",
    "assert all((input['Y'] == 1) | (input['Y'] == -1))\n",
    "\n",
    "XY = input['X'] * input['Y']\n",
    "\n",
    "#sizes\n",
    "N = input['X'].shape[0]\n",
    "P = input['X'].shape[1]\n",
    "pos_ind = np.flatnonzero(input['Y'] == 1)\n",
    "neg_ind = np.flatnonzero(input['Y'] == -1)\n",
    "N_pos = len(pos_ind)\n",
    "N_neg = len(neg_ind)\n",
    "binary_data_flag = np.all((input['X'] == 0) | (input['X'] == 1))\n",
    "\n",
    "#outcome variable name\n",
    "if ('Y_name' in input) and (type(input['Y_name']) is list):\n",
    "    input['Y_name'] = input['Y_name'][0]\n",
    "elif ('Y_name' in input) and (type(input['Y_name']) is str):\n",
    "    pass\n",
    "else:\n",
    "    input['Y_name'] = 'Outcome'\n",
    "\n",
    "#TODO: check intercept conditions\n",
    "## first column of X should be all 1s\n",
    "## first element of X_name should be '(Intercept)'\n",
    "\n",
    "#set default parameters\n",
    "input = get_or_set_default(input, 'C_0', 0.01, print_flag = print_flag)\n",
    "input = get_or_set_default(input, 'w_pos', 1.0, print_flag = print_flag)\n",
    "input = get_or_set_default(input, 'w_neg', 2.0 - input['w_pos'], print_flag = print_flag)\n",
    "input = get_or_set_default(input, 'L0_min', 0, print_flag = print_flag)\n",
    "input = get_or_set_default(input, 'L0_max', P, print_flag = print_flag)\n",
    "input = get_or_set_default(input, 'err_min', 0.00, print_flag = print_flag)\n",
    "input = get_or_set_default(input, 'err_max', 1.00, print_flag = print_flag)\n",
    "input = get_or_set_default(input, 'pos_err_min', 0.00, print_flag = print_flag)\n",
    "input = get_or_set_default(input, 'pos_err_max', 1.00, print_flag = print_flag)\n",
    "input = get_or_set_default(input, 'neg_err_min', 0.00, print_flag = print_flag)\n",
    "input = get_or_set_default(input, 'neg_err_max', 1.00, print_flag = print_flag)\n",
    "\n",
    "#internal parameters\n",
    "input = get_or_set_default(input, 'C_1', float('nan'), print_flag = print_flag)\n",
    "input = get_or_set_default(input, 'M', float('nan'), print_flag = print_flag)\n",
    "input = get_or_set_default(input, 'epsilon', 0.001, print_flag = print_flag)\n",
    "\n",
    "#coefficient constraints\n",
    "if 'coef_constraints' in input:\n",
    "    coef_constraints = input['coef_constraints']\n",
    "else:\n",
    "    coef_constraints = SLIMCoefficientConstraints(variable_names = input['X_names'])\n",
    "\n",
    "\n",
    "assert len(coef_constraints) == P\n",
    "\n",
    "# bounds\n",
    "rho_lb = np.array(coef_constraints.lb)\n",
    "rho_ub = np.array(coef_constraints.ub)\n",
    "rho_max = np.maximum(np.abs(rho_lb), np.abs(rho_ub))\n",
    "beta_ub = rho_max\n",
    "beta_lb = np.zeros_like(rho_max)\n",
    "beta_lb[rho_lb > 0] = rho_lb[rho_lb > 0]\n",
    "beta_lb[rho_ub < 0] = rho_ub[rho_ub < 0]\n",
    "\n",
    "# signs\n",
    "signs = coef_constraints.sign\n",
    "sign_pos = signs == 1\n",
    "sign_neg = signs == -1\n",
    "\n",
    "#types\n",
    "types = coef_constraints.get_field_as_list('vtype')\n",
    "rho_type = ''.join(types)\n",
    "#TODO: add support for custom variable types\n",
    "\n",
    "#class-based weights\n",
    "w_pos = input['w_pos']\n",
    "w_neg = input['w_neg']\n",
    "w_total = w_pos + w_neg\n",
    "w_pos = 2.0 * (w_pos/w_total)\n",
    "w_neg = 2.0 * (w_neg/w_total)\n",
    "assert w_pos > 0.0\n",
    "assert w_neg > 0.0\n",
    "assert w_pos + w_neg == 2.0\n",
    "\n",
    "#L0 regularization penalty\n",
    "C_0j = np.copy(coef_constraints.C_0j)\n",
    "L0_reg_ind = np.isnan(C_0j)\n",
    "C_0j[L0_reg_ind] = input['C_0']\n",
    "C_0 = C_0j\n",
    "assert(all(C_0[L0_reg_ind] > 0.0))\n",
    "\n",
    "#L1 regularization penalty\n",
    "L1_reg_ind = L0_reg_ind\n",
    "if not np.isnan(input['C_1']):\n",
    "    C_1 = input['C_1']\n",
    "else:\n",
    "    C_1 = 0.5 * min(w_pos/N, w_neg/N, min(C_0[L1_reg_ind] / np.sum(rho_max)))\n",
    "C_1 = C_1 * np.ones(shape = (P,))\n",
    "C_1[~L1_reg_ind] = 0.0\n",
    "assert(all(C_1[L1_reg_ind] > 0.0))\n",
    "\n",
    "# model size bounds\n",
    "L0_min = max(input['L0_min'], 0.0)\n",
    "L0_max = min(input['L0_max'], np.sum(L0_reg_ind))\n",
    "L0_min = ceil(L0_min)\n",
    "L0_max = floor(L0_max)\n",
    "assert(L0_min <= L0_max)\n",
    "\n",
    "# total positive error bounds\n",
    "pos_err_min = 0.0 if np.isnan(input['pos_err_min']) else input['pos_err_min']\n",
    "pos_err_max = 1.0 if np.isnan(input['pos_err_max']) else input['pos_err_max']\n",
    "pos_err_min = max(ceil(N_pos*pos_err_min), 0)\n",
    "pos_err_max = min(floor(N_pos*pos_err_max), N_pos)\n",
    "\n",
    "# total negative error bounds\n",
    "neg_err_min = 0.0 if np.isnan(input['neg_err_min']) else input['neg_err_min']\n",
    "neg_err_max = 1.0 if np.isnan(input['neg_err_max']) else input['neg_err_max']\n",
    "neg_err_min = max(ceil(N_neg*neg_err_min), 0)\n",
    "neg_err_max = min(floor(N_neg*neg_err_max), N_neg)\n",
    "\n",
    "# total error bounds\n",
    "err_min = 0.0 if np.isnan(input['err_min']) else input['err_min']\n",
    "err_max = 1.0 if np.isnan(input['err_max']) else input['err_max']\n",
    "err_min = max(ceil(N*err_min), 0)\n",
    "err_max = min(floor(N*err_max), N)\n",
    "\n",
    "# sanity checks for error bounds\n",
    "assert(err_min <= err_max)\n",
    "assert(pos_err_min <= pos_err_max)\n",
    "assert(neg_err_min <= neg_err_max)\n",
    "assert(err_min >= 0)\n",
    "assert(pos_err_min >= 0)\n",
    "assert(neg_err_min >= 0)\n",
    "assert(err_max <= N)\n",
    "assert(pos_err_max <= N_pos)\n",
    "assert(neg_err_max <= N_neg)\n",
    "\n",
    "#TODO: strengthen bounds\n",
    "#loss constraint parameters\n",
    "epsilon  = input['epsilon']\n",
    "if np.isnan(input['M']):\n",
    "    max_points = np.maximum(XY * rho_lb, XY * rho_ub)\n",
    "    max_score_reg = np.sum(-np.sort(-max_points[:, L0_reg_ind])[:, 0:int(L0_max)], axis = 1)\n",
    "    max_score_no_reg = np.sum(max_points[:, ~L0_reg_ind], axis = 1)\n",
    "    max_score = max_score_reg + max_score_no_reg\n",
    "    M = max_score + 1.05 * epsilon\n",
    "else:\n",
    "    M = input['M']\n",
    "\n",
    "#sanity checks for loss constraint parameters\n",
    "M = M * np.ones(shape = (N,))\n",
    "M_max = max(np.sum(abs(XY) * rho_max, axis = 1)) + 1.05 * input['epsilon']\n",
    "assert(len(M) == N)\n",
    "assert(all(M > 0))\n",
    "assert(all(M <= M_max))\n",
    "assert(epsilon > 0.0)\n",
    "assert(epsilon < 1.0)\n",
    "\n"
   ]
  },
  {
   "cell_type": "code",
   "execution_count": 21,
   "metadata": {},
   "outputs": [],
   "source": [
    "#objective costs (we solve min total_error + N * C_0 * L0_norm + N\n",
    "err_cost = np.ones(shape = (N,))\n",
    "err_cost[pos_ind] = w_pos\n",
    "err_cost[neg_ind] = w_neg\n",
    "C_0 = N * C_0\n",
    "C_1 = N * C_1\n",
    "\n",
    "# #variable-related values\n",
    "# obj = [0.0] * P + C_0.tolist() + C_1.tolist() + err_cost.tolist()\n",
    "# ub = rho_ub.tolist() + [1] * P + beta_ub.tolist() + [1] * N\n",
    "# lb = rho_lb.tolist() + [0] * P + beta_lb.tolist() + [0] * N\n",
    "# ctype  = rho_type + 'B'*P + 'C'*P + 'B'*N\n",
    "\n",
    "#variable-related names\n",
    "rho_names   = ['rho_' + str(j) for j in range(0, P)]\n",
    "alpha_names = ['alpha_' + str(j) for j in range(0, P)]\n",
    "beta_names = ['beta_' + str(j) for j in range(0, P)]\n",
    "error_names = ['error_' + str(i) for i in range(0, N)]\n",
    "var_names = rho_names + alpha_names + beta_names + error_names\n",
    "\n",
    "#variable-related error checking\n",
    "n_var = 3 * P + N\n",
    "# assert(len(obj) == n_var)\n",
    "# assert(len(ub) == n_var)\n",
    "# assert(len(lb) == n_var)\n",
    "# assert(len(ctype) == n_var)\n",
    "assert(len(var_names) == n_var)"
   ]
  },
  {
   "cell_type": "code",
   "execution_count": 22,
   "metadata": {},
   "outputs": [
    {
     "data": {
      "text/plain": [
       "array([[  1,  30,   1,   6],\n",
       "       [  1,  30,   3,   4],\n",
       "       [  1,  30,   0,   7],\n",
       "       ...,\n",
       "       [  1,  77,   3,   7],\n",
       "       [ -1, -78,  -1,  -7],\n",
       "       [ -1, -83,  -2,   0]], dtype=int64)"
      ]
     },
     "execution_count": 22,
     "metadata": {},
     "output_type": "execute_result"
    }
   ],
   "source": [
    "XY"
   ]
  },
  {
   "cell_type": "code",
   "execution_count": 23,
   "metadata": {},
   "outputs": [],
   "source": [
    "slim_IP = pywraplp.Solver('slim_ip_program', pywraplp.Solver.CBC_MIXED_INTEGER_PROGRAMMING)"
   ]
  },
  {
   "cell_type": "code",
   "execution_count": 24,
   "metadata": {},
   "outputs": [],
   "source": [
    "#add variables\n",
    "slim_IP.Clear()\n",
    "rhos = []\n",
    "alphas = []\n",
    "betas = []\n",
    "errors = []\n",
    "for j in range(P):\n",
    "    rhos.append(slim_IP.IntVar(rho_lb[j], rho_ub[j], rho_names[j]))\n",
    "for j in range(P):\n",
    "    alphas.append(slim_IP.BoolVar( alpha_names[j]))\n",
    "for j in range(P):\n",
    "    betas.append(slim_IP.IntVar(beta_lb[j], beta_ub[j], beta_names[j]))\n",
    "for i in range(N):\n",
    "    errors.append(slim_IP.BoolVar(error_names[i]))\n"
   ]
  },
  {
   "cell_type": "code",
   "execution_count": 25,
   "metadata": {},
   "outputs": [],
   "source": [
    "#Loss Constraints\n",
    "#Enforce z_i = 1 if incorrect classification)\n",
    "#M_i * z_i >= XY[i,].dot(rho) + epsilon\n",
    "for i in range(N):\n",
    "    loss_constraint = slim_IP.Constraint(epsilon, slim_IP.infinity(), \"error_\" + str(i))\n",
    "    loss_constraint.SetCoefficient(errors[i], M[i])\n",
    "    for j in range(P):\n",
    "        loss_constraint.SetCoefficient(rhos[j], XY[i][j]/1)\n",
    "        \n",
    "# 0-Norm LB Constraints:\n",
    "# lambda_j,lb * alpha_j <= lambda_j <= Inf\n",
    "# 0 <= lambda_j - lambda_j,lb * alpha_j < Inf\n",
    "for j in range(P):\n",
    "    zero_norm_lb_constraint = slim_IP.Constraint(0, slim_IP.infinity(), \"L0_norm_lb_\" + str(j))\n",
    "    zero_norm_lb_constraint.SetCoefficient(rhos[j], 1)\n",
    "    zero_norm_lb_constraint.SetCoefficient(alphas[j], -rho_lb[j])\n",
    "\n",
    "# 0-Norm UB Constraints:\n",
    "# lambda_j <= lambda_j,ub * alpha_j\n",
    "# 0 <= -lambda_j + lambda_j,ub * alpha_j\n",
    "for j in range(P):\n",
    "    zero_norm_ub_constraint = slim_IP.Constraint(0, slim_IP.infinity(), \"L0_norm_ub_\" + str(j))\n",
    "    zero_norm_ub_constraint.SetCoefficient(rhos[j], -1)\n",
    "    zero_norm_ub_constraint.SetCoefficient(alphas[j], rho_ub[j])\n",
    "    \n",
    "# 1-Norm Positive Constraints:\n",
    "#actual constraint: lambda_j <= beta_j\n",
    "#cplex constraint:  0 <= -lambda_j + beta_j <= Inf\n",
    "for j in range(P):\n",
    "    one_norm_pos_constraint = slim_IP.Constraint(0, slim_IP.infinity(), \"L1_norm_pos_\" + str(j))\n",
    "    one_norm_pos_constraint.SetCoefficient(rhos[j], -1 )\n",
    "    one_norm_pos_constraint.SetCoefficient(betas[j], 1 )\n",
    "    \n",
    "# 1-Norm Negative Constraints:\n",
    "#actual constraint: -lambda_j <= beta_j\n",
    "#cplex constraint:  0 <= lambda_j + beta_j <= Inf\n",
    "for j in range(P):\n",
    "    one_norm_neg_constraint = slim_IP.Constraint(0, slim_IP.infinity(), \"L1_norm_neg_\" + str(j))\n",
    "    one_norm_neg_constraint.SetCoefficient(rhos[j], 1 )\n",
    "    one_norm_neg_constraint.SetCoefficient(betas[j], 1 )\n",
    "    \n"
   ]
  },
  {
   "cell_type": "code",
   "execution_count": 26,
   "metadata": {},
   "outputs": [],
   "source": [
    "objective = slim_IP.Objective() \n",
    "for j in range(P):\n",
    "    objective.SetCoefficient(alphas[j], C_0[j])\n",
    "for j in range(P):\n",
    "    objective.SetCoefficient(betas[j], C_1[j])\n",
    "for i in range(N):\n",
    "    objective.SetCoefficient(errors[i], err_cost[i])\n",
    "objective.SetOptimizationDirection(False)\n"
   ]
  },
  {
   "cell_type": "code",
   "execution_count": 27,
   "metadata": {},
   "outputs": [],
   "source": [
    "seconds = 20\n",
    "slim_IP.SetTimeLimit(seconds*1000)"
   ]
  },
  {
   "cell_type": "code",
   "execution_count": null,
   "metadata": {},
   "outputs": [],
   "source": []
  },
  {
   "cell_type": "code",
   "execution_count": 28,
   "metadata": {},
   "outputs": [
    {
     "name": "stdout",
     "output_type": "stream",
     "text": [
      "Start time:  Thu Jul  9 13:37:00 2020\n",
      "Finished at time:  Thu Jul  9 13:37:20 2020\n"
     ]
    }
   ],
   "source": [
    "print(\"Start time: \", time.ctime())\n",
    "slim_IP.Solve()\n",
    "print(\"Finished at time: \", time.ctime())"
   ]
  },
  {
   "cell_type": "code",
   "execution_count": 29,
   "metadata": {},
   "outputs": [
    {
     "data": {
      "text/plain": [
       "75.61309090909091"
      ]
     },
     "execution_count": 29,
     "metadata": {},
     "output_type": "execute_result"
    }
   ],
   "source": [
    "objective.Value()"
   ]
  },
  {
   "cell_type": "code",
   "execution_count": 30,
   "metadata": {},
   "outputs": [
    {
     "name": "stdout",
     "output_type": "stream",
     "text": [
      "[32.  0. -3. -1.]\n",
      "0.7549019607843137\n"
     ]
    }
   ],
   "source": [
    "rho_solution2 = np.array([rhos[j].SolutionValue() for j in range(P)])\n",
    "print(rho_solution2)\n",
    "\n",
    "\n",
    "total_error = 0\n",
    "for idx, error in enumerate(errors):\n",
    "    total_error += error.solution_value()\n",
    "#     print('Scoring sum: ', X[idx].dot(rho_solution))\n",
    "#     print('Error: ',error.solution_value())\n",
    "#     print('y: ', Y[idx])\n",
    "print((N-total_error)/N)"
   ]
  },
  {
   "cell_type": "code",
   "execution_count": 55,
   "metadata": {},
   "outputs": [],
   "source": [
    "# help(slim_IP)"
   ]
  },
  {
   "cell_type": "code",
   "execution_count": 56,
   "metadata": {},
   "outputs": [],
   "source": [
    "# for i in range(N):\n",
    "#     print(slim_IP.constraints()[i].name())\n",
    "#     print(slim_IP.constraints()[i].GetCoefficient(errors[i]))"
   ]
  },
  {
   "cell_type": "code",
   "execution_count": 57,
   "metadata": {},
   "outputs": [
    {
     "data": {
      "text/plain": [
       "0.0"
      ]
     },
     "execution_count": 57,
     "metadata": {},
     "output_type": "execute_result"
    }
   ],
   "source": [
    "obs = 0\n",
    "M[obs]*errors[obs].solution_value()"
   ]
  },
  {
   "cell_type": "code",
   "execution_count": 58,
   "metadata": {},
   "outputs": [
    {
     "data": {
      "text/plain": [
       "1.0"
      ]
     },
     "execution_count": 58,
     "metadata": {},
     "output_type": "execute_result"
    }
   ],
   "source": [
    "errors[0].solution_value()\n",
    "err_cost[0]"
   ]
  },
  {
   "cell_type": "code",
   "execution_count": 64,
   "metadata": {},
   "outputs": [
    {
     "data": {
      "text/plain": [
       "0.7581699346405228"
      ]
     },
     "execution_count": 64,
     "metadata": {},
     "output_type": "execute_result"
    }
   ],
   "source": [
    "(N-Total_error)/N"
   ]
  },
  {
   "cell_type": "code",
   "execution_count": 62,
   "metadata": {},
   "outputs": [
    {
     "data": {
      "text/plain": [
       "74.0"
      ]
     },
     "execution_count": 62,
     "metadata": {},
     "output_type": "execute_result"
    }
   ],
   "source": [
    "Total_error = 0\n",
    "for idx, error in enumerate(errors):\n",
    "#     print('Scoring sum: ', X[idx].dot(rho_solution))\n",
    "    Total_error += error.solution_value()\n",
    "#     print('Error: ',error.solution_value())\n",
    "#     print('y: ', Y[idx])\n"
   ]
  },
  {
   "cell_type": "code",
   "execution_count": 370,
   "metadata": {},
   "outputs": [
    {
     "name": "stdout",
     "output_type": "stream",
     "text": [
      "alpha_0 1.0\n",
      "alpha_1 0.0\n",
      "alpha_2 0.0\n",
      "alpha_3 0.0\n",
      "alpha_4 0.0\n",
      "alpha_5 0.0\n",
      "alpha_6 0.0\n",
      "alpha_7 0.0\n",
      "alpha_8 0.0\n",
      "alpha_9 0.0\n"
     ]
    }
   ],
   "source": [
    "for variable in alphas:\n",
    "    print(variable.name(), variable.solution_value())"
   ]
  },
  {
   "cell_type": "code",
   "execution_count": 373,
   "metadata": {},
   "outputs": [
    {
     "data": {
      "text/plain": [
       "array([1., 1., 1., 1., 1., 1., 1., 1., 1., 1., 1., 1., 1., 1., 1., 1., 1.,\n",
       "       1., 1., 1., 1., 1., 1., 1., 1., 1., 1., 1., 1., 1., 1., 1., 1., 1.,\n",
       "       1., 1., 1., 1., 1., 1., 1., 1., 1., 1., 1., 1., 1., 1., 1., 1., 1.,\n",
       "       1., 1., 1., 1., 1., 1., 1., 1., 1., 1., 1., 1., 1., 1., 1., 1., 1.,\n",
       "       1., 1., 1., 1., 1., 1., 1., 1., 1., 1., 1., 1., 1., 1., 1., 1., 1.,\n",
       "       1., 1., 1., 1., 1., 1., 1., 1., 1., 1., 1., 1., 1., 1., 1., 1., 1.,\n",
       "       1., 1., 1., 1., 1., 1., 1., 1., 1., 1., 1., 1., 1., 1., 1., 1., 1.,\n",
       "       1., 1., 1., 1., 1., 1., 1., 1., 1., 1., 1., 1., 1., 1., 1., 1., 1.,\n",
       "       1., 1., 1., 1., 1., 1., 1., 1., 1., 1., 1., 1., 1., 1., 1., 1., 1.,\n",
       "       1., 1., 1., 1., 1., 1., 1., 1., 1., 1., 1., 1., 1., 1., 1., 1., 1.,\n",
       "       1., 1., 1., 1., 1., 1., 1., 1., 1., 1., 1., 1., 1., 1., 1., 1., 1.,\n",
       "       1., 1., 1., 1., 1., 1., 1., 1., 1., 1., 1., 1., 1., 1., 1., 1., 1.,\n",
       "       1., 1., 1., 1., 1., 1., 1., 1., 1., 1., 1., 1., 1., 1., 1., 1., 1.,\n",
       "       1., 1., 1., 1., 1., 1., 1., 1., 1., 1., 1., 1., 1., 1., 1., 1., 1.,\n",
       "       1., 1., 1., 1., 1., 1., 1., 1., 1., 1., 1., 1., 1., 1., 1., 1., 1.,\n",
       "       1., 1., 1., 1., 1., 1., 1., 1., 1., 1., 1., 1., 1., 1., 1., 1., 1.,\n",
       "       1., 1., 1., 1., 1., 1., 1., 1., 1., 1., 1., 1., 1., 1., 1., 1., 1.,\n",
       "       1., 1., 1., 1., 1., 1., 1., 1., 1., 1., 1., 1., 1., 1., 1., 1., 1.,\n",
       "       1., 1., 1., 1., 1., 1., 1., 1., 1., 1., 1., 1., 1., 1., 1., 1., 1.,\n",
       "       1., 1., 1., 1., 1., 1., 1., 1., 1., 1., 1., 1., 1., 1., 1., 1., 1.,\n",
       "       1., 1., 1., 1., 1., 1., 1., 1., 1., 1., 1., 1., 1., 1., 1., 1., 1.,\n",
       "       1., 1., 1., 1., 1., 1., 1., 1., 1., 1., 1., 1., 1., 1., 1., 1., 1.,\n",
       "       1., 1., 1., 1., 1., 1., 1., 1., 1., 1., 1., 1., 1., 1., 1., 1., 1.,\n",
       "       1., 1., 1., 1., 1., 1., 1., 1., 1., 1., 1., 1., 1., 1., 1., 1., 1.,\n",
       "       1., 1., 1., 1., 1., 1., 1., 1., 1., 1., 1., 1., 1., 1., 1., 1., 1.,\n",
       "       1., 1., 1., 1., 1., 1., 1., 1., 1., 1., 1., 1., 1., 1., 1., 1., 1.,\n",
       "       1., 1., 1., 1., 1., 1., 1., 1., 1., 1., 1., 1., 1., 1., 1., 1., 1.,\n",
       "       1., 1., 1., 1., 1., 1., 1., 1., 1., 1., 1., 1., 1., 1., 1., 1., 1.,\n",
       "       1., 1., 1., 1., 1., 1., 1., 1., 1., 1., 1., 1., 1., 1., 1., 1., 1.,\n",
       "       1., 1., 1., 1., 1., 1., 1., 1., 1., 1., 1., 1., 1., 1., 1., 1., 1.,\n",
       "       1., 1., 1., 1., 1., 1., 1., 1., 1., 1., 1., 1., 1., 1., 1., 1., 1.,\n",
       "       1., 1., 1., 1., 1., 1., 1., 1., 1., 1., 1., 1., 1., 1., 1., 1., 1.,\n",
       "       1., 1., 1., 1., 1., 1., 1., 1., 1., 1., 1., 1., 1., 1., 1., 1., 1.,\n",
       "       1., 1., 1., 1., 1., 1., 1., 1., 1., 1., 1., 1., 1., 1., 1., 1., 1.,\n",
       "       1., 1., 1., 1., 1., 1., 1., 1., 1., 1., 1., 1., 1., 1., 1., 1., 1.,\n",
       "       1., 1., 1., 1., 1., 1., 1., 1., 1., 1., 1., 1., 1., 1., 1., 1., 1.,\n",
       "       1., 1., 1., 1., 1., 1., 1., 1., 1., 1., 1., 1., 1., 1., 1., 1., 1.,\n",
       "       1., 1., 1., 1., 1., 1., 1., 1., 1., 1., 1., 1., 1., 1., 1., 1., 1.,\n",
       "       1., 1., 1., 1., 1., 1., 1., 1., 1., 1., 1., 1., 1., 1., 1., 1., 1.,\n",
       "       1., 1., 1., 1., 1., 1., 1., 1., 1., 1., 1., 1., 1., 1., 1., 1., 1.,\n",
       "       1., 1., 1.])"
      ]
     },
     "execution_count": 373,
     "metadata": {},
     "output_type": "execute_result"
    }
   ],
   "source": [
    "err_cost"
   ]
  },
  {
   "cell_type": "code",
   "execution_count": 195,
   "metadata": {},
   "outputs": [
    {
     "data": {
      "text/plain": [
       "array([[  1,  30,   1,   6],\n",
       "       [  1,  30,   3,   4],\n",
       "       [  1,  30,   0,   7],\n",
       "       ...,\n",
       "       [  1,  77,   3,   7],\n",
       "       [ -1, -78,  -1,  -7],\n",
       "       [ -1, -83,  -2,   0]], dtype=int64)"
      ]
     },
     "execution_count": 195,
     "metadata": {},
     "output_type": "execute_result"
    }
   ],
   "source": [
    "XY"
   ]
  },
  {
   "cell_type": "code",
   "execution_count": 222,
   "metadata": {},
   "outputs": [
    {
     "data": {
      "text/plain": [
       "array([ 731.00105,  731.00105,  731.00105,  716.00105,  756.00105,\n",
       "        761.00105,  721.00105,  719.00105,  799.00105,  866.00105,\n",
       "        731.00105,  781.00105,  796.00105,  726.00105,  816.00105,\n",
       "        746.00105,  741.00105,  781.00105,  741.00105,  756.00105,\n",
       "        731.00105,  766.00105,  816.00105,  756.00105,  894.00105,\n",
       "        751.00105,  746.00105,  746.00105,  771.00105,  771.00105,\n",
       "        776.00105,  831.00105,  751.00105,  806.00105,  779.00105,\n",
       "        766.00105,  786.00105,  741.00105,  756.00105,  786.00105,\n",
       "        756.00105,  746.00105,  781.00105,  874.00105,  779.00105,\n",
       "        794.00105,  751.00105,  796.00105,  756.00105,  781.00105,\n",
       "        846.00105,  786.00105,  786.00105,  814.00105,  759.00105,\n",
       "        756.00105,  771.00105,  771.00105,  791.00105,  876.00105,\n",
       "        791.00105,  786.00105, 1019.00105,  774.00105,  789.00105,\n",
       "        789.00105,  856.00105,  801.00105,  806.00105,  771.00105,\n",
       "        796.00105,  796.00105,  821.00105,  824.00105,  809.00105,\n",
       "        884.00105,  781.00105,  796.00105,  781.00105,  891.00105,\n",
       "        834.00105,  809.00105,  819.00105,  781.00105,  816.00105,\n",
       "        846.00105,  801.00105,  821.00105,  821.00105,  784.00105,\n",
       "        844.00105,  819.00105,  909.00105,  796.00105,  791.00105,\n",
       "        801.00105,  919.00105,  799.00105,  814.00105,  796.00105,\n",
       "        836.00105,  821.00105,  826.00105,  796.00105,  811.00105,\n",
       "        851.00105,  881.00105,  839.00105,  839.00105,  864.00105,\n",
       "        841.00105,  816.00105,  816.00105,  826.00105,  814.00105,\n",
       "        869.00105,  811.00105,  811.00105,  831.00105,  806.00105,\n",
       "        816.00105,  831.00105,  806.00105,  841.00105,  884.00105,\n",
       "        824.00105,  801.00105,  841.00105,  811.00105,  826.00105,\n",
       "        801.00105,  811.00105,  811.00105,  826.00105,  851.00105,\n",
       "        841.00105,  869.00105,  819.00105,  866.00105,  811.00105,\n",
       "        836.00105,  846.00105,  874.00105,  819.00105,  839.00105,\n",
       "        864.00105,  821.00105,  851.00105,  861.00105,  836.00105,\n",
       "        841.00105,  826.00105,  831.00105,  836.00105,  841.00105,\n",
       "        856.00105,  829.00105,  849.00105,  829.00105,  864.00105,\n",
       "        954.00105,  904.00105,  816.00105,  826.00105,  831.00105,\n",
       "        831.00105,  836.00105,  879.00105,  964.00105,  874.00105,\n",
       "        899.00105,  856.00105,  841.00105,  856.00105, 1091.00105,\n",
       "        836.00105,  906.00105,  936.00105,  821.00105,  836.00105,\n",
       "        874.00105,  944.00105,  826.00105,  821.00105,  826.00105,\n",
       "        951.00105,  861.00105,  891.00105,  986.00105,  871.00105,\n",
       "        904.00105,  879.00105,  836.00105,  876.00105,  871.00105,\n",
       "        871.00105,  836.00105,  869.00105,  919.00105,  864.00105,\n",
       "        906.00105,  886.00105,  846.00105,  851.00105,  856.00105,\n",
       "        861.00105,  861.00105,  876.00105,  841.00105,  861.00105,\n",
       "        856.00105,  881.00105,  836.00105,  851.00105,  861.00105,\n",
       "       1034.00105,  851.00105,  866.00105,  876.00105,  891.00105,\n",
       "        871.00105,  906.00105,  901.00105,  934.00105,  879.00105,\n",
       "        866.00105,  901.00105,  986.00105,  876.00105,  894.00105,\n",
       "        884.00105,  904.00105,  856.00105,  856.00105,  881.00105,\n",
       "        926.00105,  901.00105,  856.00105,  924.00105,  854.00105,\n",
       "        984.00105,  906.00105,  896.00105,  896.00105,  856.00105,\n",
       "        874.00105,  876.00105,  881.00105,  886.00105,  886.00105,\n",
       "        901.00105,  921.00105, 1016.00105,  866.00105, 1011.00105,\n",
       "        906.00105,  881.00105,  916.00105,  869.00105,  894.00105,\n",
       "        999.00105,  984.00105,  871.00105,  901.00105,  916.00105,\n",
       "        886.00105,  901.00105,  921.00105,  874.00105,  954.00105,\n",
       "        876.00105,  881.00105,  926.00105,  949.00105,  909.00105,\n",
       "        921.00105,  921.00105,  896.00105,  916.00105,  931.00105,\n",
       "        936.00105,  974.00105,  901.00105,  926.00105,  931.00105,\n",
       "        894.00105,  914.00105, 1006.00105,  941.00105,  946.00105,\n",
       "        941.00105,  921.00105,  961.00105,  929.00105,  906.00105,\n",
       "        936.00105,  966.00105,  931.00105,  961.00105,  964.00105,\n",
       "        941.00105,  946.00105,  971.00105,  981.00105,  974.00105,\n",
       "        969.00105])"
      ]
     },
     "execution_count": 222,
     "metadata": {},
     "output_type": "execute_result"
    }
   ],
   "source": [
    "M"
   ]
  },
  {
   "cell_type": "code",
   "execution_count": null,
   "metadata": {},
   "outputs": [],
   "source": []
  },
  {
   "cell_type": "code",
   "execution_count": null,
   "metadata": {},
   "outputs": [],
   "source": []
  }
 ],
 "metadata": {
  "kernelspec": {
   "display_name": "Python 3",
   "language": "python",
   "name": "python3"
  },
  "language_info": {
   "codemirror_mode": {
    "name": "ipython",
    "version": 3
   },
   "file_extension": ".py",
   "mimetype": "text/x-python",
   "name": "python",
   "nbconvert_exporter": "python",
   "pygments_lexer": "ipython3",
   "version": "3.7.4"
  }
 },
 "nbformat": 4,
 "nbformat_minor": 4
}
