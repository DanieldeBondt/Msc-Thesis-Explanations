{
 "cells": [
  {
   "cell_type": "code",
   "execution_count": 1,
   "metadata": {},
   "outputs": [],
   "source": [
    "import os\n",
    "import pandas as pd\n",
    "import numpy as np"
   ]
  },
  {
   "cell_type": "code",
   "execution_count": 2,
   "metadata": {},
   "outputs": [
    {
     "name": "stdout",
     "output_type": "stream",
     "text": [
      "C:\\Users\\danie\\Documents\\StageDaniel\\research\n"
     ]
    }
   ],
   "source": [
    "cd .."
   ]
  },
  {
   "cell_type": "code",
   "execution_count": 3,
   "metadata": {},
   "outputs": [
    {
     "name": "stdout",
     "output_type": "stream",
     "text": [
      "C:\\Users\\danie\\Documents\\StageDaniel\\research\\data\n"
     ]
    }
   ],
   "source": [
    "cd data"
   ]
  },
  {
   "cell_type": "code",
   "execution_count": 14,
   "metadata": {},
   "outputs": [
    {
     "data": {
      "text/plain": [
       "'.ipynb_checkpoints'"
      ]
     },
     "execution_count": 14,
     "metadata": {},
     "output_type": "execute_result"
    }
   ],
   "source": [
    "datafiles = os.listdir('.')\n",
    "datafiles.pop(0)"
   ]
  },
  {
   "cell_type": "code",
   "execution_count": 15,
   "metadata": {},
   "outputs": [
    {
     "name": "stdout",
     "output_type": "stream",
     "text": [
      "adult\n",
      "bankruptcy\n",
      "breastcancer\n"
     ]
    },
    {
     "name": "stderr",
     "output_type": "stream",
     "text": [
      "C:\\Users\\danie\\Anaconda3\\lib\\site-packages\\ipykernel_launcher.py:16: FutureWarning: \n",
      ".ix is deprecated. Please use\n",
      ".loc for label based indexing or\n",
      ".iloc for positional indexing\n",
      "\n",
      "See the documentation here:\n",
      "http://pandas.pydata.org/pandas-docs/stable/user_guide/indexing.html#ix-indexer-is-deprecated\n",
      "  app.launch_new_instance()\n",
      "C:\\Users\\danie\\Anaconda3\\lib\\site-packages\\ipykernel_launcher.py:17: FutureWarning: \n",
      ".ix is deprecated. Please use\n",
      ".loc for label based indexing or\n",
      ".iloc for positional indexing\n",
      "\n",
      "See the documentation here:\n",
      "http://pandas.pydata.org/pandas-docs/stable/user_guide/indexing.html#ix-indexer-is-deprecated\n",
      "C:\\Users\\danie\\Anaconda3\\lib\\site-packages\\ipykernel_launcher.py:18: FutureWarning: \n",
      ".ix is deprecated. Please use\n",
      ".loc for label based indexing or\n",
      ".iloc for positional indexing\n",
      "\n",
      "See the documentation here:\n",
      "http://pandas.pydata.org/pandas-docs/stable/user_guide/indexing.html#ix-indexer-is-deprecated\n"
     ]
    },
    {
     "name": "stdout",
     "output_type": "stream",
     "text": [
      "clean_norm_poland\n",
      "haberman\n",
      "heart\n",
      "mammo\n",
      "mushroom\n",
      "spambase\n"
     ]
    }
   ],
   "source": [
    "processed_files = []\n",
    "sizes = []\n",
    "features = []\n",
    "balance = []\n",
    "positives = []\n",
    "negatives = []\n",
    "\n",
    "for filename in datafiles:\n",
    "    if 'processed' in filename:\n",
    "        data = pd.read_csv(filename, sep = ',')\n",
    "        print(filename[:-14])\n",
    "        processed_files.append(filename[:-14])\n",
    "        sizes.append(data.shape[0])\n",
    "        features.append(data.shape[1]-1)\n",
    "#         balance.append(np.round((data.ix[:,0]).mean(),2))\n",
    "        balance.append(data.ix[:,0].mean())\n",
    "        positives.append((data.ix[:,0]==1).sum())\n",
    "        negatives.append(data.shape[0]-(data.ix[:,0]==1).sum())\n",
    "        "
   ]
  },
  {
   "cell_type": "code",
   "execution_count": null,
   "metadata": {},
   "outputs": [],
   "source": []
  },
  {
   "cell_type": "code",
   "execution_count": 16,
   "metadata": {},
   "outputs": [
    {
     "data": {
      "text/html": [
       "<div>\n",
       "<style scoped>\n",
       "    .dataframe tbody tr th:only-of-type {\n",
       "        vertical-align: middle;\n",
       "    }\n",
       "\n",
       "    .dataframe tbody tr th {\n",
       "        vertical-align: top;\n",
       "    }\n",
       "\n",
       "    .dataframe thead th {\n",
       "        text-align: right;\n",
       "    }\n",
       "</style>\n",
       "<table border=\"1\" class=\"dataframe\">\n",
       "  <thead>\n",
       "    <tr style=\"text-align: right;\">\n",
       "      <th></th>\n",
       "      <th>name</th>\n",
       "      <th>negatives</th>\n",
       "      <th>positives</th>\n",
       "      <th>n</th>\n",
       "      <th>p</th>\n",
       "      <th>balance</th>\n",
       "    </tr>\n",
       "  </thead>\n",
       "  <tbody>\n",
       "    <tr>\n",
       "      <td>0</td>\n",
       "      <td>adult</td>\n",
       "      <td>24720</td>\n",
       "      <td>7841</td>\n",
       "      <td>32561</td>\n",
       "      <td>36</td>\n",
       "      <td>0.240810</td>\n",
       "    </tr>\n",
       "    <tr>\n",
       "      <td>1</td>\n",
       "      <td>bankruptcy</td>\n",
       "      <td>107</td>\n",
       "      <td>143</td>\n",
       "      <td>250</td>\n",
       "      <td>6</td>\n",
       "      <td>0.572000</td>\n",
       "    </tr>\n",
       "    <tr>\n",
       "      <td>2</td>\n",
       "      <td>breastcancer</td>\n",
       "      <td>444</td>\n",
       "      <td>239</td>\n",
       "      <td>683</td>\n",
       "      <td>9</td>\n",
       "      <td>0.349927</td>\n",
       "    </tr>\n",
       "    <tr>\n",
       "      <td>3</td>\n",
       "      <td>clean_norm_poland</td>\n",
       "      <td>38807</td>\n",
       "      <td>1932</td>\n",
       "      <td>40739</td>\n",
       "      <td>53</td>\n",
       "      <td>0.047424</td>\n",
       "    </tr>\n",
       "    <tr>\n",
       "      <td>4</td>\n",
       "      <td>haberman</td>\n",
       "      <td>81</td>\n",
       "      <td>225</td>\n",
       "      <td>306</td>\n",
       "      <td>3</td>\n",
       "      <td>0.735294</td>\n",
       "    </tr>\n",
       "    <tr>\n",
       "      <td>5</td>\n",
       "      <td>heart</td>\n",
       "      <td>164</td>\n",
       "      <td>139</td>\n",
       "      <td>303</td>\n",
       "      <td>32</td>\n",
       "      <td>0.458746</td>\n",
       "    </tr>\n",
       "    <tr>\n",
       "      <td>6</td>\n",
       "      <td>mammo</td>\n",
       "      <td>516</td>\n",
       "      <td>445</td>\n",
       "      <td>961</td>\n",
       "      <td>14</td>\n",
       "      <td>0.463059</td>\n",
       "    </tr>\n",
       "    <tr>\n",
       "      <td>7</td>\n",
       "      <td>mushroom</td>\n",
       "      <td>4208</td>\n",
       "      <td>3916</td>\n",
       "      <td>8124</td>\n",
       "      <td>113</td>\n",
       "      <td>0.482029</td>\n",
       "    </tr>\n",
       "    <tr>\n",
       "      <td>8</td>\n",
       "      <td>spambase</td>\n",
       "      <td>2788</td>\n",
       "      <td>1813</td>\n",
       "      <td>4601</td>\n",
       "      <td>57</td>\n",
       "      <td>0.394045</td>\n",
       "    </tr>\n",
       "  </tbody>\n",
       "</table>\n",
       "</div>"
      ],
      "text/plain": [
       "                name  negatives  positives      n    p   balance\n",
       "0              adult      24720       7841  32561   36  0.240810\n",
       "1         bankruptcy        107        143    250    6  0.572000\n",
       "2       breastcancer        444        239    683    9  0.349927\n",
       "3  clean_norm_poland      38807       1932  40739   53  0.047424\n",
       "4           haberman         81        225    306    3  0.735294\n",
       "5              heart        164        139    303   32  0.458746\n",
       "6              mammo        516        445    961   14  0.463059\n",
       "7           mushroom       4208       3916   8124  113  0.482029\n",
       "8           spambase       2788       1813   4601   57  0.394045"
      ]
     },
     "execution_count": 16,
     "metadata": {},
     "output_type": "execute_result"
    }
   ],
   "source": [
    "data = pd.DataFrame({'name': processed_files, 'negatives': negatives, 'positives': positives, 'n': sizes, 'p': features, 'balance': balance})\n",
    "data"
   ]
  },
  {
   "cell_type": "code",
   "execution_count": 17,
   "metadata": {},
   "outputs": [
    {
     "name": "stdout",
     "output_type": "stream",
     "text": [
      "\\begin{tabular}{lrrr}\n",
      "\\toprule\n",
      "              name &      n &    p &   balance \\\\\n",
      "\\midrule\n",
      "        bankruptcy &    250 &    6 &  0.572000 \\\\\n",
      "             heart &    303 &   32 &  0.458746 \\\\\n",
      "          haberman &    306 &    3 &  0.735294 \\\\\n",
      "      breastcancer &    683 &    9 &  0.349927 \\\\\n",
      "             mammo &    961 &   14 &  0.463059 \\\\\n",
      "          spambase &   4601 &   57 &  0.394045 \\\\\n",
      "          mushroom &   8124 &  113 &  0.482029 \\\\\n",
      "             adult &  32561 &   36 &  0.240810 \\\\\n",
      " clean\\_norm\\_poland &  40739 &   53 &  0.047424 \\\\\n",
      "\\bottomrule\n",
      "\\end{tabular}\n",
      "\n"
     ]
    }
   ],
   "source": [
    "print(data.sort_values('n').to_latex(columns=['name', 'n', 'p', 'balance'], index=False))"
   ]
  },
  {
   "cell_type": "code",
   "execution_count": 18,
   "metadata": {},
   "outputs": [
    {
     "data": {
      "text/plain": [
       "1.9051523110532902"
      ]
     },
     "execution_count": 18,
     "metadata": {},
     "output_type": "execute_result"
    }
   ],
   "source": [
    "# Computes label imbalance weight W_0 for SLIM \n",
    "2/((data['balance'].iloc[3]*40739)/((1-data['balance'].iloc[3])*40739)+1)"
   ]
  },
  {
   "cell_type": "code",
   "execution_count": 19,
   "metadata": {},
   "outputs": [
    {
     "data": {
      "text/plain": [
       "0.09484768894670981"
      ]
     },
     "execution_count": 19,
     "metadata": {},
     "output_type": "execute_result"
    }
   ],
   "source": [
    "# Computes label imbalance weight W_1 for SLIM \n",
    "2-2/((data['balance'].iloc[3]*40739)/((1-data['balance'].iloc[3])*40739)+1)"
   ]
  },
  {
   "cell_type": "code",
   "execution_count": null,
   "metadata": {},
   "outputs": [],
   "source": []
  },
  {
   "cell_type": "code",
   "execution_count": null,
   "metadata": {},
   "outputs": [],
   "source": []
  }
 ],
 "metadata": {
  "kernelspec": {
   "display_name": "Python 3",
   "language": "python",
   "name": "python3"
  },
  "language_info": {
   "codemirror_mode": {
    "name": "ipython",
    "version": 3
   },
   "file_extension": ".py",
   "mimetype": "text/x-python",
   "name": "python",
   "nbconvert_exporter": "python",
   "pygments_lexer": "ipython3",
   "version": "3.7.4"
  }
 },
 "nbformat": 4,
 "nbformat_minor": 4
}
