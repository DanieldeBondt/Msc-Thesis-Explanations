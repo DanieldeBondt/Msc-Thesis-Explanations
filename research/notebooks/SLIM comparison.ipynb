{
 "cells": [
  {
   "cell_type": "code",
   "execution_count": 1,
   "metadata": {},
   "outputs": [],
   "source": [
    "from ortools.linear_solver import pywraplp\n",
    "import os\n",
    "import time\n",
    "import pickle\n",
    "import pandas as pd\n",
    "import numpy as np\n",
    "import slim_or \n",
    "import slim_python as slim_cplex"
   ]
  },
  {
   "cell_type": "markdown",
   "metadata": {},
   "source": [
    "This Notebook can run two versions of SLIM with a CPLEX and CBC (Google OR-tools) solver respectively\n",
    "Results of several runs can be found in the SLIM comparison Excel file"
   ]
  },
  {
   "cell_type": "code",
   "execution_count": 2,
   "metadata": {},
   "outputs": [
    {
     "name": "stdout",
     "output_type": "stream",
     "text": [
      "C:\\Users\\danie\\Documents\\StageDaniel\\research\n"
     ]
    }
   ],
   "source": [
    "cd .."
   ]
  },
  {
   "cell_type": "code",
   "execution_count": 3,
   "metadata": {},
   "outputs": [
    {
     "name": "stdout",
     "output_type": "stream",
     "text": [
      "[WinError 2] Het systeem kan het opgegeven bestand niet vinden: 'research'\n",
      "C:\\Users\\danie\\Documents\\StageDaniel\\research\n"
     ]
    }
   ],
   "source": [
    "cd research"
   ]
  },
  {
   "cell_type": "markdown",
   "metadata": {},
   "source": [
    "Function for loading in the data set"
   ]
  },
  {
   "cell_type": "code",
   "execution_count": 4,
   "metadata": {
    "jupyter": {
     "source_hidden": true
    }
   },
   "outputs": [],
   "source": [
    "def load_data(name='breastcancer'):\n",
    "# requirements for CSV data file\n",
    "# - outcome variable in first column\n",
    "# - outcome variable values should be [-1, 1] or [0, 1]\n",
    "# - first row contains names for the outcome variable + input variables\n",
    "# - no empty cells\n",
    "    data_name = name\n",
    "    data_dir = os.getcwd() + '/data/'\n",
    "    data_csv_file = data_dir + data_name + '_processed.csv'\n",
    "\n",
    "    # load data file from csv\n",
    "    df = pd.read_csv(data_csv_file, sep = ',')\n",
    "    data = df.as_matrix()\n",
    "    data_headers = list(df.columns.values)\n",
    "    N = data.shape[0]\n",
    "\n",
    "    # setup Y vector and Y_name\n",
    "    Y_col_idx = [0]\n",
    "    Y = data[:, Y_col_idx]\n",
    "    Y_name = [data_headers[j] for j in Y_col_idx]\n",
    "    Y[Y == 0] = -1\n",
    "\n",
    "    # setup X and X_names\n",
    "    X_col_idx = [j for j in range(data.shape[1]) if j not in Y_col_idx]\n",
    "    X = data[:, X_col_idx]\n",
    "    X_names = [data_headers[j] for j in X_col_idx]\n",
    "\n",
    "    # insert a column of ones to X for the intercept\n",
    "    X = np.insert(arr = X, obj = 0, values = np.ones(N), axis = 1)\n",
    "    X_names.insert(0, '(Intercept)')\n",
    "\n",
    "    # run sanity checks\n",
    "    slim_cplex.check_data(X = X, Y = Y, X_names = X_names)\n",
    "    \n",
    "    return (X, X_names, Y, Y_name)"
   ]
  },
  {
   "cell_type": "markdown",
   "metadata": {},
   "source": [
    "Auxiliary functions for saving and loading of results"
   ]
  },
  {
   "cell_type": "code",
   "execution_count": 9,
   "metadata": {},
   "outputs": [],
   "source": [
    "# auxiliary function for saving results  \n",
    "def save_results(results, name ):\n",
    "    with open('results/'+ name + '.pkl', 'wb') as f:\n",
    "        pickle.dump(results, f, pickle.HIGHEST_PROTOCOL)\n",
    "\n",
    "def load_results(name ):\n",
    "    with open('results/' + name + '.pkl', 'rb') as f:\n",
    "        return pickle.load(f)"
   ]
  },
  {
   "cell_type": "markdown",
   "metadata": {},
   "source": [
    "Functions to train SLIM using either CPLEX or OR Tools"
   ]
  },
  {
   "cell_type": "code",
   "execution_count": 10,
   "metadata": {
    "jupyter": {
     "source_hidden": true
    }
   },
   "outputs": [],
   "source": [
    "def train_slim_cplex(data_info, timelimit=20, C_0= 0.01, slim_settings=None):\n",
    "      \n",
    "    (X, X_names, Y, Y_name) = data_info\n",
    "    #### TRAIN SCORING SYSTEM USING SLIM ####\n",
    "    # setup SLIM coefficient set\n",
    "    coef_constraints = slim_cplex.SLIMCoefficientConstraints(variable_names = X_names, ub = 5, lb = -5)\n",
    "    #choose upper and lower bounds for the intercept coefficient\n",
    "    #to ensure that there will be no regularization due to the intercept, choose\n",
    "    #\n",
    "    #intercept_ub < min_i(min_score_i)\n",
    "    #intercept_lb > max_i(max_score_i)\n",
    "    #\n",
    "    #where min_score_i = min((Y*X) * \\rho) for rho in \\Lset\n",
    "    #where max_score_i = max((Y*X) * \\rho) for rho in \\Lset\n",
    "    #\n",
    "    #setting intercept_ub and intercept_lb in this way ensures that we can always\n",
    "    # classify every point as positive and negative\n",
    "    scores_at_ub = (Y * X) * coef_constraints.ub\n",
    "    scores_at_lb = (Y * X) * coef_constraints.lb\n",
    "    non_intercept_ind = np.array([n != '(Intercept)' for n in X_names])\n",
    "    scores_at_ub = scores_at_ub[:, non_intercept_ind]\n",
    "    scores_at_lb = scores_at_lb[:, non_intercept_ind]\n",
    "    max_scores = np.fmax(scores_at_ub, scores_at_lb)\n",
    "    min_scores = np.fmin(scores_at_ub, scores_at_lb)\n",
    "    max_scores = np.sum(max_scores, 1)\n",
    "    min_scores = np.sum(min_scores, 1)\n",
    "\n",
    "    intercept_ub = -min(min_scores) + 1\n",
    "    intercept_lb = -max(max_scores) + 1\n",
    "    coef_constraints.set_field('ub', '(Intercept)', intercept_ub)\n",
    "    coef_constraints.set_field('lb', '(Intercept)', intercept_lb)\n",
    "        \n",
    "    #create SLIM IP\n",
    "    if slim_settings != None:\n",
    "        slim_input = slim_settings\n",
    "    else:\n",
    "        slim_input = {\n",
    "            'X': X,\n",
    "            'X_names': X_names,\n",
    "            'Y': Y,\n",
    "            'C_0': C_0,\n",
    "            'w_pos': 1.0,\n",
    "            'w_neg': 1.0,\n",
    "            'L0_min': 0,\n",
    "            'L0_max': float('inf'),\n",
    "            'err_min': 0,\n",
    "            'err_max': 1.0,\n",
    "            'pos_err_min': 0,\n",
    "            'pos_err_max': 1.0,\n",
    "            'neg_err_min': 0,\n",
    "            'neg_err_max': 1.0,\n",
    "            'coef_constraints': coef_constraints\n",
    "        }\n",
    "    \n",
    "\n",
    "    slim_IP, slim_info = slim_cplex.create_slim_IP(slim_input)\n",
    "    \n",
    "    slim_IP.set_log_stream(None)\n",
    "    slim_IP.set_error_stream(None)\n",
    "    slim_IP.set_warning_stream(None)\n",
    "    slim_IP.set_results_stream(None)\n",
    "    \n",
    "    # setup SLIM IP parameters\n",
    "    # see docs/usrccplex.pdf for more about these parameters\n",
    "    slim_IP.parameters.timelimit.set(timelimit) #set runtime here\n",
    "    #TODO: add these default settings to create_slim_IP\n",
    "    slim_IP.parameters.randomseed.set(0)\n",
    "    slim_IP.parameters.threads.set(1)\n",
    "    slim_IP.parameters.parallel.set(1)\n",
    "    slim_IP.parameters.output.clonelog.set(0)\n",
    "    slim_IP.parameters.mip.tolerances.mipgap.set(np.finfo(np.float).eps)\n",
    "    slim_IP.parameters.mip.tolerances.absmipgap.set(np.finfo(np.float).eps)\n",
    "    slim_IP.parameters.mip.tolerances.integrality.set(np.finfo(np.float).eps)\n",
    "    slim_IP.parameters.emphasis.mip.set(1)\n",
    "\n",
    "    # solve SLIM IP\n",
    "    slim_IP.solve()\n",
    "\n",
    "    # run quick and dirty tests to make sure that IP output is correct\n",
    "    slim_cplex.check_slim_IP_output(slim_IP, slim_info, X, Y, coef_constraints)\n",
    "    \n",
    "    return (slim_IP, slim_info)"
   ]
  },
  {
   "cell_type": "code",
   "execution_count": 11,
   "metadata": {
    "jupyter": {
     "source_hidden": true
    }
   },
   "outputs": [],
   "source": [
    "def train_slim_or(data_info, timelimit=20, C_0= 0.01, slim_settings=None):\n",
    "        \n",
    "    (X, X_names, Y, Y_name) = data_info\n",
    "    #### TRAIN SCORING SYSTEM USING SLIM ####\n",
    "    # setup SLIM coefficient set\n",
    "    coef_constraints = slim_or.SLIMCoefficientConstraints(variable_names = X_names, ub = 5, lb = -5)\n",
    "    #choose upper and lower bounds for the intercept coefficient\n",
    "    #to ensure that there will be no regularization due to the intercept, choose\n",
    "    #\n",
    "    #intercept_ub < min_i(min_score_i)\n",
    "    #intercept_lb > max_i(max_score_i)\n",
    "    #\n",
    "    #where min_score_i = min((Y*X) * \\rho) for rho in \\Lset\n",
    "    #where max_score_i = max((Y*X) * \\rho) for rho in \\Lset\n",
    "    #\n",
    "    #setting intercept_ub and intercept_lb in this way ensures that we can always\n",
    "    # classify every point as positive and negative\n",
    "    scores_at_ub = (Y * X) * coef_constraints.ub\n",
    "    scores_at_lb = (Y * X) * coef_constraints.lb\n",
    "    non_intercept_ind = np.array([n != '(Intercept)' for n in X_names])\n",
    "    scores_at_ub = scores_at_ub[:, non_intercept_ind]\n",
    "    scores_at_lb = scores_at_lb[:, non_intercept_ind]\n",
    "    max_scores = np.fmax(scores_at_ub, scores_at_lb)\n",
    "    min_scores = np.fmin(scores_at_ub, scores_at_lb)\n",
    "    max_scores = np.sum(max_scores, 1)\n",
    "    min_scores = np.sum(min_scores, 1)\n",
    "\n",
    "    intercept_ub = -min(min_scores) + 1\n",
    "    intercept_lb = -max(max_scores) + 1\n",
    "    coef_constraints.set_field('ub', '(Intercept)', intercept_ub)\n",
    "    coef_constraints.set_field('lb', '(Intercept)', intercept_lb)\n",
    "\n",
    "    \n",
    "    #create SLIM IP\n",
    "    if slim_settings != None:\n",
    "        slim_input = slim_settings\n",
    "    else:\n",
    "        slim_input = {\n",
    "            'X': X,\n",
    "            'X_names': X_names,\n",
    "            'Y': Y,\n",
    "            'C_0': C_0,\n",
    "            'w_pos': 1.0,\n",
    "            'w_neg': 1.0,\n",
    "            'L0_min': 0,\n",
    "            'L0_max': float('inf'),\n",
    "            'err_min': 0,\n",
    "            'err_max': 1.0,\n",
    "            'pos_err_min': 0,\n",
    "            'pos_err_max': 1.0,\n",
    "            'neg_err_min': 0,\n",
    "            'neg_err_max': 1.0,\n",
    "            'coef_constraints': coef_constraints\n",
    "        }\n",
    "    \n",
    "\n",
    "    slim_IP, slim_info = slim_or.create_slim_IP(slim_input)\n",
    "    \n",
    "    # setup SLIM IP parameters\n",
    "    # see docs/usrccplex.pdf for more about these parameters\n",
    "    slim_IP.SetTimeLimit(timelimit*1000) #set runtime here\n",
    "    \n",
    "\n",
    "    # solve SLIM IP\n",
    "    satus = slim_IP.Solve()\n",
    "    \n",
    "    # run quick and dirty tests to make sure that IP output is correct\n",
    "    #     slim_os.check_slim_IP_output(slim_IP, slim_info, X, Y, coef_constraints)\n",
    "    \n",
    "    return (slim_IP, slim_info)"
   ]
  },
  {
   "cell_type": "code",
   "execution_count": 18,
   "metadata": {},
   "outputs": [
    {
     "name": "stderr",
     "output_type": "stream",
     "text": [
      "C:\\Users\\danie\\Anaconda3\\lib\\site-packages\\ipykernel_launcher.py:13: FutureWarning: Method .as_matrix will be removed in a future version. Use .values instead.\n",
      "  del sys.path[0]\n"
     ]
    }
   ],
   "source": [
    "#  Selecting data set and setting hyperparameters\n",
    "dataset = 'adult'\n",
    "timelimit = 600\n",
    "C_0 = 0.001\n",
    "(X, X_names, Y, Y_name) = load_data(name=dataset)"
   ]
  },
  {
   "cell_type": "code",
   "execution_count": 19,
   "metadata": {},
   "outputs": [],
   "source": [
    "# Solve SLIM using CPLEX\n",
    "(cplex_model, cplex_info) = train_slim_cplex((X, X_names, Y, Y_name), timelimit, C_0)"
   ]
  },
  {
   "cell_type": "code",
   "execution_count": 20,
   "metadata": {},
   "outputs": [],
   "source": [
    "# Solve SLIM using OR-tools\n",
    "(or_model, or_info) = train_slim_or((X, X_names, Y, Y_name), timelimit, C_0)"
   ]
  },
  {
   "cell_type": "code",
   "execution_count": 22,
   "metadata": {},
   "outputs": [
    {
     "name": "stdout",
     "output_type": "stream",
     "text": [
      "C =  0.001 [ 0.  0.  0.  0.  0.  0. -1.  0. -1.  0. -1. -1.  0.  0.  0.  0.  0.  0.\n",
      "  0. -1.  0.  1.  0.  0.  0.  0. -1.  0.  0.  0.  0.  0.  0.  0.  0. -1.\n",
      "  0.]\n"
     ]
    }
   ],
   "source": [
    "or_results = slim_or.get_slim_summary(or_model, or_info, X, Y)\n",
    "\n",
    "print(\"C = \", C_0, or_results['rho'])\n",
    "# or_results['rho']"
   ]
  },
  {
   "cell_type": "code",
   "execution_count": 24,
   "metadata": {},
   "outputs": [],
   "source": [
    "# Extract results and prepare for saving to pickle\n",
    "cplex_results = slim_cplex.get_slim_summary(cplex_model, cplex_info, X, Y)\n",
    "or_results = slim_or.get_slim_summary(or_model, or_info, X, Y)\n",
    "del cplex_results['pretty_model']\n",
    "del or_results['pretty_model']"
   ]
  },
  {
   "cell_type": "code",
   "execution_count": 27,
   "metadata": {},
   "outputs": [],
   "source": [
    "# Saves the results to a pickle file\n",
    "save_results(cplex_results, 'slim_comparison/cplex_'+dataset+'_timelimit_'+str(timelimit)+'_C0_'+str(C_0))\n",
    "save_results(or_results, 'slim_comparison/or_'+dataset+'_timelimit_'+str(timelimit)+'_C0_'+str(C_0))"
   ]
  },
  {
   "cell_type": "code",
   "execution_count": 29,
   "metadata": {},
   "outputs": [],
   "source": [
    "# Automated function for training and storing results for both solvers given \n",
    "# a certain data set and parameters\n",
    "\n",
    "def test_run(dataset, timelimit, C_0):\n",
    "#     print(\"Started test run at:          \", time.ctime())\n",
    "#     print(\"Will finish approximately:    \", time.ctime(time.time()+2*timelimit))\n",
    "    (X, X_names, Y, Y_name) = load_data(name=dataset)\n",
    "    \n",
    "    (cplex_model, cplex_info) = train_slim_cplex((X, X_names, Y, Y_name), timelimit, C_0)\n",
    "    (or_model, or_info) = train_slim_or((X, X_names, Y, Y_name), timelimit, C_0)\n",
    "    \n",
    "    cplex_results = slim_cplex.get_slim_summary(cplex_model, cplex_info, X, Y)\n",
    "    or_results = slim_or.get_slim_summary(or_model, or_info, X, Y)\n",
    "    del cplex_results['pretty_model']\n",
    "    del or_results['pretty_model']\n",
    "    \n",
    "    save_results(cplex_results, 'cplex_'+dataset+'_timelimit_'+str(timelimit)+'_C0_'+str(C_0))\n",
    "    save_results(or_results, 'or_'+dataset+'_timelimit_'+str(timelimit)+'_C0_'+str(C_0))"
   ]
  },
  {
   "cell_type": "code",
   "execution_count": 36,
   "metadata": {},
   "outputs": [
    {
     "name": "stderr",
     "output_type": "stream",
     "text": [
      "C:\\Users\\danie\\Anaconda3\\lib\\site-packages\\ipykernel_launcher.py:13: FutureWarning: Method .as_matrix will be removed in a future version. Use .values instead.\n",
      "  del sys.path[0]\n"
     ]
    }
   ],
   "source": [
    "# cs = [0.00001, 0.000001, 0.0000001, 0.00000001]\n",
    "# for c in cs:\n",
    "#         test_run('mammo', 1800, c)\n",
    "test_run('adult', 3600, 0.01)"
   ]
  },
  {
   "cell_type": "code",
   "execution_count": 35,
   "metadata": {},
   "outputs": [
    {
     "name": "stdout",
     "output_type": "stream",
     "text": [
      "+-------------------------------+-------------------+-----------+\n",
      "| PREDICT O IF SCORE >= 0       |                   |           |\n",
      "| ============================= | ================= | ========= |\n",
      "| (Intercept)                   |         -1 points |   + ..... |\n",
      "| ============================= | ================= | ========= |\n",
      "| ADD POINTS FROM ROWS 1 to 1   |             SCORE |   = ..... |\n",
      "+-------------------------------+-------------------+-----------+\n"
     ]
    },
    {
     "data": {
      "text/plain": [
       "{'objective_value': 7841.0,\n",
       " 'simplex_iterations': 546548,\n",
       " 'rho': array([-1.,  0.,  0.,  0.,  0.,  0.,  0.,  0.,  0.,  0.,  0.,  0.,  0.,\n",
       "         0.,  0.,  0.,  0.,  0.,  0.,  0.,  0.,  0.,  0.,  0.,  0.,  0.,\n",
       "         0.,  0.,  0.,  0.,  0.,  0.,  0.,  0.,  0.,  0.,  0.]),\n",
       " 'string_model': '+-------------------------------+-------------------+-----------+\\n| PREDICT O IF SCORE >= 0       |                   |           |\\n| ============================= | ================= | ========= |\\n| (Intercept)                   |         -1 points |   + ..... |\\n| ============================= | ================= | ========= |\\n| ADD POINTS FROM ROWS 1 to 1   |             SCORE |   = ..... |\\n+-------------------------------+-------------------+-----------+',\n",
       " 'true_positives': 0,\n",
       " 'true_negatives': 24720,\n",
       " 'false_positives': 0,\n",
       " 'false_negatives': 7841,\n",
       " 'mistakes': 7841,\n",
       " 'error_rate': 0.2408095574460244,\n",
       " 'true_positive_rate': 0.0,\n",
       " 'false_positive_rate': 0.0,\n",
       " 'L0_norm': nan}"
      ]
     },
     "execution_count": 35,
     "metadata": {},
     "output_type": "execute_result"
    }
   ],
   "source": [
    "name='or_adult_timelimit_1800_C0_0.01'\n",
    "res = load_results(name)\n",
    "print(res['string_model'])\n",
    "res"
   ]
  },
  {
   "cell_type": "code",
   "execution_count": null,
   "metadata": {},
   "outputs": [],
   "source": []
  }
 ],
 "metadata": {
  "kernelspec": {
   "display_name": "Python 3",
   "language": "python",
   "name": "python3"
  },
  "language_info": {
   "codemirror_mode": {
    "name": "ipython",
    "version": 3
   },
   "file_extension": ".py",
   "mimetype": "text/x-python",
   "name": "python",
   "nbconvert_exporter": "python",
   "pygments_lexer": "ipython3",
   "version": "3.7.4"
  }
 },
 "nbformat": 4,
 "nbformat_minor": 4
}
